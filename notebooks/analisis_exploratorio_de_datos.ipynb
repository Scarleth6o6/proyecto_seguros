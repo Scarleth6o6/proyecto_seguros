{
 "cells": [
  {
   "cell_type": "markdown",
   "metadata": {},
   "source": [
    "# Descripción"
   ]
  },
  {
   "cell_type": "markdown",
   "metadata": {},
   "source": [
    "La compañía de seguros Sure Tomorrow quiere resolver varias tareas con la ayuda de machine learning y te pide que evalúes esa posibilidad.\n",
    "- Paso 1: encontrar clientes que sean similares a un cliente determinado. Esto ayudará a los agentes de la compañía con el marketing.\n",
    "- Paso 2: predecir la probabilidad de que un nuevo cliente reciba una prestación del seguro. ¿Puede un modelo de predictivo funcionar mejor que un modelo dummy?\n",
    "- Paso 3: predecir el número de prestaciones de seguro que un nuevo cliente pueda recibir utilizando un modelo de regresión lineal.\n",
    "- Paso 4: proteger los datos personales de los clientes sin afectar al modelo del ejercicio anterior. Es necesario desarrollar un algoritmo de transformación de datos que dificulte la recuperación de la información personal si los datos caen en manos equivocadas. Esto se denomina enmascaramiento u ofuscación de datos. Pero los datos deben protegerse de tal manera que no se vea afectada la calidad de los modelos de machine learning. No es necesario elegir el mejor modelo, basta con demostrar que el algoritmo funciona correctamente.\n"
   ]
  },
  {
   "cell_type": "markdown",
   "metadata": {},
   "source": [
    "# Preprocesamiento y exploración de datos\n",
    "\n",
    "## Inicialización"
   ]
  },
  {
   "cell_type": "code",
   "execution_count": 2,
   "metadata": {},
   "outputs": [],
   "source": [
    "import numpy as np\n",
    "import pandas as pd\n",
    "\n",
    "import seaborn as sns\n",
    "\n",
    "import sklearn.linear_model\n",
    "import sklearn.metrics\n",
    "import sklearn.neighbors\n",
    "import sklearn.preprocessing\n",
    "from sklearn.neighbors import NearestNeighbors\n",
    "from sklearn.neighbors import KNeighborsClassifier\n",
    "from sklearn.model_selection import train_test_split\n",
    "\n",
    "from IPython.display import display"
   ]
  },
  {
   "cell_type": "markdown",
   "metadata": {},
   "source": [
    "## Carga de datos"
   ]
  },
  {
   "cell_type": "markdown",
   "metadata": {},
   "source": [
    "Carga los datos y haz una revisión básica para comprobar que no hay problemas obvios."
   ]
  },
  {
   "cell_type": "code",
   "execution_count": null,
   "metadata": {},
   "outputs": [],
   "source": [
    "df = pd.read_csv('data/insurance_us.csv')"
   ]
  },
  {
   "cell_type": "markdown",
   "metadata": {},
   "source": [
    "Renombramos las columnas para que el código se vea más coherente con su estilo."
   ]
  },
  {
   "cell_type": "code",
   "execution_count": 4,
   "metadata": {},
   "outputs": [],
   "source": [
    "df = df.rename(columns={'Gender': 'gender', 'Age': 'age', 'Salary': 'income', 'Family members': 'family_members', 'Insurance benefits': 'insurance_benefits'})"
   ]
  },
  {
   "cell_type": "code",
   "execution_count": 5,
   "metadata": {},
   "outputs": [
    {
     "data": {
      "text/html": [
       "<div>\n",
       "<style scoped>\n",
       "    .dataframe tbody tr th:only-of-type {\n",
       "        vertical-align: middle;\n",
       "    }\n",
       "\n",
       "    .dataframe tbody tr th {\n",
       "        vertical-align: top;\n",
       "    }\n",
       "\n",
       "    .dataframe thead th {\n",
       "        text-align: right;\n",
       "    }\n",
       "</style>\n",
       "<table border=\"1\" class=\"dataframe\">\n",
       "  <thead>\n",
       "    <tr style=\"text-align: right;\">\n",
       "      <th></th>\n",
       "      <th>gender</th>\n",
       "      <th>age</th>\n",
       "      <th>income</th>\n",
       "      <th>family_members</th>\n",
       "      <th>insurance_benefits</th>\n",
       "    </tr>\n",
       "  </thead>\n",
       "  <tbody>\n",
       "    <tr>\n",
       "      <th>3562</th>\n",
       "      <td>1</td>\n",
       "      <td>48.0</td>\n",
       "      <td>63400.0</td>\n",
       "      <td>1</td>\n",
       "      <td>1</td>\n",
       "    </tr>\n",
       "    <tr>\n",
       "      <th>1873</th>\n",
       "      <td>0</td>\n",
       "      <td>22.0</td>\n",
       "      <td>44200.0</td>\n",
       "      <td>1</td>\n",
       "      <td>0</td>\n",
       "    </tr>\n",
       "    <tr>\n",
       "      <th>570</th>\n",
       "      <td>1</td>\n",
       "      <td>32.0</td>\n",
       "      <td>39000.0</td>\n",
       "      <td>4</td>\n",
       "      <td>0</td>\n",
       "    </tr>\n",
       "    <tr>\n",
       "      <th>302</th>\n",
       "      <td>0</td>\n",
       "      <td>29.0</td>\n",
       "      <td>42500.0</td>\n",
       "      <td>1</td>\n",
       "      <td>0</td>\n",
       "    </tr>\n",
       "    <tr>\n",
       "      <th>1631</th>\n",
       "      <td>1</td>\n",
       "      <td>30.0</td>\n",
       "      <td>33500.0</td>\n",
       "      <td>1</td>\n",
       "      <td>0</td>\n",
       "    </tr>\n",
       "    <tr>\n",
       "      <th>4240</th>\n",
       "      <td>0</td>\n",
       "      <td>27.0</td>\n",
       "      <td>37100.0</td>\n",
       "      <td>1</td>\n",
       "      <td>0</td>\n",
       "    </tr>\n",
       "    <tr>\n",
       "      <th>1308</th>\n",
       "      <td>1</td>\n",
       "      <td>32.0</td>\n",
       "      <td>63300.0</td>\n",
       "      <td>1</td>\n",
       "      <td>0</td>\n",
       "    </tr>\n",
       "    <tr>\n",
       "      <th>3441</th>\n",
       "      <td>1</td>\n",
       "      <td>23.0</td>\n",
       "      <td>13500.0</td>\n",
       "      <td>1</td>\n",
       "      <td>0</td>\n",
       "    </tr>\n",
       "    <tr>\n",
       "      <th>296</th>\n",
       "      <td>1</td>\n",
       "      <td>26.0</td>\n",
       "      <td>40600.0</td>\n",
       "      <td>4</td>\n",
       "      <td>0</td>\n",
       "    </tr>\n",
       "    <tr>\n",
       "      <th>1998</th>\n",
       "      <td>1</td>\n",
       "      <td>38.0</td>\n",
       "      <td>42200.0</td>\n",
       "      <td>2</td>\n",
       "      <td>0</td>\n",
       "    </tr>\n",
       "  </tbody>\n",
       "</table>\n",
       "</div>"
      ],
      "text/plain": [
       "      gender   age   income  family_members  insurance_benefits\n",
       "3562       1  48.0  63400.0               1                   1\n",
       "1873       0  22.0  44200.0               1                   0\n",
       "570        1  32.0  39000.0               4                   0\n",
       "302        0  29.0  42500.0               1                   0\n",
       "1631       1  30.0  33500.0               1                   0\n",
       "4240       0  27.0  37100.0               1                   0\n",
       "1308       1  32.0  63300.0               1                   0\n",
       "3441       1  23.0  13500.0               1                   0\n",
       "296        1  26.0  40600.0               4                   0\n",
       "1998       1  38.0  42200.0               2                   0"
      ]
     },
     "execution_count": 5,
     "metadata": {},
     "output_type": "execute_result"
    }
   ],
   "source": [
    "df.sample(10)"
   ]
  },
  {
   "cell_type": "code",
   "execution_count": 6,
   "metadata": {},
   "outputs": [
    {
     "name": "stdout",
     "output_type": "stream",
     "text": [
      "<class 'pandas.core.frame.DataFrame'>\n",
      "RangeIndex: 5000 entries, 0 to 4999\n",
      "Data columns (total 5 columns):\n",
      " #   Column              Non-Null Count  Dtype  \n",
      "---  ------              --------------  -----  \n",
      " 0   gender              5000 non-null   int64  \n",
      " 1   age                 5000 non-null   float64\n",
      " 2   income              5000 non-null   float64\n",
      " 3   family_members      5000 non-null   int64  \n",
      " 4   insurance_benefits  5000 non-null   int64  \n",
      "dtypes: float64(2), int64(3)\n",
      "memory usage: 195.4 KB\n"
     ]
    }
   ],
   "source": [
    "df.info()"
   ]
  },
  {
   "cell_type": "code",
   "execution_count": 7,
   "metadata": {},
   "outputs": [],
   "source": [
    "# puede que queramos cambiar el tipo de edad (de float a int) aunque esto no es crucial\n",
    "df['age'] = df['age'].astype('int')"
   ]
  },
  {
   "cell_type": "code",
   "execution_count": 8,
   "metadata": {},
   "outputs": [
    {
     "data": {
      "text/plain": [
       "dtype('int64')"
      ]
     },
     "execution_count": 8,
     "metadata": {},
     "output_type": "execute_result"
    }
   ],
   "source": [
    "# comprueba que la conversión se haya realizado con éxito\n",
    "df['age'].dtype"
   ]
  },
  {
   "cell_type": "code",
   "execution_count": 9,
   "metadata": {},
   "outputs": [
    {
     "data": {
      "text/html": [
       "<div>\n",
       "<style scoped>\n",
       "    .dataframe tbody tr th:only-of-type {\n",
       "        vertical-align: middle;\n",
       "    }\n",
       "\n",
       "    .dataframe tbody tr th {\n",
       "        vertical-align: top;\n",
       "    }\n",
       "\n",
       "    .dataframe thead th {\n",
       "        text-align: right;\n",
       "    }\n",
       "</style>\n",
       "<table border=\"1\" class=\"dataframe\">\n",
       "  <thead>\n",
       "    <tr style=\"text-align: right;\">\n",
       "      <th></th>\n",
       "      <th>gender</th>\n",
       "      <th>age</th>\n",
       "      <th>income</th>\n",
       "      <th>family_members</th>\n",
       "      <th>insurance_benefits</th>\n",
       "    </tr>\n",
       "  </thead>\n",
       "  <tbody>\n",
       "    <tr>\n",
       "      <th>count</th>\n",
       "      <td>5000.000000</td>\n",
       "      <td>5000.000000</td>\n",
       "      <td>5000.000000</td>\n",
       "      <td>5000.000000</td>\n",
       "      <td>5000.000000</td>\n",
       "    </tr>\n",
       "    <tr>\n",
       "      <th>mean</th>\n",
       "      <td>0.499000</td>\n",
       "      <td>30.952800</td>\n",
       "      <td>39916.360000</td>\n",
       "      <td>1.194200</td>\n",
       "      <td>0.148000</td>\n",
       "    </tr>\n",
       "    <tr>\n",
       "      <th>std</th>\n",
       "      <td>0.500049</td>\n",
       "      <td>8.440807</td>\n",
       "      <td>9900.083569</td>\n",
       "      <td>1.091387</td>\n",
       "      <td>0.463183</td>\n",
       "    </tr>\n",
       "    <tr>\n",
       "      <th>min</th>\n",
       "      <td>0.000000</td>\n",
       "      <td>18.000000</td>\n",
       "      <td>5300.000000</td>\n",
       "      <td>0.000000</td>\n",
       "      <td>0.000000</td>\n",
       "    </tr>\n",
       "    <tr>\n",
       "      <th>25%</th>\n",
       "      <td>0.000000</td>\n",
       "      <td>24.000000</td>\n",
       "      <td>33300.000000</td>\n",
       "      <td>0.000000</td>\n",
       "      <td>0.000000</td>\n",
       "    </tr>\n",
       "    <tr>\n",
       "      <th>50%</th>\n",
       "      <td>0.000000</td>\n",
       "      <td>30.000000</td>\n",
       "      <td>40200.000000</td>\n",
       "      <td>1.000000</td>\n",
       "      <td>0.000000</td>\n",
       "    </tr>\n",
       "    <tr>\n",
       "      <th>75%</th>\n",
       "      <td>1.000000</td>\n",
       "      <td>37.000000</td>\n",
       "      <td>46600.000000</td>\n",
       "      <td>2.000000</td>\n",
       "      <td>0.000000</td>\n",
       "    </tr>\n",
       "    <tr>\n",
       "      <th>max</th>\n",
       "      <td>1.000000</td>\n",
       "      <td>65.000000</td>\n",
       "      <td>79000.000000</td>\n",
       "      <td>6.000000</td>\n",
       "      <td>5.000000</td>\n",
       "    </tr>\n",
       "  </tbody>\n",
       "</table>\n",
       "</div>"
      ],
      "text/plain": [
       "            gender          age        income  family_members  \\\n",
       "count  5000.000000  5000.000000   5000.000000     5000.000000   \n",
       "mean      0.499000    30.952800  39916.360000        1.194200   \n",
       "std       0.500049     8.440807   9900.083569        1.091387   \n",
       "min       0.000000    18.000000   5300.000000        0.000000   \n",
       "25%       0.000000    24.000000  33300.000000        0.000000   \n",
       "50%       0.000000    30.000000  40200.000000        1.000000   \n",
       "75%       1.000000    37.000000  46600.000000        2.000000   \n",
       "max       1.000000    65.000000  79000.000000        6.000000   \n",
       "\n",
       "       insurance_benefits  \n",
       "count         5000.000000  \n",
       "mean             0.148000  \n",
       "std              0.463183  \n",
       "min              0.000000  \n",
       "25%              0.000000  \n",
       "50%              0.000000  \n",
       "75%              0.000000  \n",
       "max              5.000000  "
      ]
     },
     "execution_count": 9,
     "metadata": {},
     "output_type": "execute_result"
    }
   ],
   "source": [
    "# ahora echa un vistazo a las estadísticas descriptivas de los datos.# ¿Se ve todo bien?\n",
    "df.describe()"
   ]
  },
  {
   "cell_type": "markdown",
   "metadata": {},
   "source": [
    "Se observa que los datos en la tabla están en distintas unidades de medida, ya que cada columna representa parámetros diferentes:\n",
    "\n",
    "**gender**: Es una columna categórica codificada con valores de 0 y 1 para que el modelo pueda procesarla. La proporción de cada categoría podría influir en los resultados; el valor medio está cercano a 0.5, lo que indica una distribución bastante equilibrada entre ambas categorías.\n",
    "\n",
    "**age**: Representa la edad de los clientes en años, en un rango de 18 a 65. Esto es lógico, dado que abarca el rango laboral promedio de una persona. El 75% de los clientes tienen entre 18 y 37 años, lo cual indica una mayor presencia de adultos jóvenes.\n",
    "\n",
    "**income**: Representa los ingresos de los clientes. Esta columna tiene valores mucho mayores que las demás, con un rango de 5,300 a 79,000 y un promedio de 39,916. Será importante analizar si este promedio está influido por valores atípicos, ya que la mayoría de los clientes (75%) tiene ingresos por debajo de 46,600. La gran magnitud de esta columna en comparación con las otras podría generar un peso desproporcionado al entrenar el modelo, lo cual sugiere la necesidad de escalarla.\n",
    "\n",
    "**family_members**: Indica el número de familiares de cada cliente asegurado. La escala de esta columna parece alinearse bien con otras variables numéricas y no debería presentar problemas significativos en el análisis.\n",
    "\n",
    "**insurance_benefits**: Representa los beneficios de seguro recibidos por cada cliente. La mayoría de los valores en esta columna son cero, lo que sugiere que muchos clientes no han hecho uso de sus beneficios. Este sesgo hacia cero es relevante y puede requerir un tratamiento especial durante el entrenamiento del modelo."
   ]
  },
  {
   "cell_type": "markdown",
   "metadata": {},
   "source": [
    "## Análisis exploratorio de datos"
   ]
  },
  {
   "cell_type": "markdown",
   "metadata": {},
   "source": [
    "Vamos a comprobar rápidamente si existen determinados grupos de clientes observando el gráfico de pares."
   ]
  },
  {
   "cell_type": "code",
   "execution_count": 10,
   "metadata": {},
   "outputs": [
    {
     "data": {
      "image/png": "[encoded data removed]",
      "text/plain": [
       "<Figure size 1200x1200 with 30 Axes>"
      ]
     },
     "metadata": {},
     "output_type": "display_data"
    }
   ],
   "source": [
    "g = sns.pairplot(df, kind='hist')\n",
    "g.fig.set_size_inches(12, 12)"
   ]
  },
  {
   "cell_type": "markdown",
   "metadata": {},
   "source": [
    "De acuerdo, es un poco complicado detectar grupos obvios (clústeres) ya que es difícil combinar diversas variables simultáneamente (para analizar distribuciones multivariadas). Ahí es donde LA y ML pueden ser bastante útiles."
   ]
  },
  {
   "cell_type": "markdown",
   "metadata": {},
   "source": [
    "# Paso 1: Clientes similares"
   ]
  },
  {
   "cell_type": "code",
   "execution_count": 11,
   "metadata": {},
   "outputs": [],
   "source": [
    "feature_names = ['gender', 'age', 'income', 'family_members']"
   ]
  },
  {
   "cell_type": "code",
   "execution_count": 12,
   "metadata": {},
   "outputs": [],
   "source": [
    "def get_knn(df, n, k, metric):\n",
    "    \n",
    "    \"\"\"\n",
    "    Devuelve los k vecinos más cercanos\n",
    "\n",
    "    :param df: DataFrame de pandas utilizado para encontrar objetos similares dentro del mismo lugar  \n",
    "    :param n: número de objetos para los que se buscan los vecinos más cercanos   \n",
    "    :param k: número de vecinos más cercanos a devolver\n",
    "    :param métrica: nombre de la métrica de distancia    \"\"\"\n",
    " \n",
    "    # Instanciar el modelo de vecinos más cercanos\n",
    "    nbrs = NearestNeighbors(n_neighbors=k, metric=metric)\n",
    "    \n",
    "    # Ajustar el modelo a las características del DataFrame\n",
    "    nbrs.fit(df[feature_names])\n",
    "\n",
    "    nbrs_distances, nbrs_indices = nbrs.kneighbors([df.iloc[n][feature_names]], return_distance=True)\n",
    "    \n",
    "    df_res = pd.concat([\n",
    "        df.iloc[nbrs_indices[0]], \n",
    "        pd.DataFrame(nbrs_distances.T, index=nbrs_indices[0], columns=['distance'])\n",
    "        ], axis=1)\n",
    "    \n",
    "    return df_res"
   ]
  },
  {
   "cell_type": "code",
   "execution_count": null,
   "metadata": {},
   "outputs": [],
   "source": [
    "# Escalar datos\n",
    "transformer_mas = sklearn.preprocessing.MaxAbsScaler().fit(df[feature_names].to_numpy())\n",
    "df_scaled = df.copy()\n",
    "df_scaled.loc[:, feature_names] = transformer_mas.transform(df[feature_names].to_numpy())"
   ]
  },
  {
   "cell_type": "code",
   "execution_count": 14,
   "metadata": {},
   "outputs": [
    {
     "data": {
      "text/html": [
       "<div>\n",
       "<style scoped>\n",
       "    .dataframe tbody tr th:only-of-type {\n",
       "        vertical-align: middle;\n",
       "    }\n",
       "\n",
       "    .dataframe tbody tr th {\n",
       "        vertical-align: top;\n",
       "    }\n",
       "\n",
       "    .dataframe thead th {\n",
       "        text-align: right;\n",
       "    }\n",
       "</style>\n",
       "<table border=\"1\" class=\"dataframe\">\n",
       "  <thead>\n",
       "    <tr style=\"text-align: right;\">\n",
       "      <th></th>\n",
       "      <th>gender</th>\n",
       "      <th>age</th>\n",
       "      <th>income</th>\n",
       "      <th>family_members</th>\n",
       "      <th>insurance_benefits</th>\n",
       "    </tr>\n",
       "  </thead>\n",
       "  <tbody>\n",
       "    <tr>\n",
       "      <th>1947</th>\n",
       "      <td>0.0</td>\n",
       "      <td>0.415385</td>\n",
       "      <td>0.437975</td>\n",
       "      <td>0.166667</td>\n",
       "      <td>0</td>\n",
       "    </tr>\n",
       "    <tr>\n",
       "      <th>3087</th>\n",
       "      <td>0.0</td>\n",
       "      <td>0.476923</td>\n",
       "      <td>0.625316</td>\n",
       "      <td>0.166667</td>\n",
       "      <td>0</td>\n",
       "    </tr>\n",
       "    <tr>\n",
       "      <th>4601</th>\n",
       "      <td>1.0</td>\n",
       "      <td>0.384615</td>\n",
       "      <td>0.341772</td>\n",
       "      <td>0.333333</td>\n",
       "      <td>0</td>\n",
       "    </tr>\n",
       "    <tr>\n",
       "      <th>3296</th>\n",
       "      <td>0.0</td>\n",
       "      <td>0.415385</td>\n",
       "      <td>0.631646</td>\n",
       "      <td>0.166667</td>\n",
       "      <td>0</td>\n",
       "    </tr>\n",
       "    <tr>\n",
       "      <th>4879</th>\n",
       "      <td>1.0</td>\n",
       "      <td>0.323077</td>\n",
       "      <td>0.482278</td>\n",
       "      <td>0.000000</td>\n",
       "      <td>0</td>\n",
       "    </tr>\n",
       "  </tbody>\n",
       "</table>\n",
       "</div>"
      ],
      "text/plain": [
       "      gender       age    income  family_members  insurance_benefits\n",
       "1947     0.0  0.415385  0.437975        0.166667                   0\n",
       "3087     0.0  0.476923  0.625316        0.166667                   0\n",
       "4601     1.0  0.384615  0.341772        0.333333                   0\n",
       "3296     0.0  0.415385  0.631646        0.166667                   0\n",
       "4879     1.0  0.323077  0.482278        0.000000                   0"
      ]
     },
     "execution_count": 14,
     "metadata": {},
     "output_type": "execute_result"
    }
   ],
   "source": [
    "df_scaled.sample(5)"
   ]
  },
  {
   "cell_type": "markdown",
   "metadata": {},
   "source": [
    "Ahora, vamos a obtener registros similares para uno determinado, para cada combinación"
   ]
  },
  {
   "cell_type": "code",
   "execution_count": 15,
   "metadata": {},
   "outputs": [
    {
     "name": "stdout",
     "output_type": "stream",
     "text": [
      "Distancia Euclidiana Datos NO escalados:\n"
     ]
    },
    {
     "data": {
      "text/html": [
       "<div>\n",
       "<style scoped>\n",
       "    .dataframe tbody tr th:only-of-type {\n",
       "        vertical-align: middle;\n",
       "    }\n",
       "\n",
       "    .dataframe tbody tr th {\n",
       "        vertical-align: top;\n",
       "    }\n",
       "\n",
       "    .dataframe thead th {\n",
       "        text-align: right;\n",
       "    }\n",
       "</style>\n",
       "<table border=\"1\" class=\"dataframe\">\n",
       "  <thead>\n",
       "    <tr style=\"text-align: right;\">\n",
       "      <th></th>\n",
       "      <th>gender</th>\n",
       "      <th>age</th>\n",
       "      <th>income</th>\n",
       "      <th>family_members</th>\n",
       "      <th>insurance_benefits</th>\n",
       "      <th>distance</th>\n",
       "    </tr>\n",
       "  </thead>\n",
       "  <tbody>\n",
       "    <tr>\n",
       "      <th>0</th>\n",
       "      <td>1</td>\n",
       "      <td>41</td>\n",
       "      <td>49600.0</td>\n",
       "      <td>1</td>\n",
       "      <td>0</td>\n",
       "      <td>0.000000</td>\n",
       "    </tr>\n",
       "    <tr>\n",
       "      <th>2022</th>\n",
       "      <td>1</td>\n",
       "      <td>41</td>\n",
       "      <td>49600.0</td>\n",
       "      <td>0</td>\n",
       "      <td>0</td>\n",
       "      <td>1.000000</td>\n",
       "    </tr>\n",
       "    <tr>\n",
       "      <th>1225</th>\n",
       "      <td>0</td>\n",
       "      <td>42</td>\n",
       "      <td>49600.0</td>\n",
       "      <td>0</td>\n",
       "      <td>1</td>\n",
       "      <td>1.732051</td>\n",
       "    </tr>\n",
       "    <tr>\n",
       "      <th>4031</th>\n",
       "      <td>1</td>\n",
       "      <td>44</td>\n",
       "      <td>49600.0</td>\n",
       "      <td>2</td>\n",
       "      <td>1</td>\n",
       "      <td>3.162278</td>\n",
       "    </tr>\n",
       "    <tr>\n",
       "      <th>3424</th>\n",
       "      <td>0</td>\n",
       "      <td>38</td>\n",
       "      <td>49600.0</td>\n",
       "      <td>0</td>\n",
       "      <td>0</td>\n",
       "      <td>3.316625</td>\n",
       "    </tr>\n",
       "  </tbody>\n",
       "</table>\n",
       "</div>"
      ],
      "text/plain": [
       "      gender  age   income  family_members  insurance_benefits  distance\n",
       "0          1   41  49600.0               1                   0  0.000000\n",
       "2022       1   41  49600.0               0                   0  1.000000\n",
       "1225       0   42  49600.0               0                   1  1.732051\n",
       "4031       1   44  49600.0               2                   1  3.162278\n",
       "3424       0   38  49600.0               0                   0  3.316625"
      ]
     },
     "metadata": {},
     "output_type": "display_data"
    }
   ],
   "source": [
    "result_no_scaled = get_knn(df, n=0, k=5, metric='euclidean')\n",
    "print(\"Distancia Euclidiana Datos NO escalados:\")\n",
    "display(result_no_scaled)"
   ]
  },
  {
   "cell_type": "code",
   "execution_count": 16,
   "metadata": {},
   "outputs": [
    {
     "name": "stdout",
     "output_type": "stream",
     "text": [
      "Distancia Manhattan Datos NO escalados:\n"
     ]
    },
    {
     "data": {
      "text/html": [
       "<div>\n",
       "<style scoped>\n",
       "    .dataframe tbody tr th:only-of-type {\n",
       "        vertical-align: middle;\n",
       "    }\n",
       "\n",
       "    .dataframe tbody tr th {\n",
       "        vertical-align: top;\n",
       "    }\n",
       "\n",
       "    .dataframe thead th {\n",
       "        text-align: right;\n",
       "    }\n",
       "</style>\n",
       "<table border=\"1\" class=\"dataframe\">\n",
       "  <thead>\n",
       "    <tr style=\"text-align: right;\">\n",
       "      <th></th>\n",
       "      <th>gender</th>\n",
       "      <th>age</th>\n",
       "      <th>income</th>\n",
       "      <th>family_members</th>\n",
       "      <th>insurance_benefits</th>\n",
       "      <th>distance</th>\n",
       "    </tr>\n",
       "  </thead>\n",
       "  <tbody>\n",
       "    <tr>\n",
       "      <th>0</th>\n",
       "      <td>1</td>\n",
       "      <td>41</td>\n",
       "      <td>49600.0</td>\n",
       "      <td>1</td>\n",
       "      <td>0</td>\n",
       "      <td>0.0</td>\n",
       "    </tr>\n",
       "    <tr>\n",
       "      <th>2022</th>\n",
       "      <td>1</td>\n",
       "      <td>41</td>\n",
       "      <td>49600.0</td>\n",
       "      <td>0</td>\n",
       "      <td>0</td>\n",
       "      <td>1.0</td>\n",
       "    </tr>\n",
       "    <tr>\n",
       "      <th>1225</th>\n",
       "      <td>0</td>\n",
       "      <td>42</td>\n",
       "      <td>49600.0</td>\n",
       "      <td>0</td>\n",
       "      <td>1</td>\n",
       "      <td>3.0</td>\n",
       "    </tr>\n",
       "    <tr>\n",
       "      <th>4031</th>\n",
       "      <td>1</td>\n",
       "      <td>44</td>\n",
       "      <td>49600.0</td>\n",
       "      <td>2</td>\n",
       "      <td>1</td>\n",
       "      <td>4.0</td>\n",
       "    </tr>\n",
       "    <tr>\n",
       "      <th>3424</th>\n",
       "      <td>0</td>\n",
       "      <td>38</td>\n",
       "      <td>49600.0</td>\n",
       "      <td>0</td>\n",
       "      <td>0</td>\n",
       "      <td>5.0</td>\n",
       "    </tr>\n",
       "  </tbody>\n",
       "</table>\n",
       "</div>"
      ],
      "text/plain": [
       "      gender  age   income  family_members  insurance_benefits  distance\n",
       "0          1   41  49600.0               1                   0       0.0\n",
       "2022       1   41  49600.0               0                   0       1.0\n",
       "1225       0   42  49600.0               0                   1       3.0\n",
       "4031       1   44  49600.0               2                   1       4.0\n",
       "3424       0   38  49600.0               0                   0       5.0"
      ]
     },
     "metadata": {},
     "output_type": "display_data"
    }
   ],
   "source": [
    "result_no_scaled = get_knn(df, n=0, k=5, metric='manhattan')\n",
    "print(\"Distancia Manhattan Datos NO escalados:\")\n",
    "display(result_no_scaled)"
   ]
  },
  {
   "cell_type": "code",
   "execution_count": 17,
   "metadata": {},
   "outputs": [
    {
     "name": "stdout",
     "output_type": "stream",
     "text": [
      "Distancia Euclidiana Datos escalados:\n"
     ]
    },
    {
     "data": {
      "text/html": [
       "<div>\n",
       "<style scoped>\n",
       "    .dataframe tbody tr th:only-of-type {\n",
       "        vertical-align: middle;\n",
       "    }\n",
       "\n",
       "    .dataframe tbody tr th {\n",
       "        vertical-align: top;\n",
       "    }\n",
       "\n",
       "    .dataframe thead th {\n",
       "        text-align: right;\n",
       "    }\n",
       "</style>\n",
       "<table border=\"1\" class=\"dataframe\">\n",
       "  <thead>\n",
       "    <tr style=\"text-align: right;\">\n",
       "      <th></th>\n",
       "      <th>gender</th>\n",
       "      <th>age</th>\n",
       "      <th>income</th>\n",
       "      <th>family_members</th>\n",
       "      <th>insurance_benefits</th>\n",
       "      <th>distance</th>\n",
       "    </tr>\n",
       "  </thead>\n",
       "  <tbody>\n",
       "    <tr>\n",
       "      <th>0</th>\n",
       "      <td>1.0</td>\n",
       "      <td>0.630769</td>\n",
       "      <td>0.627848</td>\n",
       "      <td>0.166667</td>\n",
       "      <td>0</td>\n",
       "      <td>0.000000</td>\n",
       "    </tr>\n",
       "    <tr>\n",
       "      <th>2689</th>\n",
       "      <td>1.0</td>\n",
       "      <td>0.630769</td>\n",
       "      <td>0.634177</td>\n",
       "      <td>0.166667</td>\n",
       "      <td>0</td>\n",
       "      <td>0.006329</td>\n",
       "    </tr>\n",
       "    <tr>\n",
       "      <th>133</th>\n",
       "      <td>1.0</td>\n",
       "      <td>0.615385</td>\n",
       "      <td>0.636709</td>\n",
       "      <td>0.166667</td>\n",
       "      <td>0</td>\n",
       "      <td>0.017754</td>\n",
       "    </tr>\n",
       "    <tr>\n",
       "      <th>4869</th>\n",
       "      <td>1.0</td>\n",
       "      <td>0.646154</td>\n",
       "      <td>0.637975</td>\n",
       "      <td>0.166667</td>\n",
       "      <td>1</td>\n",
       "      <td>0.018418</td>\n",
       "    </tr>\n",
       "    <tr>\n",
       "      <th>3275</th>\n",
       "      <td>1.0</td>\n",
       "      <td>0.646154</td>\n",
       "      <td>0.651899</td>\n",
       "      <td>0.166667</td>\n",
       "      <td>1</td>\n",
       "      <td>0.028550</td>\n",
       "    </tr>\n",
       "  </tbody>\n",
       "</table>\n",
       "</div>"
      ],
      "text/plain": [
       "      gender       age    income  family_members  insurance_benefits  distance\n",
       "0        1.0  0.630769  0.627848        0.166667                   0  0.000000\n",
       "2689     1.0  0.630769  0.634177        0.166667                   0  0.006329\n",
       "133      1.0  0.615385  0.636709        0.166667                   0  0.017754\n",
       "4869     1.0  0.646154  0.637975        0.166667                   1  0.018418\n",
       "3275     1.0  0.646154  0.651899        0.166667                   1  0.028550"
      ]
     },
     "metadata": {},
     "output_type": "display_data"
    }
   ],
   "source": [
    "# Ejemplo: Distancia Euclidiana, datos escalados\n",
    "result_scaled = get_knn(df_scaled, n=0, k=5, metric='euclidean')\n",
    "print(\"Distancia Euclidiana Datos escalados:\")\n",
    "display(result_scaled)"
   ]
  },
  {
   "cell_type": "code",
   "execution_count": 18,
   "metadata": {},
   "outputs": [
    {
     "name": "stdout",
     "output_type": "stream",
     "text": [
      "Distancia Manhattan Datos escalados:\n"
     ]
    },
    {
     "data": {
      "text/html": [
       "<div>\n",
       "<style scoped>\n",
       "    .dataframe tbody tr th:only-of-type {\n",
       "        vertical-align: middle;\n",
       "    }\n",
       "\n",
       "    .dataframe tbody tr th {\n",
       "        vertical-align: top;\n",
       "    }\n",
       "\n",
       "    .dataframe thead th {\n",
       "        text-align: right;\n",
       "    }\n",
       "</style>\n",
       "<table border=\"1\" class=\"dataframe\">\n",
       "  <thead>\n",
       "    <tr style=\"text-align: right;\">\n",
       "      <th></th>\n",
       "      <th>gender</th>\n",
       "      <th>age</th>\n",
       "      <th>income</th>\n",
       "      <th>family_members</th>\n",
       "      <th>insurance_benefits</th>\n",
       "      <th>distance</th>\n",
       "    </tr>\n",
       "  </thead>\n",
       "  <tbody>\n",
       "    <tr>\n",
       "      <th>0</th>\n",
       "      <td>1.0</td>\n",
       "      <td>0.630769</td>\n",
       "      <td>0.627848</td>\n",
       "      <td>0.166667</td>\n",
       "      <td>0</td>\n",
       "      <td>0.000000</td>\n",
       "    </tr>\n",
       "    <tr>\n",
       "      <th>2689</th>\n",
       "      <td>1.0</td>\n",
       "      <td>0.630769</td>\n",
       "      <td>0.634177</td>\n",
       "      <td>0.166667</td>\n",
       "      <td>0</td>\n",
       "      <td>0.006329</td>\n",
       "    </tr>\n",
       "    <tr>\n",
       "      <th>133</th>\n",
       "      <td>1.0</td>\n",
       "      <td>0.615385</td>\n",
       "      <td>0.636709</td>\n",
       "      <td>0.166667</td>\n",
       "      <td>0</td>\n",
       "      <td>0.024245</td>\n",
       "    </tr>\n",
       "    <tr>\n",
       "      <th>4869</th>\n",
       "      <td>1.0</td>\n",
       "      <td>0.646154</td>\n",
       "      <td>0.637975</td>\n",
       "      <td>0.166667</td>\n",
       "      <td>1</td>\n",
       "      <td>0.025511</td>\n",
       "    </tr>\n",
       "    <tr>\n",
       "      <th>3365</th>\n",
       "      <td>1.0</td>\n",
       "      <td>0.630769</td>\n",
       "      <td>0.596203</td>\n",
       "      <td>0.166667</td>\n",
       "      <td>0</td>\n",
       "      <td>0.031646</td>\n",
       "    </tr>\n",
       "  </tbody>\n",
       "</table>\n",
       "</div>"
      ],
      "text/plain": [
       "      gender       age    income  family_members  insurance_benefits  distance\n",
       "0        1.0  0.630769  0.627848        0.166667                   0  0.000000\n",
       "2689     1.0  0.630769  0.634177        0.166667                   0  0.006329\n",
       "133      1.0  0.615385  0.636709        0.166667                   0  0.024245\n",
       "4869     1.0  0.646154  0.637975        0.166667                   1  0.025511\n",
       "3365     1.0  0.630769  0.596203        0.166667                   0  0.031646"
      ]
     },
     "metadata": {},
     "output_type": "display_data"
    }
   ],
   "source": [
    "result_scaled = get_knn(df_scaled, n=0, k=5, metric='manhattan')\n",
    "print(\"Distancia Manhattan Datos escalados:\")\n",
    "display(result_scaled)"
   ]
  },
  {
   "cell_type": "markdown",
   "metadata": {},
   "source": [
    "Respuestas a las preguntas"
   ]
  },
  {
   "cell_type": "markdown",
   "metadata": {},
   "source": [
    "**¿El hecho de que los datos no estén escalados afecta al algoritmo kNN? Si es así, ¿cómo se manifiesta?** \n",
    "\n",
    "El escalado de los datos tiene un impacto significativo en el desempeño del algoritmo kNN porque las métricas de distancia, como la Euclidiana y la Manhattan, son sensibles a las magnitudes de las características. En el caso de datos no escalados, las características con valores más grandes, como el income, dominan las distancias calculadas, mientras que características con valores más pequeños, como gender, tienen poca influencia en la determinación de los vecinos más cercanos.\n",
    "\n",
    "Al escalar los datos, cada característica contribuye de manera proporcional al cálculo de la distancia, lo que mejora la identificación de similitudes reales entre los datos. Esto es crucial en tareas de clasificación, ya que permite agrupar objetos de manera más precisa en función de todas las características relevantes."
   ]
  },
  {
   "cell_type": "markdown",
   "metadata": {},
   "source": [
    "**¿Qué tan similares son los resultados al utilizar la métrica de distancia Manhattan (independientemente del escalado)?** \n",
    "\n",
    "Los resultados obtenidos al usar la métrica de distancia Manhattan y Euclidiana son bastante similares. En los datos no escalados, la diferencia es de 1 o 2 puntos, mientras que en los datos escalados, esta diferencia es de aproximadamente 0.01. Estas diferencias pueden considerarse significativas dependiendo del contexto del modelo y la métrica utilizada.\n",
    "\n",
    "La distancia Euclidiana enfatiza diferencias grandes debido a su cálculo cuadrático, lo que puede ser beneficioso cuando las características tienen distribuciones más homogéneas o cuando se desea resaltar grandes discrepancias. Sin embargo, también es más sensible a problemas de escalado, ya que las características con valores más grandes tendrán mayor influencia.\n",
    "\n",
    "Por otro lado, la distancia Manhattan es más robusta frente a valores extremos, ya que calcula la suma de diferencias absolutas. Esto la hace adecuada para datos con características heterogéneas o donde se desea evitar el impacto desproporcionado de valores extremos.\n",
    "\n",
    "En este caso particular, al usar datos escalados, la distancia Euclidiana parece ofrecer una mejor precisión al identificar similitudes más sutiles, posiblemente debido a cómo destaca patrones más pequeños. Sin embargo, ambas métricas presentan resultados muy cercanos, lo que indica que la elección dependerá del problema específico y la naturaleza de los datos."
   ]
  },
  {
   "cell_type": "markdown",
   "metadata": {},
   "source": [
    "# Paso 2. ¿Es probable que el cliente reciba una prestación del seguro?"
   ]
  },
  {
   "cell_type": "markdown",
   "metadata": {},
   "source": [
    "En términos de machine learning podemos considerarlo como una tarea de clasificación binaria."
   ]
  },
  {
   "cell_type": "markdown",
   "metadata": {},
   "source": [
    "Con el valor de `insurance_benefits` superior a cero como objetivo, evalúa si el enfoque de clasificación kNN puede funcionar mejor que el modelo dummy.\n",
    "\n",
    "- Construir un clasificador basado en KNN y mide su calidad con la métrica F1 para k=1...10 tanto para los datos originales como para los escalados. Sería interesante observar cómo k puede influir en la métrica de evaluación y si el escalado de los datos provoca alguna diferencia. \n",
    "\n",
    "- Construir un modelo dummy que, en este caso, es simplemente un modelo aleatorio. Debería devolver \"1\" con cierta probabilidad. Probemos el modelo con cuatro valores de probabilidad: 0, la probabilidad de pagar cualquier prestación del seguro, 0.5, 1.\n",
    "\n",
    "La probabilidad de pagar cualquier prestación del seguro puede definirse como\n",
    "$$\n",
    "P\\{\\text{prestación de seguro recibida}\\}=\\frac{\\text{número de clientes que han recibido alguna prestación de seguro}}{\\text{número total de clientes}}.\n",
    "$$\n",
    "\n",
    "Divir todos los datos correspondientes a las etapas de entrenamiento/prueba respetando la proporción 70:30."
   ]
  },
  {
   "cell_type": "code",
   "execution_count": null,
   "metadata": {},
   "outputs": [],
   "source": [
    "# Clasifica los datos para definir una columna objetivo\n",
    "def set_target_split(data):\n",
    "        \"\"\"\n",
    "    Crea la columna 'insurance_benefits_received' basada en si insurance_benefits > 0.\n",
    "    Divide el DataFrame en conjuntos de entrenamiento y prueba.\n",
    "    Devuelve: train_X, test_X, train_y, test_y\n",
    "    \"\"\"\n",
    "        # Clasifica los datos\n",
    "        data['insurance_benefits_received'] = 0\n",
    "        data.loc[data['insurance_benefits'] > 0,'insurance_benefits_received']=1\n",
    "        # Divide los datos \n",
    "        train_df, test_df = train_test_split(data, test_size=0.3, random_state=1234)\n",
    "        train_X, test_X =  train_df[feature_names], test_df[feature_names]\n",
    "        train_y, test_y = train_df['insurance_benefits_received'], test_df['insurance_benefits_received']\n",
    "        return train_X, test_X, train_y, test_y"
   ]
  },
  {
   "cell_type": "code",
   "execution_count": null,
   "metadata": {},
   "outputs": [],
   "source": [
    "train_X, test_X, train_y, test_y = set_target_split(df)\n",
    "sc_train_X, sc_test_X, sc_train_y, sc_test_y = set_target_split(df_scaled)"
   ]
  },
  {
   "cell_type": "code",
   "execution_count": 21,
   "metadata": {},
   "outputs": [],
   "source": [
    "def eval_classifier(y_true, y_pred):\n",
    "    \"\"\"\n",
    "    Evalúa el modelo con métricas de F1 y matriz de confusión.\n",
    "    \"\"\"\n",
    "    f1_score = sklearn.metrics.f1_score(y_true, y_pred)\n",
    "    print(f'F1: {f1_score:.2f}')\n",
    "    cm = sklearn.metrics.confusion_matrix(y_true, y_pred, normalize='all')\n",
    "    print('Matriz de confusión')\n",
    "    print(cm)"
   ]
  },
  {
   "cell_type": "code",
   "execution_count": 22,
   "metadata": {
    "scrolled": true
   },
   "outputs": [],
   "source": [
    "# Crear y entrenar modelo de clasificacion KNeighbors\n",
    "def create_knn_model(train_X, test_X, train_y, test_y):\n",
    "    \"\"\"\n",
    "    Entrena y evalúa el modelo KNN para k=1...10.\n",
    "    \"\"\"\n",
    "    f1_scores = [] # Guardar los F1 para graficar más adelante\n",
    "    for k in range(1,11):\n",
    "        model = KNeighborsClassifier(n_neighbors=k, metric='euclidean')\n",
    "        model.fit(train_X, train_y)\n",
    "        predict_y = model.predict(test_X)\n",
    "    \n",
    "        print(f\"Resultados para 𝑘={k}:\")\n",
    "        eval_classifier(test_y, predict_y)  # Evalúa el modelo\n",
    "        print(\"-\" * 30)  # Separador para claridad\n",
    "        # Guardar F1 para análisis posterior\n",
    "        f1_scores.append(sklearn.metrics.f1_score(test_y, predict_y))\n",
    "    return f1_scores"
   ]
  },
  {
   "cell_type": "code",
   "execution_count": 23,
   "metadata": {},
   "outputs": [
    {
     "data": {
      "text/plain": [
       "0    3109\n",
       "1     391\n",
       "Name: insurance_benefits_received, dtype: int64"
      ]
     },
     "execution_count": 23,
     "metadata": {},
     "output_type": "execute_result"
    }
   ],
   "source": [
    "# comprueba el desequilibrio de clases con value_counts()\n",
    "train_y.value_counts()"
   ]
  },
  {
   "cell_type": "markdown",
   "metadata": {},
   "source": [
    "Existe un evidente desequilibrio entre los datos, sólo alrededor del 10% de estos corresponden a clientes que cobraron algún seguro"
   ]
  },
  {
   "cell_type": "code",
   "execution_count": 24,
   "metadata": {},
   "outputs": [
    {
     "name": "stdout",
     "output_type": "stream",
     "text": [
      "Modelos con datos NO escalados:\n",
      " ==============================\n",
      "Resultados para 𝑘=1:\n",
      "F1: 0.63\n",
      "Matriz de confusión\n",
      "[[0.85933333 0.02533333]\n",
      " [0.05066667 0.06466667]]\n",
      "------------------------------\n",
      "Resultados para 𝑘=2:\n",
      "F1: 0.38\n",
      "Matriz de confusión\n",
      "[[0.87666667 0.008     ]\n",
      " [0.08666667 0.02866667]]\n",
      "------------------------------\n",
      "Resultados para 𝑘=3:\n",
      "F1: 0.41\n",
      "Matriz de confusión\n",
      "[[0.87333333 0.01133333]\n",
      " [0.08266667 0.03266667]]\n",
      "------------------------------\n",
      "Resultados para 𝑘=4:\n",
      "F1: 0.21\n",
      "Matriz de confusión\n",
      "[[0.882      0.00266667]\n",
      " [0.10133333 0.014     ]]\n",
      "------------------------------\n",
      "Resultados para 𝑘=5:\n",
      "F1: 0.21\n",
      "Matriz de confusión\n",
      "[[0.87933333 0.00533333]\n",
      " [0.10133333 0.014     ]]\n",
      "------------------------------\n",
      "Resultados para 𝑘=6:\n",
      "F1: 0.11\n",
      "Matriz de confusión\n",
      "[[0.88333333 0.00133333]\n",
      " [0.10866667 0.00666667]]\n",
      "------------------------------\n",
      "Resultados para 𝑘=7:\n",
      "F1: 0.11\n",
      "Matriz de confusión\n",
      "[[0.88133333 0.00333333]\n",
      " [0.10866667 0.00666667]]\n",
      "------------------------------\n",
      "Resultados para 𝑘=8:\n",
      "F1: 0.04\n",
      "Matriz de confusión\n",
      "[[8.84000000e-01 6.66666667e-04]\n",
      " [1.12666667e-01 2.66666667e-03]]\n",
      "------------------------------\n",
      "Resultados para 𝑘=9:\n",
      "F1: 0.07\n",
      "Matriz de confusión\n",
      "[[8.84000000e-01 6.66666667e-04]\n",
      " [1.11333333e-01 4.00000000e-03]]\n",
      "------------------------------\n",
      "Resultados para 𝑘=10:\n",
      "F1: 0.03\n",
      "Matriz de confusión\n",
      "[[0.88466667 0.        ]\n",
      " [0.11333333 0.002     ]]\n",
      "------------------------------\n"
     ]
    }
   ],
   "source": [
    "# Crear modelos para datos no escalados y escalados\n",
    "print('Modelos con datos NO escalados:\\n' ,('=')*30)\n",
    "f1_no_scaling = create_knn_model(train_X, test_X, train_y, test_y)"
   ]
  },
  {
   "cell_type": "markdown",
   "metadata": {},
   "source": [
    "El modelo muestra un sesgo hacia la clase mayoritaria (0) debido al desequilibrio de los datos. Esto se refleja en las matrices de confusión, donde la mayoría de las predicciones caen en la clase 0, independientemente de los valores reales.\n",
    "\n",
    "A medida que $k$ aumenta, el modelo considera más vecinos al hacer la predicción. Como los datos no están escalados, las distancias entre puntos no reflejan adecuadamente las relaciones reales, lo que perjudica la capacidad del modelo para identificar correctamente la clase minoritaria (1). Esto aumenta los falsos positivos y reduce los verdaderos positivos, como bien observaste.\n",
    "\n",
    "El F1-Score disminuye significativamente con valores mayores de $k$, lo que confirma que el modelo tiene cada vez más dificultades para equilibrar precisión y sensibilidad al identificar la clase 1."
   ]
  },
  {
   "cell_type": "code",
   "execution_count": 25,
   "metadata": {},
   "outputs": [
    {
     "name": "stdout",
     "output_type": "stream",
     "text": [
      "Modelos con datos escalados:\n",
      " ==============================\n",
      "Resultados para 𝑘=1:\n",
      "F1: 0.95\n",
      "Matriz de confusión\n",
      "[[0.882      0.00266667]\n",
      " [0.008      0.10733333]]\n",
      "------------------------------\n",
      "Resultados para 𝑘=2:\n",
      "F1: 0.92\n",
      "Matriz de confusión\n",
      "[[0.88466667 0.        ]\n",
      " [0.018      0.09733333]]\n",
      "------------------------------\n",
      "Resultados para 𝑘=3:\n",
      "F1: 0.95\n",
      "Matriz de confusión\n",
      "[[0.88266667 0.002     ]\n",
      " [0.00866667 0.10666667]]\n",
      "------------------------------\n",
      "Resultados para 𝑘=4:\n",
      "F1: 0.93\n",
      "Matriz de confusión\n",
      "[[8.84000000e-01 6.66666667e-04]\n",
      " [1.46666667e-02 1.00666667e-01]]\n",
      "------------------------------\n",
      "Resultados para 𝑘=5:\n",
      "F1: 0.93\n",
      "Matriz de confusión\n",
      "[[0.88133333 0.00333333]\n",
      " [0.01133333 0.104     ]]\n",
      "------------------------------\n",
      "Resultados para 𝑘=6:\n",
      "F1: 0.93\n",
      "Matriz de confusión\n",
      "[[8.84000000e-01 6.66666667e-04]\n",
      " [1.53333333e-02 1.00000000e-01]]\n",
      "------------------------------\n",
      "Resultados para 𝑘=7:\n",
      "F1: 0.94\n",
      "Matriz de confusión\n",
      "[[0.88066667 0.004     ]\n",
      " [0.01       0.10533333]]\n",
      "------------------------------\n",
      "Resultados para 𝑘=8:\n",
      "F1: 0.93\n",
      "Matriz de confusión\n",
      "[[0.88466667 0.        ]\n",
      " [0.01533333 0.1       ]]\n",
      "------------------------------\n",
      "Resultados para 𝑘=9:\n",
      "F1: 0.95\n",
      "Matriz de confusión\n",
      "[[8.84000000e-01 6.66666667e-04]\n",
      " [9.33333333e-03 1.06000000e-01]]\n",
      "------------------------------\n",
      "Resultados para 𝑘=10:\n",
      "F1: 0.92\n",
      "Matriz de confusión\n",
      "[[8.84000000e-01 6.66666667e-04]\n",
      " [1.66666667e-02 9.86666667e-02]]\n",
      "------------------------------\n"
     ]
    }
   ],
   "source": [
    "print('Modelos con datos escalados:\\n' ,('=')*30)\n",
    "f1_scaling = create_knn_model(sc_train_X, sc_test_X, sc_train_y, sc_test_y)"
   ]
  },
  {
   "cell_type": "markdown",
   "metadata": {},
   "source": [
    "El modelo KNN muestra una mejora notable al trabajar con datos escalados. Esto se refleja en un incremento significativo en el recall, permitiendo detectar más verdaderos positivos sin sacrificar precisión, y un F1-Score alto y consistente para diferentes valores de $k$. A diferencia de enfoques como bosques aleatorios que podrían requerir balancear las clases, KNN escalado logra un buen desempeño directamente, gracias a su dependencia en distancias bien ajustadas. Además, su estabilidad frente a cambios en \n",
    "$k$ demuestra una robustez que lo hace adecuado para este problema."
   ]
  },
  {
   "cell_type": "markdown",
   "metadata": {},
   "source": [
    "El gráfico a continuacion muestra el rendimiento de los modelos KNN entrenados con los datos No escalados y con los datos escalados."
   ]
  },
  {
   "cell_type": "code",
   "execution_count": 26,
   "metadata": {},
   "outputs": [
    {
     "data": {
      "image/png": "[encoded data removed]",
      "text/plain": [
       "<Figure size 640x480 with 1 Axes>"
      ]
     },
     "metadata": {},
     "output_type": "display_data"
    }
   ],
   "source": [
    "# Opcional: Graficar los F1-scores para cada valor de k\n",
    "import matplotlib.pyplot as plt\n",
    "\n",
    "plt.plot(range(1, 11), f1_no_scaling, label=\"Sin Escalar\")\n",
    "plt.plot(range(1, 11), f1_scaling, label=\"Escalado\")\n",
    "plt.xlabel(\"Valor de k\")\n",
    "plt.ylabel(\"F1-score\")\n",
    "plt.title(\"Rendimiento de KNN para datos escalados y no escalados\")\n",
    "plt.legend()\n",
    "plt.show()"
   ]
  },
  {
   "cell_type": "code",
   "execution_count": 27,
   "metadata": {},
   "outputs": [],
   "source": [
    "# generar la salida de un modelo aleatorio\n",
    "def rnd_model_predict(P, size, seed=42):\n",
    "\n",
    "    rng = np.random.default_rng(seed=seed)\n",
    "    return rng.binomial(n=1, p=P, size=size)"
   ]
  },
  {
   "cell_type": "code",
   "execution_count": 28,
   "metadata": {},
   "outputs": [
    {
     "name": "stdout",
     "output_type": "stream",
     "text": [
      "La probabilidad: 0.00\n",
      "F1: 0.00\n",
      "Matriz de confusión\n",
      "[[0.8872 0.    ]\n",
      " [0.1128 0.    ]]\n",
      "\n",
      "La probabilidad: 0.11\n",
      "F1: 0.12\n",
      "Matriz de confusión\n",
      "[[0.7914 0.0958]\n",
      " [0.0994 0.0134]]\n",
      "\n",
      "La probabilidad: 0.50\n",
      "F1: 0.20\n",
      "Matriz de confusión\n",
      "[[0.456  0.4312]\n",
      " [0.053  0.0598]]\n",
      "\n",
      "La probabilidad: 1.00\n",
      "F1: 0.20\n",
      "Matriz de confusión\n",
      "[[0.     0.8872]\n",
      " [0.     0.1128]]\n",
      "\n"
     ]
    }
   ],
   "source": [
    "for P in [0, df['insurance_benefits_received'].sum() / len(df), 0.5, 1]:\n",
    "\n",
    "    print(f'La probabilidad: {P:.2f}')\n",
    "    y_pred_rnd = rnd_model_predict(P, size=len(df))\n",
    "        \n",
    "    eval_classifier(df['insurance_benefits_received'], y_pred_rnd)\n",
    "    \n",
    "    print()"
   ]
  },
  {
   "cell_type": "markdown",
   "metadata": {},
   "source": [
    "***Modelo dummy con probabilidad 0:***\n",
    "Este caso simplemente predice que todos los casos pertenecen a la clase negativa (0). Como esperabas, tiene precisión perfecta porque nunca predice falsos positivos, pero su recall es 0, lo que lleva a un F1-score de 0. Este modelo no es útil en la práctica.\n",
    "\n",
    "***Modelo dummy con probabilidad real de los datos (0.11):***\n",
    "Aquí, el modelo dummy predice la clase positiva (1) en la proporción observada en los datos reales. Esto hace que el recall aumente, ya que predice correctamente algunos de los casos positivos, pero al costo de reducir la precisión (por falsos positivos). El F1-score mejora en comparación con el modelo con probabilidad 0.\n",
    "\n",
    "***Modelo dummy con probabilidad 0.5:***\n",
    "Este modelo divide sus predicciones entre clases positivas y negativas casi uniformemente, lo que genera un gran aumento de falsos positivos y falsos negativos. Aunque mejora ligeramente el recall, la precisión sufre drásticamente, y el F1-score apenas llega a 0.2.\n",
    "\n",
    "***Modelo dummy con probabilidad 1:***\n",
    "Este caso predice que todos los casos pertenecen a la clase positiva (1). Tiene el recall más alto posible (predice todos los positivos correctamente), pero su precisión es nula porque predice positivos incluso donde no los hay, dando nuevamente un F1-score muy bajo.\n",
    "\n",
    "***Conclusión sobre KNN vs. dummy:***\n",
    "El modelo KNN claramente supera al modelo dummy en todas las probabilidades evaluadas. Esto confirma que el KNN está aprendiendo patrones significativos de los datos, mientras que el modelo dummy solo genera predicciones basadas en probabilidades sin interpretar patrones.\n"
   ]
  },
  {
   "cell_type": "markdown",
   "metadata": {},
   "source": [
    "# Paso 3. Regresión (con regresión lineal)"
   ]
  },
  {
   "cell_type": "markdown",
   "metadata": {},
   "source": [
    "Con `insurance_benefits` como objetivo, se evaluará cuál sería la RECM de un modelo de regresión lineal."
   ]
  },
  {
   "cell_type": "markdown",
   "metadata": {},
   "source": [
    "Construir una implementacion propia de Regresion Lineal. Para ello, hay que considerar cómo está formulada la solución de la tarea de regresión lineal en términos de LA. Comprueba la RECM tanto para los datos originales como para los escalados.\n",
    "\n",
    "¿Existe alguna diferencia en la RECM con respecto a estos dos casos?\n",
    "\n",
    "Denotemos\n",
    "- $X$: matriz de características; cada fila es un caso, cada columna es una característica, la primera columna está formada por unidades\n",
    "- $y$ — objetivo (un vector)\n",
    "- $\\hat{y}$ — objetivo estimado (un vector)\n",
    "- $w$ — vector de pesos\n",
    "La tarea de regresión lineal en el lenguaje de las matrices puede formularse así:\n",
    "$$\n",
    "y = Xw\n",
    "$$\n",
    "\n",
    "El objetivo de entrenamiento es entonces encontrar esa $w$  que minimice la distancia L2 (ECM) entre $Xw$ y $y$:\n",
    "\n",
    "$$\n",
    "\\min_w d_2(Xw, y) \\quad \\text{or} \\quad \\min_w \\text{MSE}(Xw, y)\n",
    "$$\n",
    "\n",
    "Parece que hay una solución analítica para lo anteriormente expuesto:\n",
    "$$\n",
    "w = (X^T X)^{-1} X^T y\n",
    "$$\n",
    "\n",
    "La fórmula anterior puede servir para encontrar los pesos $w$ y estos últimos pueden utilizarse para calcular los valores predichos\n",
    "$$\n",
    "\\hat{y} = X_{val}w\n",
    "$$"
   ]
  },
  {
   "cell_type": "markdown",
   "metadata": {},
   "source": [
    "Divide todos los datos correspondientes a las etapas de entrenamiento/prueba respetando la proporción 70:30. Utiliza la métrica RECM para evaluar el modelo."
   ]
  },
  {
   "cell_type": "code",
   "execution_count": 29,
   "metadata": {},
   "outputs": [],
   "source": [
    "class MyLinearRegression:\n",
    "    \n",
    "    def __init__(self):\n",
    "        \"\"\"crea el atributo weighs para la clase MyLinearRegression\"\"\"\n",
    "        self.weights = None\n",
    "    \n",
    "    def fit(self, X, y):\n",
    "        \"\"\"Entrena el modelo\"\"\"\n",
    "        #añadir las unidades\n",
    "        X2 = np.append(np.ones([len(X), 1]), X, axis=1)\n",
    "        self.weights = np.linalg.inv(X2.T @ X2) @ X2.T @ y\n",
    "\n",
    "    def predict(self, X):\n",
    "        \"\"\"Predice los cuantos clientes cobraran seguros\"\"\"\n",
    "        # añadir las unidades\n",
    "        X2 = np.append(np.ones([len(X),1]), X, axis=1)\n",
    "        y_pred = X2 @ self.weights\n",
    "        \n",
    "        return y_pred"
   ]
  },
  {
   "cell_type": "code",
   "execution_count": 30,
   "metadata": {},
   "outputs": [],
   "source": [
    "\n",
    "def eval_regressor(y_true, y_pred):\n",
    "    \"\"\"Evalua modelos de Regresion Lineal\"\"\"\n",
    "    rmse = np.sqrt(sklearn.metrics.mean_squared_error(y_true, y_pred))\n",
    "    print(f'RMSE: {rmse:.2f}')   \n",
    "    r2_score = sklearn.metrics.r2_score(y_true, y_pred)\n",
    "    print(f'R2: {r2_score:.2f}')    \n",
    "    return rmse, r2_score"
   ]
  },
  {
   "cell_type": "code",
   "execution_count": 31,
   "metadata": {},
   "outputs": [],
   "source": [
    "def create_train_lr(data):\n",
    "    \"\"\"\n",
    "    Separa los datos del dataframe en caracteristicas y objetivos\n",
    "    Divide los datos para entrenamiento y prueva con proporcion 70:30\n",
    "    Crea y entrena un modelo de Regresion Lineal con la clase MyLinearRegression\n",
    "    Imprime el peso de cada una de las caracteristicas para el modelo\n",
    "    Evalua El RMSE y R2 del modelo\"\"\"\n",
    "    \n",
    "    X = data[['age', 'gender', 'income', 'family_members']].to_numpy()\n",
    "    y = data['insurance_benefits'].to_numpy()\n",
    "\n",
    "    X_train, X_test, y_train, y_test = train_test_split(X, y, test_size=0.3, random_state=12345)\n",
    "\n",
    "    lr = MyLinearRegression()\n",
    "\n",
    "    lr.fit(X_train, y_train)\n",
    "    \n",
    "    # Imprime con tabulación \n",
    "    print(f\"{'Feature':<15} {'Weight':<15}\")  # Encabezados con ancho fijo\n",
    "    print(\"-\" * 30)\n",
    "    for name, weight in zip(feature_names, lr.weights):\n",
    "        print(f\"{name:<15} :{weight:<15.6e}\")  # Cada columna alineada\n",
    "    print(\"=\" * 30)\n",
    "    y_test_pred = lr.predict(X_test)\n",
    "    return eval_regressor(y_test, y_test_pred)"
   ]
  },
  {
   "cell_type": "code",
   "execution_count": 32,
   "metadata": {},
   "outputs": [
    {
     "name": "stdout",
     "output_type": "stream",
     "text": [
      "Feature         Weight         \n",
      "------------------------------\n",
      "gender          :-9.435390e-01  \n",
      "age             :3.574955e-02   \n",
      "income          :1.642727e-02   \n",
      "family_members  :-2.607437e-07  \n",
      "==============================\n",
      "RMSE: 0.34\n",
      "R2: 0.43\n"
     ]
    }
   ],
   "source": [
    "lr_model_normal_data = create_train_lr(df)"
   ]
  },
  {
   "cell_type": "code",
   "execution_count": 33,
   "metadata": {},
   "outputs": [
    {
     "name": "stdout",
     "output_type": "stream",
     "text": [
      "Feature         Weight         \n",
      "------------------------------\n",
      "gender          :-9.435390e-01  \n",
      "age             :2.323721e+00   \n",
      "income          :1.642727e-02   \n",
      "family_members  :-2.059875e-02  \n",
      "==============================\n",
      "RMSE: 0.34\n",
      "R2: 0.43\n"
     ]
    }
   ],
   "source": [
    "lr_model_scaled_data = create_train_lr(df_scaled)"
   ]
  },
  {
   "cell_type": "markdown",
   "metadata": {},
   "source": [
    "A pesar de las diferencias en el vector de pesos, los valores de ***RMSE*** y ***R²*** son iguales para los modelos de regresión lineal con datos escalados y no escalados. Esto confirma que el escalado de las características no afecta la calidad del modelo en términos de error y capacidad explicativa, pero sí cambia la magnitud de los coeficientes."
   ]
  },
  {
   "cell_type": "markdown",
   "metadata": {},
   "source": [
    "# Paso 4. Ofuscar datos"
   ]
  },
  {
   "cell_type": "markdown",
   "metadata": {},
   "source": [
    "Lo mejor es ofuscar los datos multiplicando las características numéricas (recuerda que se pueden ver como la matriz $X$) por una matriz invertible $P$. \n",
    "\n",
    "$$\n",
    "X' = X \\times P\n",
    "$$\n",
    "\n",
    "Trata de hacerlo y comprueba cómo quedarán los valores de las características después de la transformación. Por cierto, la propiedad de invertibilidad es importante aquí, así que asegúrate de que $P$ sea realmente invertible.\n",
    "\n",
    "Puedes revisar la lección 'Matrices y operaciones matriciales -> Multiplicación de matrices' para recordar la regla de multiplicación de matrices y su implementación con NumPy."
   ]
  },
  {
   "cell_type": "code",
   "execution_count": 34,
   "metadata": {},
   "outputs": [],
   "source": [
    "# Selecciona la info\n",
    "personal_info_column_list = ['gender', 'age', 'income', 'family_members']\n",
    "df_pn = df[personal_info_column_list]"
   ]
  },
  {
   "cell_type": "code",
   "execution_count": 35,
   "metadata": {},
   "outputs": [],
   "source": [
    "X = df_pn.to_numpy()"
   ]
  },
  {
   "cell_type": "markdown",
   "metadata": {},
   "source": [
    "Generar una matriz aleatoria $P$."
   ]
  },
  {
   "cell_type": "code",
   "execution_count": 36,
   "metadata": {},
   "outputs": [],
   "source": [
    "rng = np.random.default_rng(seed=42)\n",
    "P = rng.random(size=(X.shape[1], X.shape[1]))"
   ]
  },
  {
   "cell_type": "markdown",
   "metadata": {},
   "source": [
    "Comprobar que la matriz P sea invertible"
   ]
  },
  {
   "cell_type": "code",
   "execution_count": 37,
   "metadata": {},
   "outputs": [],
   "source": [
    "P_inv = np.linalg.inv(P)"
   ]
  },
  {
   "cell_type": "markdown",
   "metadata": {},
   "source": [
    "La matriz es inversible ya que no se generó ningún error"
   ]
  },
  {
   "cell_type": "code",
   "execution_count": 38,
   "metadata": {},
   "outputs": [
    {
     "name": "stdout",
     "output_type": "stream",
     "text": [
      "[[ 6359.71527314 22380.40467609 18424.09074184 46000.69669016]\n",
      " [ 4873.29406479 17160.36702982 14125.78076133 35253.45577301]\n",
      " [ 2693.11742928  9486.397744    7808.83156024 19484.86063067]\n",
      " ...\n",
      " [ 4346.2234249  15289.24126492 12586.16264392 31433.50888552]\n",
      " [ 4194.09324155 14751.9910242  12144.02930637 30323.88763426]\n",
      " [ 5205.46827354 18314.24814446 15077.01370762 37649.59295455]]\n"
     ]
    }
   ],
   "source": [
    "X_= X @ P\n",
    "print(X_)"
   ]
  },
  {
   "cell_type": "markdown",
   "metadata": {},
   "source": [
    "**¿Puedes adivinar la edad o los ingresos de los clientes después de la transformación?**"
   ]
  },
  {
   "cell_type": "markdown",
   "metadata": {},
   "source": [
    "No parece fácil adivinar cualquier información con esta transformacion, ya que lo unico que mantiene de la matriz original es la cantidad de columnas"
   ]
  },
  {
   "cell_type": "markdown",
   "metadata": {},
   "source": [
    "**¿Puedes recuperar los datos originales de $X'$ si conoces $P$? Intenta comprobarlo a través de los cálculos moviendo $P$ del lado derecho de la fórmula anterior al izquierdo. En este caso las reglas de la multiplicación matricial son realmente útiles**"
   ]
  },
  {
   "cell_type": "code",
   "execution_count": 39,
   "metadata": {},
   "outputs": [
    {
     "name": "stdout",
     "output_type": "stream",
     "text": [
      "¿Recuperación exitosa? True\n"
     ]
    }
   ],
   "source": [
    "X_recovered = X_ @ P_inv \n",
    "# Comparar X_recovered con X original\n",
    "print(\"¿Recuperación exitosa?\", np.allclose(X, X_recovered))"
   ]
  },
  {
   "cell_type": "markdown",
   "metadata": {},
   "source": [
    "Muestra los tres casos para algunos clientes\n",
    "- Datos originales\n",
    "- El que está transformado\n",
    "- El que está invertido (recuperado)"
   ]
  },
  {
   "cell_type": "code",
   "execution_count": 40,
   "metadata": {},
   "outputs": [
    {
     "name": "stdout",
     "output_type": "stream",
     "text": [
      "[[1.00e+00 4.10e+01 4.96e+04 1.00e+00]\n",
      " [0.00e+00 4.60e+01 3.80e+04 1.00e+00]\n",
      " [0.00e+00 2.90e+01 2.10e+04 0.00e+00]\n",
      " [0.00e+00 2.10e+01 4.17e+04 2.00e+00]\n",
      " [1.00e+00 2.80e+01 2.61e+04 0.00e+00]]\n"
     ]
    }
   ],
   "source": [
    "# Datos Originaales\n",
    "print(X[:5])"
   ]
  },
  {
   "cell_type": "code",
   "execution_count": 41,
   "metadata": {},
   "outputs": [
    {
     "name": "stdout",
     "output_type": "stream",
     "text": [
      "[[ 6359.71527314 22380.40467609 18424.09074184 46000.69669016]\n",
      " [ 4873.29406479 17160.36702982 14125.78076133 35253.45577301]\n",
      " [ 2693.11742928  9486.397744    7808.83156024 19484.86063067]\n",
      " [ 5345.60393712 18803.22720286 15479.14837264 38663.06186284]\n",
      " [ 3347.17673462 11782.82928336  9699.99894205 24211.27337753]]\n"
     ]
    }
   ],
   "source": [
    "# Datos Ofuscados\n",
    "print(X_[:5])"
   ]
  },
  {
   "cell_type": "code",
   "execution_count": 42,
   "metadata": {},
   "outputs": [
    {
     "name": "stdout",
     "output_type": "stream",
     "text": [
      "[[ 1.00000000e+00  4.10000000e+01  4.96000000e+04  1.00000000e+00]\n",
      " [-4.47363596e-12  4.60000000e+01  3.80000000e+04  1.00000000e+00]\n",
      " [-2.51586878e-12  2.90000000e+01  2.10000000e+04  9.52452315e-13]\n",
      " [-4.84498208e-12  2.10000000e+01  4.17000000e+04  2.00000000e+00]\n",
      " [ 1.00000000e+00  2.80000000e+01  2.61000000e+04 -1.01990740e-13]]\n"
     ]
    }
   ],
   "source": [
    "# Datos Recuperados\n",
    "print( X_recovered[:5])"
   ]
  },
  {
   "cell_type": "markdown",
   "metadata": {},
   "source": [
    "**Seguramente puedes ver que algunos valores no son exactamente iguales a los de los datos originales. ¿Cuál podría ser la razón de ello?**"
   ]
  },
  {
   "cell_type": "markdown",
   "metadata": {},
   "source": [
    "La razón por la que algunos valores recuperados no coinciden exactamente con los originales es que los errores de redondeo y precisión en los cálculos con matrices son inevitables. Aun así, estos errores son generalmente muy pequeños y no afectan significativamente el análisis o los resultados finales."
   ]
  },
  {
   "cell_type": "markdown",
   "metadata": {},
   "source": [
    "## Prueba de que la ofuscación de datos puede funcionar con regresión lineal"
   ]
  },
  {
   "cell_type": "markdown",
   "metadata": {},
   "source": [
    "En este proyecto la tarea de regresión se ha resuelto con la regresión lineal. El siguiente paso es demostrar analiticamente que el método de ofuscación no afectará a la regresión lineal en términos de valores predichos, es decir, que sus valores seguirán siendo los mismos. ¿Lo puedes creer? Pues no hace falta que lo creas, hay que que demostrarlo!"
   ]
  },
  {
   "cell_type": "markdown",
   "metadata": {},
   "source": [
    "Entonces, los datos están ofuscados y ahora tenemos $X \\times P$ en lugar de tener solo $X$. En consecuencia, hay otros pesos $w_P$ como\n",
    "$$\n",
    "w = (X^T X)^{-1} X^T y \\quad \\Rightarrow \\quad w_P = [(XP)^T XP]^{-1} (XP)^T y\n",
    "$$\n",
    "\n",
    "¿Cómo se relacionarían $w$ y $w_P$ si simplificáramos la fórmula de $w_P$ anterior? \n",
    "\n",
    "¿Cuáles serían los valores predichos con $w_P$? \n",
    "\n",
    "¿Qué significa esto para la calidad de la regresión lineal si esta se mide mediante la RECM?"
   ]
  },
  {
   "cell_type": "markdown",
   "metadata": {},
   "source": [
    "**Respuesta**"
   ]
  },
  {
   "cell_type": "markdown",
   "metadata": {},
   "source": [
    "En un modelo de regresión lineal, la transformación de los datos mediante la matriz $P$ no altera los resultados porque conserva las relaciones proporcionales entre las variable. Esto ocurre porque durante los cálculos, $P$ se cancela con su inversa.\n",
    "los valores de $w_p$ predichos seran los mismos que los de $w$ al igual que el RECM"
   ]
  },
  {
   "cell_type": "markdown",
   "metadata": {},
   "source": [
    "**Prueba analítica**"
   ]
  },
  {
   "cell_type": "markdown",
   "metadata": {},
   "source": [
    "La fórmula original para $w$ en la regresión lineal es:\n",
    "\n",
    "$w = (X^T X)^{-1} X^T y$\n",
    "\n",
    "Si ofuscamos los datos multiplicándolos por una matriz $P$ los pesos $w_p$ se calculan como:\n",
    "\n",
    "$w_P = [(XP)^T XP]^{-1} (XP)^T y$ \n",
    "\n",
    "Expandiendo esta fórmula:\n",
    "\n",
    "$w_p$ = $[(P^T X^T) (XP)]^{-1} (X^T P^T) y $\n",
    "\n",
    "Usando la propiedad asociativa y la conmutatividad de las transposiciones:\n",
    "\n",
    "$w_p$ = $[P^T(X^T X)P]^{-1} P^T(X^T y)  $\n",
    "\n",
    "Aplicamos la propiedad de inversión de productos de matrices $(AB)^{-1} = B^{-1} A^{-1}$:\n",
    "\n",
    "$ w_p = P^{-1}(X^T X)^{-1}(P^T)^{-1} P^T X^T y$\n",
    "\n",
    "Finalmente, como $ (P^T)^{-1} P^T = I $ (la matriz identidad), se simplifica a:\n",
    "\n",
    "$ w_p = P^{-1}(X^T X)^{-1} X^T y$\n",
    "\n",
    "En este paso $P^{-1}$ está fuera del cálculo interno de los pesos, ya que no depende de $X$ o de $y$. Esto implica que, en esencia, los pesos que determinan la relación entre $X$ e $y$ permanecen iguales.\n",
    "\n",
    "Por lo tanto:\n",
    " \n",
    " $w_p = P^{-1}w$\n",
    "\n",
    "La relación entre $w$ y $w_p$ muestra que los pesos predichos dependen de la transformación por $P^{-1}$\n",
    " , pero la calidad de las predicciones no se ve afectada porque la regresión sigue capturando las mismas relaciones entre las variables.\n",
    "Los valores predichos se calculan como:\n",
    "\n",
    "$\\hat{y} = Xw$\n",
    "\n",
    "Con la matriz ofuscada, los valores predichos son:\n",
    "\n",
    "$\\hat{y}p = (XP)wp$\n",
    "\n",
    "Sustituyendo: \n",
    "\n",
    "$\\hat{y}p = (XP)(P^{-1}w)= X(PP^{-1}w)= Xw = \\hat{y}$\n",
    "\n",
    "Esto demuestra que los valores predichos $\\hat{y}p$ son idénticos a los valores predichos originales $\\hat{y}$, ya que \n",
    "$P$ se cancela con $P^{-1}$\n",
    "\n",
    "Impacto en la calidad de la regresión lineal (RECM):\n",
    "\n",
    "Dado que los valores predichos no cambian, el Error Cuadrático Medio (RECM) no se ve afectado. Esto significa que la ofuscación de datos mediante una matriz invertible \n",
    "$P$ es completamente transparente para el modelo de regresión lineal, ya que no altera la precisión ni la calidad de las predicciones."
   ]
  },
  {
   "cell_type": "markdown",
   "metadata": {},
   "source": [
    "## Prueba de regresión lineal con ofuscación de datos"
   ]
  },
  {
   "cell_type": "markdown",
   "metadata": {},
   "source": [
    "Ahora, probemos que la regresión lineal pueda funcionar, en términos computacionales, con la transformación de ofuscación elegida.\n",
    "Construir un procedimiento o una clase que ejecute la regresión lineal opcionalmente con la ofuscación.\n",
    "Ejecutar la regresión lineal para los datos originales y los ofuscados, comparar los valores predichos y los valores de las métricas RMSE y $R^2$. ¿Hay alguna diferencia?"
   ]
  },
  {
   "cell_type": "markdown",
   "metadata": {},
   "source": [
    "**Procedimiento**\n",
    "\n",
    "- Crea una matriz cuadrada $P$ de números aleatorios.\n",
    "- Comprueba que sea invertible. Si no lo es, repite el primer paso hasta obtener una matriz invertible.\n",
    "- Utiliza $XP$ como la nueva matriz de características"
   ]
  },
  {
   "cell_type": "code",
   "execution_count": 43,
   "metadata": {},
   "outputs": [],
   "source": [
    "# Crea una matriz cuadrada 𝑃 de números aleatorios\n",
    "X = df[feature_names].to_numpy()\n",
    "rng = np.random.default_rng(seed=123)\n",
    "P2 = rng.random(size=(X.shape[1], X.shape[1]))"
   ]
  },
  {
   "cell_type": "code",
   "execution_count": 44,
   "metadata": {},
   "outputs": [],
   "source": [
    "# Comprueba que sea invertible\n",
    "P2_inv = np.linalg.inv(P2)"
   ]
  },
  {
   "cell_type": "code",
   "execution_count": 45,
   "metadata": {},
   "outputs": [],
   "source": [
    "# Crear la matriz  𝑋𝑃 \n",
    "XO = X @ P2"
   ]
  },
  {
   "cell_type": "code",
   "execution_count": 46,
   "metadata": {},
   "outputs": [
    {
     "name": "stdout",
     "output_type": "stream",
     "text": [
      "Feature         Weight         \n",
      "------------------------------\n",
      "gender          :-9.435411e-01  \n",
      "age             :4.249023e-02   \n",
      "income          :-6.518928e-02  \n",
      "family_members  :1.599284e-01   \n",
      "==============================\n",
      "RMSE: 0.34\n",
      "R2: 0.43\n"
     ]
    }
   ],
   "source": [
    "# Utiliza  𝑋𝑃 como la nueva matriz de características\n",
    "y = df['insurance_benefits'].to_numpy()\n",
    "\n",
    "X_train, X_test, y_train, y_test = train_test_split(XO, y, test_size=0.3, random_state=12345)\n",
    "\n",
    "lr = MyLinearRegression()\n",
    "\n",
    "lr.fit(X_train, y_train)\n",
    "    \n",
    "print(f\"{'Feature':<15} {'Weight':<15}\")  # Encabezados con ancho fijo\n",
    "print(\"-\" * 30)\n",
    "for name, weight in zip(feature_names, lr.weights):\n",
    "    print(f\"{name:<15} :{weight:<15.6e}\")  # Cada columna alineada\n",
    "print(\"=\" * 30)\n",
    "y_test_pred = lr.predict(X_test)\n",
    "lr_model_ofuscated_data =eval_regressor(y_test, y_test_pred)"
   ]
  },
  {
   "cell_type": "code",
   "execution_count": 47,
   "metadata": {},
   "outputs": [
    {
     "name": "stdout",
     "output_type": "stream",
     "text": [
      "RMSE: 0.3436\n",
      "R2 Score: 0.4305\n",
      "==============================\n",
      "RMSE: 0.3436\n",
      "R2 Score: 0.4305\n",
      "==============================\n",
      "RMSE: 0.3436\n",
      "R2 Score: 0.4305\n",
      "==============================\n"
     ]
    }
   ],
   "source": [
    "# Compara los las evaluaciones de los 3 modelos de regresion lineal en este proyecto\n",
    "models = [lr_model_normal_data, lr_model_scaled_data, lr_model_ofuscated_data]\n",
    "for model in models: \n",
    "    rmse, r2 = model \n",
    "    print(f'RMSE: {rmse:.4f}') \n",
    "    print(f'R2 Score: {r2:.4f}')\n",
    "    print(\"=\"*30)"
   ]
  },
  {
   "cell_type": "markdown",
   "metadata": {},
   "source": [
    "# Conclusiones"
   ]
  },
  {
   "cell_type": "markdown",
   "metadata": {},
   "source": [
    "El modelo K-Nearest Neighbors (KNN) demostró ser una opción sólida para tareas de clasificación en este proyecto. Este modelo se basa en distancias matemáticas entre las características de los datos de entrenamiento y los nuevos datos, lo que le otorga confiabilidad al no depender de procesos aleatorios como los árboles de decisión o los bosques aleatorios. Sin embargo, su rendimiento es sensible a la magnitud de las características, por lo que se recomienda escalar los datos antes de entrenar un modelo de este tipo.\n",
    "\n",
    "En cuanto a las métricas de distancia, tanto la distancia Euclidiana como la Manhattan son útiles en diferentes escenarios. La distancia Euclidiana resalta discrepancias más grandes debido a su cálculo cuadrático, lo que puede ser ventajoso para datos homogéneos o distribuciones uniformes. Por otro lado, la distancia Manhattan es más adecuada para datos más dispersos y heterogéneos, ya que es menos sensible a valores extremos.\n",
    "\n",
    "Para este proyecto, el uso de la distancia Euclidiana y datos escalados resultó ser la configuración óptima. El modelo resultante alcanzó un excelente puntaje F1 de 0.95 y mostró una consistencia notable independientemente del valor de \n",
    "$k$ (número de vecinos). Esto resalta la robustez del modelo en las condiciones específicas del problema abordado.\n",
    "\n",
    "Además el modelo probó funcionar mucho mejor que el modelo dummy.\n"
   ]
  },
  {
   "cell_type": "markdown",
   "metadata": {},
   "source": [
    "A diferencia del modelo KNN, que se utilizó para predecir si un nuevo cliente recibiría beneficios del seguro, el modelo de regresión lineal, empleado para estimar la cantidad de beneficios que probablemente recibirá, mostró una robustez notable. Este modelo no se ve afectado ni por la escala de los datos ni por su ofuscación, lo cual es una ventaja significativa. Esta propiedad permite aplicar transformaciones como la encriptación u ofuscación de los datos, garantizando una mayor seguridad para los clientes sin comprometer la calidad de las predicciones."
   ]
  },
  {
   "cell_type": "markdown",
   "metadata": {},
   "source": [
    "A lo largo de este sprint, se destacó la relevancia de comprender y aplicar conceptos fundamentales de matemáticas para potenciar las técnicas de Machine Learning. En este caso, la utilidad de los vectores, las matrices y la regresión lineal fue crucial para desarrollar modelos efectivos y garantizar resultados precisos. Este enfoque interdisciplinario resalta cómo las matemáticas sirven como base para resolver problemas complejos y optimizar algoritmos en el ámbito del aprendizaje automático."
   ]
  },
  {
   "cell_type": "markdown",
   "metadata": {},
   "source": [
    "# Lista de control"
   ]
  },
  {
   "cell_type": "markdown",
   "metadata": {},
   "source": [
    "- [x]  El código no tiene errores\n",
    "- [x]  Las celdas están ordenadas de acuerdo con la lógica y el orden de ejecución\n",
    "- [x]  **Se ha realizado el paso 1**\n",
    "    - [x]  Está presente el procedimiento que puede devolver k clientes similares para un cliente determinado\n",
    "    - [x]  Se probó el procedimiento para las cuatro combinaciones propuestas    \n",
    "    - [x]  Se respondieron las preguntas sobre la escala/distancia\n",
    "- [x]  **Se ha realizado el paso 2**\n",
    "    - [x]  Se construyó y probó el modelo de clasificación aleatoria para todos los niveles de probabilidad   \n",
    "    - [x]  Se construyó y probó el modelo de clasificación kNN tanto para los datos originales como para los escalados. Se calculó la métrica F1.\n",
    "- [x]  **Se ha realizado el paso 3**\n",
    "    - [x]  Se implementó la solución de regresión lineal mediante operaciones matriciales   \n",
    "    - [x]  Se calculó la RECM para la solución implementada\n",
    "- [x]  **Se ha realizado el paso 4**\n",
    "    - [x]  Se ofuscaron los datos mediante una matriz aleatoria e invertible P   \n",
    "    - [x]  Se recuperaron los datos ofuscados y se han mostrado algunos ejemplos   \n",
    "    - [x]  Se proporcionó la prueba analítica de que la transformación no afecta a la RECM   \n",
    "    - [x]  Se proporcionó la prueba computacional de que la transformación no afecta a la RECM\n",
    "    - [x]  Se han sacado conclusiones"
   ]
  },
  {
   "cell_type": "markdown",
   "metadata": {},
   "source": [
    "# Apéndices\n",
    "\n",
    "## Apéndice A: Escribir fórmulas en los cuadernos de Jupyter"
   ]
  },
  {
   "cell_type": "markdown",
   "metadata": {},
   "source": [
    "Puedes escribir fórmulas en tu Jupyter Notebook utilizando un lenguaje de marcado proporcionado por un sistema de publicación de alta calidad llamado $\\LaTeX$ (se pronuncia como \"Lah-tech\"). Las fórmulas se verán como las de los libros de texto.\n",
    "\n",
    "Para incorporar una fórmula a un texto, pon el signo de dólar (\\\\$) antes y después del texto de la fórmula, por ejemplo: $\\frac{1}{2} \\times \\frac{3}{2} = \\frac{3}{4}$ or $y = x^2, x \\ge 1$.\n",
    "\n",
    "Si una fórmula debe estar en el mismo párrafo, pon el doble signo de dólar (\\\\$\\\\$) antes y después del texto de la fórmula, por ejemplo:\n",
    "$$\n",
    "\\bar{x} = \\frac{1}{n}\\sum_{i=1}^{n} x_i.\n",
    "$$\n",
    "\n",
    "El lenguaje de marcado de [LaTeX](https://es.wikipedia.org/wiki/LaTeX) es muy popular entre las personas que utilizan fórmulas en sus artículos, libros y textos. Puede resultar complicado, pero sus fundamentos son sencillos. Consulta esta [ficha de ayuda](http://tug.ctan.org/info/undergradmath/undergradmath.pdf) (materiales en inglés) de dos páginas para aprender a componer las fórmulas más comunes."
   ]
  },
  {
   "cell_type": "markdown",
   "metadata": {},
   "source": [
    "## Apéndice B: Propiedades de las matrices"
   ]
  },
  {
   "cell_type": "markdown",
   "metadata": {},
   "source": [
    "Las matrices tienen muchas propiedades en cuanto al álgebra lineal. Aquí se enumeran algunas de ellas que pueden ayudarte a la hora de realizar la prueba analítica de este proyecto."
   ]
  },
  {
   "cell_type": "markdown",
   "metadata": {},
   "source": [
    "<table>\n",
    "<tr>\n",
    "<td>Distributividad</td><td>$A(B+C)=AB+AC$</td>\n",
    "</tr>\n",
    "<tr>\n",
    "<td>No conmutatividad</td><td>$AB \\neq BA$</td>\n",
    "</tr>\n",
    "<tr>\n",
    "<td>Propiedad asociativa de la multiplicación</td><td>$(AB)C = A(BC)$</td>\n",
    "</tr>\n",
    "<tr>\n",
    "<td>Propiedad de identidad multiplicativa</td><td>$IA = AI = A$</td>\n",
    "</tr>\n",
    "<tr>\n",
    "<td></td><td>$A^{-1}A = AA^{-1} = I$\n",
    "</td>\n",
    "</tr>    \n",
    "<tr>\n",
    "<td></td><td>$(AB)^{-1} = B^{-1}A^{-1}$</td>\n",
    "</tr>    \n",
    "<tr>\n",
    "<td>Reversibilidad de la transposición de un producto de matrices,</td><td>$(AB)^T = B^TA^T$</td>\n",
    "</tr>    \n",
    "</table>"
   ]
  }
 ],
 "metadata": {
  "ExecuteTimeLog": [
   {
    "duration": 2523,
    "start_time": "2024-11-13T15:43:36.232Z"
   },
   {
    "duration": 2815,
    "start_time": "2024-11-13T15:43:38.758Z"
   },
   {
    "duration": 11,
    "start_time": "2024-11-13T15:43:41.575Z"
   },
   {
    "duration": 3,
    "start_time": "2024-11-13T15:43:41.588Z"
   },
   {
    "duration": 10,
    "start_time": "2024-11-13T15:43:41.594Z"
   },
   {
    "duration": 9,
    "start_time": "2024-11-13T15:43:41.606Z"
   },
   {
    "duration": 3,
    "start_time": "2024-11-13T15:43:41.616Z"
   },
   {
    "duration": 3,
    "start_time": "2024-11-13T15:43:41.620Z"
   },
   {
    "duration": 2,
    "start_time": "2024-11-13T15:43:41.625Z"
   },
   {
    "duration": 2667,
    "start_time": "2024-11-13T15:43:41.632Z"
   },
   {
    "duration": 3,
    "start_time": "2024-11-13T15:43:44.301Z"
   },
   {
    "duration": 6,
    "start_time": "2024-11-13T15:43:44.306Z"
   },
   {
    "duration": 0,
    "start_time": "2024-11-13T15:43:44.314Z"
   },
   {
    "duration": 0,
    "start_time": "2024-11-13T15:43:44.315Z"
   },
   {
    "duration": 0,
    "start_time": "2024-11-13T15:43:44.317Z"
   },
   {
    "duration": 0,
    "start_time": "2024-11-13T15:43:44.318Z"
   },
   {
    "duration": 0,
    "start_time": "2024-11-13T15:43:44.320Z"
   },
   {
    "duration": 0,
    "start_time": "2024-11-13T15:43:44.321Z"
   },
   {
    "duration": 0,
    "start_time": "2024-11-13T15:43:44.323Z"
   },
   {
    "duration": 0,
    "start_time": "2024-11-13T15:43:44.324Z"
   },
   {
    "duration": 0,
    "start_time": "2024-11-13T15:43:44.326Z"
   },
   {
    "duration": 0,
    "start_time": "2024-11-13T15:43:44.327Z"
   },
   {
    "duration": 0,
    "start_time": "2024-11-13T15:43:44.328Z"
   },
   {
    "duration": 0,
    "start_time": "2024-11-13T15:43:44.442Z"
   },
   {
    "duration": 0,
    "start_time": "2024-11-13T15:43:44.444Z"
   },
   {
    "duration": 231,
    "start_time": "2024-11-13T15:46:15.359Z"
   },
   {
    "duration": 3,
    "start_time": "2024-11-13T15:46:33.045Z"
   },
   {
    "duration": 4,
    "start_time": "2024-11-13T15:47:08.672Z"
   },
   {
    "duration": 4,
    "start_time": "2024-11-13T15:47:27.863Z"
   },
   {
    "duration": 4,
    "start_time": "2024-11-13T15:57:32.609Z"
   },
   {
    "duration": 2098,
    "start_time": "2024-11-13T16:10:08.553Z"
   },
   {
    "duration": 949,
    "start_time": "2024-11-13T16:10:10.654Z"
   },
   {
    "duration": 7,
    "start_time": "2024-11-13T16:10:11.605Z"
   },
   {
    "duration": 3,
    "start_time": "2024-11-13T16:10:11.615Z"
   },
   {
    "duration": 11,
    "start_time": "2024-11-13T16:10:11.619Z"
   },
   {
    "duration": 8,
    "start_time": "2024-11-13T16:10:11.631Z"
   },
   {
    "duration": 4,
    "start_time": "2024-11-13T16:10:11.641Z"
   },
   {
    "duration": 3,
    "start_time": "2024-11-13T16:10:11.647Z"
   },
   {
    "duration": 3,
    "start_time": "2024-11-13T16:10:11.651Z"
   },
   {
    "duration": 2552,
    "start_time": "2024-11-13T16:10:11.688Z"
   },
   {
    "duration": 4,
    "start_time": "2024-11-13T16:10:14.242Z"
   },
   {
    "duration": 5,
    "start_time": "2024-11-13T16:10:14.248Z"
   },
   {
    "duration": 0,
    "start_time": "2024-11-13T16:10:14.255Z"
   },
   {
    "duration": 0,
    "start_time": "2024-11-13T16:10:14.256Z"
   },
   {
    "duration": 0,
    "start_time": "2024-11-13T16:10:14.258Z"
   },
   {
    "duration": 0,
    "start_time": "2024-11-13T16:10:14.259Z"
   },
   {
    "duration": 0,
    "start_time": "2024-11-13T16:10:14.260Z"
   },
   {
    "duration": 0,
    "start_time": "2024-11-13T16:10:14.262Z"
   },
   {
    "duration": 0,
    "start_time": "2024-11-13T16:10:14.263Z"
   },
   {
    "duration": 0,
    "start_time": "2024-11-13T16:10:14.265Z"
   },
   {
    "duration": 0,
    "start_time": "2024-11-13T16:10:14.267Z"
   },
   {
    "duration": 0,
    "start_time": "2024-11-13T16:10:14.269Z"
   },
   {
    "duration": 0,
    "start_time": "2024-11-13T16:10:14.271Z"
   },
   {
    "duration": 0,
    "start_time": "2024-11-13T16:10:14.286Z"
   },
   {
    "duration": 0,
    "start_time": "2024-11-13T16:10:14.289Z"
   },
   {
    "duration": 3395,
    "start_time": "2024-11-13T16:11:48.464Z"
   },
   {
    "duration": 2025,
    "start_time": "2024-11-13T16:12:04.313Z"
   },
   {
    "duration": 906,
    "start_time": "2024-11-13T16:12:06.340Z"
   },
   {
    "duration": 7,
    "start_time": "2024-11-13T16:12:07.248Z"
   },
   {
    "duration": 3,
    "start_time": "2024-11-13T16:12:07.257Z"
   },
   {
    "duration": 24,
    "start_time": "2024-11-13T16:12:07.262Z"
   },
   {
    "duration": 8,
    "start_time": "2024-11-13T16:12:07.288Z"
   },
   {
    "duration": 4,
    "start_time": "2024-11-13T16:12:07.298Z"
   },
   {
    "duration": 4,
    "start_time": "2024-11-13T16:12:07.304Z"
   },
   {
    "duration": 1,
    "start_time": "2024-11-13T16:12:07.310Z"
   },
   {
    "duration": 2672,
    "start_time": "2024-11-13T16:12:07.315Z"
   },
   {
    "duration": 3,
    "start_time": "2024-11-13T16:12:09.989Z"
   },
   {
    "duration": 5,
    "start_time": "2024-11-13T16:12:09.994Z"
   },
   {
    "duration": 0,
    "start_time": "2024-11-13T16:12:10.001Z"
   },
   {
    "duration": 0,
    "start_time": "2024-11-13T16:12:10.002Z"
   },
   {
    "duration": 0,
    "start_time": "2024-11-13T16:12:10.003Z"
   },
   {
    "duration": 0,
    "start_time": "2024-11-13T16:12:10.004Z"
   },
   {
    "duration": 0,
    "start_time": "2024-11-13T16:12:10.005Z"
   },
   {
    "duration": 0,
    "start_time": "2024-11-13T16:12:10.007Z"
   },
   {
    "duration": 0,
    "start_time": "2024-11-13T16:12:10.008Z"
   },
   {
    "duration": 0,
    "start_time": "2024-11-13T16:12:10.009Z"
   },
   {
    "duration": 0,
    "start_time": "2024-11-13T16:12:10.010Z"
   },
   {
    "duration": 0,
    "start_time": "2024-11-13T16:12:10.014Z"
   },
   {
    "duration": 0,
    "start_time": "2024-11-13T16:12:10.016Z"
   },
   {
    "duration": 0,
    "start_time": "2024-11-13T16:12:10.017Z"
   },
   {
    "duration": 0,
    "start_time": "2024-11-13T16:12:10.019Z"
   },
   {
    "duration": 189,
    "start_time": "2024-11-13T17:17:17.218Z"
   },
   {
    "duration": 3640,
    "start_time": "2024-11-13T17:17:57.523Z"
   },
   {
    "duration": 2647,
    "start_time": "2024-11-13T17:18:01.166Z"
   },
   {
    "duration": 14,
    "start_time": "2024-11-13T17:18:03.815Z"
   },
   {
    "duration": 3,
    "start_time": "2024-11-13T17:18:03.832Z"
   },
   {
    "duration": 10,
    "start_time": "2024-11-13T17:18:03.837Z"
   },
   {
    "duration": 8,
    "start_time": "2024-11-13T17:18:03.849Z"
   },
   {
    "duration": 4,
    "start_time": "2024-11-13T17:18:03.860Z"
   },
   {
    "duration": 3,
    "start_time": "2024-11-13T17:18:03.865Z"
   },
   {
    "duration": 2,
    "start_time": "2024-11-13T17:18:03.870Z"
   },
   {
    "duration": 2557,
    "start_time": "2024-11-13T17:18:03.908Z"
   },
   {
    "duration": 3,
    "start_time": "2024-11-13T17:18:06.467Z"
   },
   {
    "duration": 6,
    "start_time": "2024-11-13T17:18:06.472Z"
   },
   {
    "duration": 0,
    "start_time": "2024-11-13T17:18:06.480Z"
   },
   {
    "duration": 0,
    "start_time": "2024-11-13T17:18:06.481Z"
   },
   {
    "duration": 1,
    "start_time": "2024-11-13T17:18:06.482Z"
   },
   {
    "duration": 0,
    "start_time": "2024-11-13T17:18:06.484Z"
   },
   {
    "duration": 0,
    "start_time": "2024-11-13T17:18:06.485Z"
   },
   {
    "duration": 0,
    "start_time": "2024-11-13T17:18:06.487Z"
   },
   {
    "duration": 0,
    "start_time": "2024-11-13T17:18:06.487Z"
   },
   {
    "duration": 0,
    "start_time": "2024-11-13T17:18:06.488Z"
   },
   {
    "duration": 0,
    "start_time": "2024-11-13T17:18:06.489Z"
   },
   {
    "duration": 0,
    "start_time": "2024-11-13T17:18:06.574Z"
   },
   {
    "duration": 0,
    "start_time": "2024-11-13T17:18:06.575Z"
   },
   {
    "duration": 0,
    "start_time": "2024-11-13T17:18:06.576Z"
   },
   {
    "duration": 0,
    "start_time": "2024-11-13T17:18:06.577Z"
   },
   {
    "duration": 3,
    "start_time": "2024-11-13T17:18:33.303Z"
   },
   {
    "duration": 3,
    "start_time": "2024-11-13T17:21:31.800Z"
   },
   {
    "duration": 2596,
    "start_time": "2024-11-13T17:22:06.775Z"
   },
   {
    "duration": 2617,
    "start_time": "2024-11-13T17:22:45.236Z"
   },
   {
    "duration": 3840,
    "start_time": "2024-11-13T19:18:02.888Z"
   },
   {
    "duration": 2881,
    "start_time": "2024-11-13T19:18:06.731Z"
   },
   {
    "duration": 14,
    "start_time": "2024-11-13T19:18:09.614Z"
   },
   {
    "duration": 5,
    "start_time": "2024-11-13T19:18:09.630Z"
   },
   {
    "duration": 12,
    "start_time": "2024-11-13T19:18:09.637Z"
   },
   {
    "duration": 10,
    "start_time": "2024-11-13T19:18:09.650Z"
   },
   {
    "duration": 4,
    "start_time": "2024-11-13T19:18:09.661Z"
   },
   {
    "duration": 5,
    "start_time": "2024-11-13T19:18:09.667Z"
   },
   {
    "duration": 2,
    "start_time": "2024-11-13T19:18:09.674Z"
   },
   {
    "duration": 2752,
    "start_time": "2024-11-13T19:18:09.680Z"
   },
   {
    "duration": 2,
    "start_time": "2024-11-13T19:18:12.435Z"
   },
   {
    "duration": 6,
    "start_time": "2024-11-13T19:18:12.439Z"
   },
   {
    "duration": 0,
    "start_time": "2024-11-13T19:18:12.447Z"
   },
   {
    "duration": 0,
    "start_time": "2024-11-13T19:18:12.448Z"
   },
   {
    "duration": 0,
    "start_time": "2024-11-13T19:18:12.449Z"
   },
   {
    "duration": 0,
    "start_time": "2024-11-13T19:18:12.451Z"
   },
   {
    "duration": 0,
    "start_time": "2024-11-13T19:18:12.451Z"
   },
   {
    "duration": 0,
    "start_time": "2024-11-13T19:18:12.452Z"
   },
   {
    "duration": 0,
    "start_time": "2024-11-13T19:18:12.454Z"
   },
   {
    "duration": 0,
    "start_time": "2024-11-13T19:18:12.456Z"
   },
   {
    "duration": 0,
    "start_time": "2024-11-13T19:18:12.457Z"
   },
   {
    "duration": 0,
    "start_time": "2024-11-13T19:18:12.459Z"
   },
   {
    "duration": 0,
    "start_time": "2024-11-13T19:18:12.460Z"
   },
   {
    "duration": 0,
    "start_time": "2024-11-13T19:18:12.462Z"
   },
   {
    "duration": 0,
    "start_time": "2024-11-13T19:18:12.463Z"
   },
   {
    "duration": 1989,
    "start_time": "2024-11-13T19:18:45.573Z"
   },
   {
    "duration": 1047,
    "start_time": "2024-11-13T19:18:47.565Z"
   },
   {
    "duration": 8,
    "start_time": "2024-11-13T19:18:48.613Z"
   },
   {
    "duration": 9,
    "start_time": "2024-11-13T19:18:48.623Z"
   },
   {
    "duration": 11,
    "start_time": "2024-11-13T19:18:48.634Z"
   },
   {
    "duration": 9,
    "start_time": "2024-11-13T19:18:48.647Z"
   },
   {
    "duration": 4,
    "start_time": "2024-11-13T19:18:48.657Z"
   },
   {
    "duration": 4,
    "start_time": "2024-11-13T19:18:48.663Z"
   },
   {
    "duration": 3,
    "start_time": "2024-11-13T19:18:48.669Z"
   },
   {
    "duration": 2725,
    "start_time": "2024-11-13T19:18:48.675Z"
   },
   {
    "duration": 3,
    "start_time": "2024-11-13T19:18:51.401Z"
   },
   {
    "duration": 4,
    "start_time": "2024-11-13T19:18:51.406Z"
   },
   {
    "duration": 0,
    "start_time": "2024-11-13T19:18:51.411Z"
   },
   {
    "duration": 0,
    "start_time": "2024-11-13T19:18:51.412Z"
   },
   {
    "duration": 0,
    "start_time": "2024-11-13T19:18:51.414Z"
   },
   {
    "duration": 0,
    "start_time": "2024-11-13T19:18:51.416Z"
   },
   {
    "duration": 0,
    "start_time": "2024-11-13T19:18:51.417Z"
   },
   {
    "duration": 0,
    "start_time": "2024-11-13T19:18:51.419Z"
   },
   {
    "duration": 0,
    "start_time": "2024-11-13T19:18:51.420Z"
   },
   {
    "duration": 0,
    "start_time": "2024-11-13T19:18:51.432Z"
   },
   {
    "duration": 0,
    "start_time": "2024-11-13T19:18:51.434Z"
   },
   {
    "duration": 0,
    "start_time": "2024-11-13T19:18:51.435Z"
   },
   {
    "duration": 0,
    "start_time": "2024-11-13T19:18:51.437Z"
   },
   {
    "duration": 0,
    "start_time": "2024-11-13T19:18:51.438Z"
   },
   {
    "duration": 0,
    "start_time": "2024-11-13T19:18:51.439Z"
   },
   {
    "duration": 17,
    "start_time": "2024-11-13T19:20:13.597Z"
   },
   {
    "duration": 3658,
    "start_time": "2024-11-15T15:22:46.889Z"
   },
   {
    "duration": 2687,
    "start_time": "2024-11-15T15:22:50.551Z"
   },
   {
    "duration": 10,
    "start_time": "2024-11-15T15:22:53.240Z"
   },
   {
    "duration": 3,
    "start_time": "2024-11-15T15:22:53.252Z"
   },
   {
    "duration": 10,
    "start_time": "2024-11-15T15:22:53.258Z"
   },
   {
    "duration": 9,
    "start_time": "2024-11-15T15:22:53.270Z"
   },
   {
    "duration": 3,
    "start_time": "2024-11-15T15:22:53.305Z"
   },
   {
    "duration": 4,
    "start_time": "2024-11-15T15:22:53.310Z"
   },
   {
    "duration": 16,
    "start_time": "2024-11-15T15:22:53.316Z"
   },
   {
    "duration": 2544,
    "start_time": "2024-11-15T15:22:53.333Z"
   },
   {
    "duration": 3,
    "start_time": "2024-11-15T15:22:55.879Z"
   },
   {
    "duration": 4,
    "start_time": "2024-11-15T15:22:55.884Z"
   },
   {
    "duration": 8,
    "start_time": "2024-11-15T15:22:55.890Z"
   },
   {
    "duration": 8,
    "start_time": "2024-11-15T15:22:55.904Z"
   },
   {
    "duration": 5,
    "start_time": "2024-11-15T15:22:55.913Z"
   },
   {
    "duration": 0,
    "start_time": "2024-11-15T15:22:55.919Z"
   },
   {
    "duration": 0,
    "start_time": "2024-11-15T15:22:55.920Z"
   },
   {
    "duration": 0,
    "start_time": "2024-11-15T15:22:55.921Z"
   },
   {
    "duration": 0,
    "start_time": "2024-11-15T15:22:55.922Z"
   },
   {
    "duration": 0,
    "start_time": "2024-11-15T15:22:56.019Z"
   },
   {
    "duration": 0,
    "start_time": "2024-11-15T15:22:56.020Z"
   },
   {
    "duration": 0,
    "start_time": "2024-11-15T15:22:56.021Z"
   },
   {
    "duration": 0,
    "start_time": "2024-11-15T15:22:56.022Z"
   },
   {
    "duration": 0,
    "start_time": "2024-11-15T15:22:56.024Z"
   },
   {
    "duration": 0,
    "start_time": "2024-11-15T15:22:56.026Z"
   },
   {
    "duration": 3850,
    "start_time": "2024-11-15T15:48:02.164Z"
   },
   {
    "duration": 2680,
    "start_time": "2024-11-15T15:48:06.017Z"
   },
   {
    "duration": 11,
    "start_time": "2024-11-15T15:48:08.699Z"
   },
   {
    "duration": 3,
    "start_time": "2024-11-15T15:48:08.712Z"
   },
   {
    "duration": 11,
    "start_time": "2024-11-15T15:48:08.719Z"
   },
   {
    "duration": 9,
    "start_time": "2024-11-15T15:48:08.731Z"
   },
   {
    "duration": 3,
    "start_time": "2024-11-15T15:48:08.742Z"
   },
   {
    "duration": 4,
    "start_time": "2024-11-15T15:48:08.746Z"
   },
   {
    "duration": 15,
    "start_time": "2024-11-15T15:48:08.752Z"
   },
   {
    "duration": 2536,
    "start_time": "2024-11-15T15:48:08.805Z"
   },
   {
    "duration": 3,
    "start_time": "2024-11-15T15:48:11.343Z"
   },
   {
    "duration": 4,
    "start_time": "2024-11-15T15:48:11.348Z"
   },
   {
    "duration": 9,
    "start_time": "2024-11-15T15:48:11.353Z"
   },
   {
    "duration": 7,
    "start_time": "2024-11-15T15:48:11.366Z"
   },
   {
    "duration": 4,
    "start_time": "2024-11-15T15:48:11.375Z"
   },
   {
    "duration": 0,
    "start_time": "2024-11-15T15:48:11.380Z"
   },
   {
    "duration": 0,
    "start_time": "2024-11-15T15:48:11.381Z"
   },
   {
    "duration": 0,
    "start_time": "2024-11-15T15:48:11.470Z"
   },
   {
    "duration": 0,
    "start_time": "2024-11-15T15:48:11.471Z"
   },
   {
    "duration": 0,
    "start_time": "2024-11-15T15:48:11.472Z"
   },
   {
    "duration": 1,
    "start_time": "2024-11-15T15:48:11.473Z"
   },
   {
    "duration": 0,
    "start_time": "2024-11-15T15:48:11.475Z"
   },
   {
    "duration": 0,
    "start_time": "2024-11-15T15:48:11.476Z"
   },
   {
    "duration": 0,
    "start_time": "2024-11-15T15:48:11.477Z"
   },
   {
    "duration": 0,
    "start_time": "2024-11-15T15:48:11.478Z"
   },
   {
    "duration": 1911,
    "start_time": "2024-11-15T15:51:24.533Z"
   },
   {
    "duration": 909,
    "start_time": "2024-11-15T15:51:26.447Z"
   },
   {
    "duration": 7,
    "start_time": "2024-11-15T15:51:27.358Z"
   },
   {
    "duration": 2,
    "start_time": "2024-11-15T15:51:27.367Z"
   },
   {
    "duration": 10,
    "start_time": "2024-11-15T15:51:27.373Z"
   },
   {
    "duration": 25,
    "start_time": "2024-11-15T15:51:27.385Z"
   },
   {
    "duration": 3,
    "start_time": "2024-11-15T15:51:27.411Z"
   },
   {
    "duration": 4,
    "start_time": "2024-11-15T15:51:27.415Z"
   },
   {
    "duration": 15,
    "start_time": "2024-11-15T15:51:27.421Z"
   },
   {
    "duration": 2531,
    "start_time": "2024-11-15T15:51:27.438Z"
   },
   {
    "duration": 2,
    "start_time": "2024-11-15T15:51:29.972Z"
   },
   {
    "duration": 4,
    "start_time": "2024-11-15T15:51:29.976Z"
   },
   {
    "duration": 9,
    "start_time": "2024-11-15T15:51:29.981Z"
   },
   {
    "duration": 16,
    "start_time": "2024-11-15T15:51:29.993Z"
   },
   {
    "duration": 4,
    "start_time": "2024-11-15T15:51:30.010Z"
   },
   {
    "duration": 0,
    "start_time": "2024-11-15T15:51:30.015Z"
   },
   {
    "duration": 0,
    "start_time": "2024-11-15T15:51:30.017Z"
   },
   {
    "duration": 0,
    "start_time": "2024-11-15T15:51:30.018Z"
   },
   {
    "duration": 0,
    "start_time": "2024-11-15T15:51:30.020Z"
   },
   {
    "duration": 0,
    "start_time": "2024-11-15T15:51:30.021Z"
   },
   {
    "duration": 0,
    "start_time": "2024-11-15T15:51:30.022Z"
   },
   {
    "duration": 0,
    "start_time": "2024-11-15T15:51:30.023Z"
   },
   {
    "duration": 0,
    "start_time": "2024-11-15T15:51:30.024Z"
   },
   {
    "duration": 0,
    "start_time": "2024-11-15T15:51:30.025Z"
   },
   {
    "duration": 0,
    "start_time": "2024-11-15T15:51:30.026Z"
   },
   {
    "duration": 3,
    "start_time": "2024-11-15T15:52:12.347Z"
   },
   {
    "duration": 4,
    "start_time": "2024-11-15T15:54:46.701Z"
   },
   {
    "duration": 9,
    "start_time": "2024-11-15T15:55:17.686Z"
   },
   {
    "duration": 7,
    "start_time": "2024-11-15T19:02:58.336Z"
   },
   {
    "duration": 3723,
    "start_time": "2024-11-15T19:03:13.199Z"
   },
   {
    "duration": 2630,
    "start_time": "2024-11-15T19:03:16.924Z"
   },
   {
    "duration": 10,
    "start_time": "2024-11-15T19:03:19.555Z"
   },
   {
    "duration": 3,
    "start_time": "2024-11-15T19:03:19.568Z"
   },
   {
    "duration": 11,
    "start_time": "2024-11-15T19:03:19.572Z"
   },
   {
    "duration": 9,
    "start_time": "2024-11-15T19:03:19.585Z"
   },
   {
    "duration": 3,
    "start_time": "2024-11-15T19:03:19.595Z"
   },
   {
    "duration": 4,
    "start_time": "2024-11-15T19:03:19.600Z"
   },
   {
    "duration": 48,
    "start_time": "2024-11-15T19:03:19.605Z"
   },
   {
    "duration": 2562,
    "start_time": "2024-11-15T19:03:19.657Z"
   },
   {
    "duration": 3,
    "start_time": "2024-11-15T19:03:22.221Z"
   },
   {
    "duration": 4,
    "start_time": "2024-11-15T19:03:22.226Z"
   },
   {
    "duration": 9,
    "start_time": "2024-11-15T19:03:22.232Z"
   },
   {
    "duration": 7,
    "start_time": "2024-11-15T19:03:22.242Z"
   },
   {
    "duration": 5,
    "start_time": "2024-11-15T19:03:22.251Z"
   },
   {
    "duration": 0,
    "start_time": "2024-11-15T19:03:22.257Z"
   },
   {
    "duration": 0,
    "start_time": "2024-11-15T19:03:22.259Z"
   },
   {
    "duration": 0,
    "start_time": "2024-11-15T19:03:22.260Z"
   },
   {
    "duration": 0,
    "start_time": "2024-11-15T19:03:22.262Z"
   },
   {
    "duration": 0,
    "start_time": "2024-11-15T19:03:22.263Z"
   },
   {
    "duration": 0,
    "start_time": "2024-11-15T19:03:22.265Z"
   },
   {
    "duration": 0,
    "start_time": "2024-11-15T19:03:22.266Z"
   },
   {
    "duration": 0,
    "start_time": "2024-11-15T19:03:22.267Z"
   },
   {
    "duration": 0,
    "start_time": "2024-11-15T19:03:22.268Z"
   },
   {
    "duration": 0,
    "start_time": "2024-11-15T19:03:22.269Z"
   },
   {
    "duration": 333,
    "start_time": "2024-11-15T19:08:50.002Z"
   },
   {
    "duration": 3,
    "start_time": "2024-11-15T19:11:23.518Z"
   },
   {
    "duration": 4,
    "start_time": "2024-11-15T19:11:31.493Z"
   },
   {
    "duration": 110,
    "start_time": "2024-11-15T19:11:41.925Z"
   },
   {
    "duration": 10,
    "start_time": "2024-11-15T19:12:45.013Z"
   },
   {
    "duration": 4,
    "start_time": "2024-11-15T19:15:20.680Z"
   },
   {
    "duration": 186,
    "start_time": "2024-11-15T23:08:17.744Z"
   },
   {
    "duration": 14,
    "start_time": "2024-11-15T23:11:03.685Z"
   },
   {
    "duration": 3985,
    "start_time": "2024-11-15T23:11:15.342Z"
   },
   {
    "duration": 2947,
    "start_time": "2024-11-15T23:11:19.330Z"
   },
   {
    "duration": 13,
    "start_time": "2024-11-15T23:11:22.279Z"
   },
   {
    "duration": 3,
    "start_time": "2024-11-15T23:11:22.294Z"
   },
   {
    "duration": 14,
    "start_time": "2024-11-15T23:11:22.301Z"
   },
   {
    "duration": 19,
    "start_time": "2024-11-15T23:11:22.317Z"
   },
   {
    "duration": 4,
    "start_time": "2024-11-15T23:11:22.338Z"
   },
   {
    "duration": 4,
    "start_time": "2024-11-15T23:11:22.344Z"
   },
   {
    "duration": 17,
    "start_time": "2024-11-15T23:11:22.351Z"
   },
   {
    "duration": 2797,
    "start_time": "2024-11-15T23:11:22.372Z"
   },
   {
    "duration": 3,
    "start_time": "2024-11-15T23:11:25.172Z"
   },
   {
    "duration": 5,
    "start_time": "2024-11-15T23:11:25.177Z"
   },
   {
    "duration": 8,
    "start_time": "2024-11-15T23:11:25.184Z"
   },
   {
    "duration": 10,
    "start_time": "2024-11-15T23:11:25.196Z"
   },
   {
    "duration": 583,
    "start_time": "2024-11-15T23:11:25.208Z"
   },
   {
    "duration": 0,
    "start_time": "2024-11-15T23:11:25.793Z"
   },
   {
    "duration": 0,
    "start_time": "2024-11-15T23:11:25.794Z"
   },
   {
    "duration": 0,
    "start_time": "2024-11-15T23:11:25.795Z"
   },
   {
    "duration": 0,
    "start_time": "2024-11-15T23:11:25.796Z"
   },
   {
    "duration": 0,
    "start_time": "2024-11-15T23:11:25.798Z"
   },
   {
    "duration": 0,
    "start_time": "2024-11-15T23:11:25.799Z"
   },
   {
    "duration": 0,
    "start_time": "2024-11-15T23:11:25.800Z"
   },
   {
    "duration": 0,
    "start_time": "2024-11-15T23:11:25.801Z"
   },
   {
    "duration": 0,
    "start_time": "2024-11-15T23:11:25.803Z"
   },
   {
    "duration": 0,
    "start_time": "2024-11-15T23:11:25.803Z"
   },
   {
    "duration": 0,
    "start_time": "2024-11-15T23:11:25.805Z"
   },
   {
    "duration": 4,
    "start_time": "2024-11-15T23:12:00.907Z"
   },
   {
    "duration": 106,
    "start_time": "2024-11-15T23:12:07.968Z"
   },
   {
    "duration": 216,
    "start_time": "2024-11-16T19:34:27.537Z"
   },
   {
    "duration": 3965,
    "start_time": "2024-11-16T19:34:37.160Z"
   },
   {
    "duration": 2833,
    "start_time": "2024-11-16T19:34:41.128Z"
   },
   {
    "duration": 10,
    "start_time": "2024-11-16T19:34:43.963Z"
   },
   {
    "duration": 3,
    "start_time": "2024-11-16T19:34:43.975Z"
   },
   {
    "duration": 10,
    "start_time": "2024-11-16T19:34:43.981Z"
   },
   {
    "duration": 24,
    "start_time": "2024-11-16T19:34:43.992Z"
   },
   {
    "duration": 4,
    "start_time": "2024-11-16T19:34:44.018Z"
   },
   {
    "duration": 4,
    "start_time": "2024-11-16T19:34:44.024Z"
   },
   {
    "duration": 21,
    "start_time": "2024-11-16T19:34:44.030Z"
   },
   {
    "duration": 2638,
    "start_time": "2024-11-16T19:34:44.052Z"
   },
   {
    "duration": 2,
    "start_time": "2024-11-16T19:34:46.692Z"
   },
   {
    "duration": 5,
    "start_time": "2024-11-16T19:34:46.696Z"
   },
   {
    "duration": 11,
    "start_time": "2024-11-16T19:34:46.702Z"
   },
   {
    "duration": 8,
    "start_time": "2024-11-16T19:34:46.717Z"
   },
   {
    "duration": 510,
    "start_time": "2024-11-16T19:34:46.727Z"
   },
   {
    "duration": 0,
    "start_time": "2024-11-16T19:34:47.242Z"
   },
   {
    "duration": 0,
    "start_time": "2024-11-16T19:34:47.248Z"
   },
   {
    "duration": 0,
    "start_time": "2024-11-16T19:34:47.250Z"
   },
   {
    "duration": 0,
    "start_time": "2024-11-16T19:34:47.251Z"
   },
   {
    "duration": 0,
    "start_time": "2024-11-16T19:34:47.253Z"
   },
   {
    "duration": 0,
    "start_time": "2024-11-16T19:34:47.254Z"
   },
   {
    "duration": 0,
    "start_time": "2024-11-16T19:34:47.257Z"
   },
   {
    "duration": 0,
    "start_time": "2024-11-16T19:34:47.258Z"
   },
   {
    "duration": 0,
    "start_time": "2024-11-16T19:34:47.259Z"
   },
   {
    "duration": 0,
    "start_time": "2024-11-16T19:34:47.262Z"
   },
   {
    "duration": 0,
    "start_time": "2024-11-16T19:34:47.263Z"
   },
   {
    "duration": 76,
    "start_time": "2024-11-16T19:44:43.319Z"
   },
   {
    "duration": 2199,
    "start_time": "2024-11-16T19:44:55.108Z"
   },
   {
    "duration": 1064,
    "start_time": "2024-11-16T19:44:57.310Z"
   },
   {
    "duration": 8,
    "start_time": "2024-11-16T19:44:58.375Z"
   },
   {
    "duration": 3,
    "start_time": "2024-11-16T19:44:58.386Z"
   },
   {
    "duration": 24,
    "start_time": "2024-11-16T19:44:58.391Z"
   },
   {
    "duration": 10,
    "start_time": "2024-11-16T19:44:58.416Z"
   },
   {
    "duration": 3,
    "start_time": "2024-11-16T19:44:58.428Z"
   },
   {
    "duration": 4,
    "start_time": "2024-11-16T19:44:58.433Z"
   },
   {
    "duration": 21,
    "start_time": "2024-11-16T19:44:58.438Z"
   },
   {
    "duration": 2787,
    "start_time": "2024-11-16T19:44:58.462Z"
   },
   {
    "duration": 3,
    "start_time": "2024-11-16T19:45:01.251Z"
   },
   {
    "duration": 8,
    "start_time": "2024-11-16T19:45:01.255Z"
   },
   {
    "duration": 10,
    "start_time": "2024-11-16T19:45:01.265Z"
   },
   {
    "duration": 8,
    "start_time": "2024-11-16T19:45:01.277Z"
   },
   {
    "duration": 23,
    "start_time": "2024-11-16T19:45:01.287Z"
   },
   {
    "duration": 6,
    "start_time": "2024-11-16T19:45:01.311Z"
   },
   {
    "duration": 0,
    "start_time": "2024-11-16T19:45:01.318Z"
   },
   {
    "duration": 0,
    "start_time": "2024-11-16T19:45:01.319Z"
   },
   {
    "duration": 0,
    "start_time": "2024-11-16T19:45:01.330Z"
   },
   {
    "duration": 0,
    "start_time": "2024-11-16T19:45:01.331Z"
   },
   {
    "duration": 0,
    "start_time": "2024-11-16T19:45:01.333Z"
   },
   {
    "duration": 1,
    "start_time": "2024-11-16T19:45:01.333Z"
   },
   {
    "duration": 0,
    "start_time": "2024-11-16T19:45:01.334Z"
   },
   {
    "duration": 0,
    "start_time": "2024-11-16T19:45:01.336Z"
   },
   {
    "duration": 0,
    "start_time": "2024-11-16T19:45:01.337Z"
   },
   {
    "duration": 0,
    "start_time": "2024-11-16T19:45:01.338Z"
   },
   {
    "duration": 15,
    "start_time": "2024-11-16T19:45:56.376Z"
   },
   {
    "duration": 18,
    "start_time": "2024-11-16T19:46:13.043Z"
   },
   {
    "duration": 16,
    "start_time": "2024-11-16T19:47:02.064Z"
   },
   {
    "duration": 18,
    "start_time": "2024-11-16T19:47:33.535Z"
   },
   {
    "duration": 155,
    "start_time": "2024-11-17T17:52:59.513Z"
   },
   {
    "duration": 3631,
    "start_time": "2024-11-17T17:53:08.504Z"
   },
   {
    "duration": 2658,
    "start_time": "2024-11-17T17:53:12.137Z"
   },
   {
    "duration": 14,
    "start_time": "2024-11-17T17:53:14.797Z"
   },
   {
    "duration": 3,
    "start_time": "2024-11-17T17:53:14.813Z"
   },
   {
    "duration": 11,
    "start_time": "2024-11-17T17:53:14.817Z"
   },
   {
    "duration": 8,
    "start_time": "2024-11-17T17:53:14.831Z"
   },
   {
    "duration": 4,
    "start_time": "2024-11-17T17:53:14.840Z"
   },
   {
    "duration": 3,
    "start_time": "2024-11-17T17:53:14.846Z"
   },
   {
    "duration": 17,
    "start_time": "2024-11-17T17:53:14.851Z"
   },
   {
    "duration": 2521,
    "start_time": "2024-11-17T17:53:14.871Z"
   },
   {
    "duration": 2,
    "start_time": "2024-11-17T17:53:17.394Z"
   },
   {
    "duration": 4,
    "start_time": "2024-11-17T17:53:17.398Z"
   },
   {
    "duration": 8,
    "start_time": "2024-11-17T17:53:17.404Z"
   },
   {
    "duration": 81,
    "start_time": "2024-11-17T17:53:17.413Z"
   },
   {
    "duration": 15,
    "start_time": "2024-11-17T17:53:17.496Z"
   },
   {
    "duration": 21,
    "start_time": "2024-11-17T17:53:17.529Z"
   },
   {
    "duration": 20,
    "start_time": "2024-11-17T17:53:17.551Z"
   },
   {
    "duration": 5,
    "start_time": "2024-11-17T17:53:17.574Z"
   },
   {
    "duration": 0,
    "start_time": "2024-11-17T17:53:17.580Z"
   },
   {
    "duration": 0,
    "start_time": "2024-11-17T17:53:17.582Z"
   },
   {
    "duration": 0,
    "start_time": "2024-11-17T17:53:17.583Z"
   },
   {
    "duration": 0,
    "start_time": "2024-11-17T17:53:17.584Z"
   },
   {
    "duration": 0,
    "start_time": "2024-11-17T17:53:17.585Z"
   },
   {
    "duration": 0,
    "start_time": "2024-11-17T17:53:17.586Z"
   },
   {
    "duration": 0,
    "start_time": "2024-11-17T17:53:17.587Z"
   },
   {
    "duration": 0,
    "start_time": "2024-11-17T17:53:17.588Z"
   },
   {
    "duration": 0,
    "start_time": "2024-11-17T17:53:17.589Z"
   },
   {
    "duration": 0,
    "start_time": "2024-11-17T17:53:17.590Z"
   },
   {
    "duration": 21,
    "start_time": "2024-11-17T17:56:41.563Z"
   },
   {
    "duration": 37,
    "start_time": "2024-11-17T17:57:12.174Z"
   },
   {
    "duration": 197,
    "start_time": "2024-11-17T20:52:10.378Z"
   },
   {
    "duration": 3996,
    "start_time": "2024-11-17T20:52:19.438Z"
   },
   {
    "duration": 2905,
    "start_time": "2024-11-17T20:52:23.437Z"
   },
   {
    "duration": 19,
    "start_time": "2024-11-17T20:52:26.344Z"
   },
   {
    "duration": 3,
    "start_time": "2024-11-17T20:52:26.367Z"
   },
   {
    "duration": 13,
    "start_time": "2024-11-17T20:52:26.372Z"
   },
   {
    "duration": 10,
    "start_time": "2024-11-17T20:52:26.387Z"
   },
   {
    "duration": 3,
    "start_time": "2024-11-17T20:52:26.399Z"
   },
   {
    "duration": 6,
    "start_time": "2024-11-17T20:52:26.404Z"
   },
   {
    "duration": 20,
    "start_time": "2024-11-17T20:52:26.412Z"
   },
   {
    "duration": 2796,
    "start_time": "2024-11-17T20:52:26.435Z"
   },
   {
    "duration": 5,
    "start_time": "2024-11-17T20:52:29.233Z"
   },
   {
    "duration": 5,
    "start_time": "2024-11-17T20:52:29.239Z"
   },
   {
    "duration": 10,
    "start_time": "2024-11-17T20:52:29.246Z"
   },
   {
    "duration": 113,
    "start_time": "2024-11-17T20:52:29.257Z"
   },
   {
    "duration": 15,
    "start_time": "2024-11-17T20:52:29.372Z"
   },
   {
    "duration": 16,
    "start_time": "2024-11-17T20:52:29.389Z"
   },
   {
    "duration": 24,
    "start_time": "2024-11-17T20:52:29.409Z"
   },
   {
    "duration": 50,
    "start_time": "2024-11-17T20:52:29.434Z"
   },
   {
    "duration": 5,
    "start_time": "2024-11-17T20:52:29.486Z"
   },
   {
    "duration": 0,
    "start_time": "2024-11-17T20:52:29.492Z"
   },
   {
    "duration": 0,
    "start_time": "2024-11-17T20:52:29.494Z"
   },
   {
    "duration": 0,
    "start_time": "2024-11-17T20:52:29.495Z"
   },
   {
    "duration": 0,
    "start_time": "2024-11-17T20:52:29.496Z"
   },
   {
    "duration": 0,
    "start_time": "2024-11-17T20:52:29.497Z"
   },
   {
    "duration": 0,
    "start_time": "2024-11-17T20:52:29.498Z"
   },
   {
    "duration": 0,
    "start_time": "2024-11-17T20:52:29.499Z"
   },
   {
    "duration": 0,
    "start_time": "2024-11-17T20:52:29.500Z"
   },
   {
    "duration": 0,
    "start_time": "2024-11-17T20:52:29.501Z"
   },
   {
    "duration": 0,
    "start_time": "2024-11-17T20:52:29.502Z"
   },
   {
    "duration": 1239,
    "start_time": "2024-11-17T23:26:04.180Z"
   },
   {
    "duration": 1904,
    "start_time": "2024-11-17T23:26:18.043Z"
   },
   {
    "duration": 866,
    "start_time": "2024-11-17T23:26:19.949Z"
   },
   {
    "duration": 10,
    "start_time": "2024-11-17T23:26:20.816Z"
   },
   {
    "duration": 4,
    "start_time": "2024-11-17T23:26:20.828Z"
   },
   {
    "duration": 11,
    "start_time": "2024-11-17T23:26:20.833Z"
   },
   {
    "duration": 29,
    "start_time": "2024-11-17T23:26:20.845Z"
   },
   {
    "duration": 3,
    "start_time": "2024-11-17T23:26:20.875Z"
   },
   {
    "duration": 4,
    "start_time": "2024-11-17T23:26:20.880Z"
   },
   {
    "duration": 15,
    "start_time": "2024-11-17T23:26:20.886Z"
   },
   {
    "duration": 2562,
    "start_time": "2024-11-17T23:26:20.904Z"
   },
   {
    "duration": 3,
    "start_time": "2024-11-17T23:26:23.468Z"
   },
   {
    "duration": 4,
    "start_time": "2024-11-17T23:26:23.472Z"
   },
   {
    "duration": 10,
    "start_time": "2024-11-17T23:26:23.478Z"
   },
   {
    "duration": 9,
    "start_time": "2024-11-17T23:26:23.490Z"
   },
   {
    "duration": 15,
    "start_time": "2024-11-17T23:26:23.501Z"
   },
   {
    "duration": 15,
    "start_time": "2024-11-17T23:26:23.518Z"
   },
   {
    "duration": 48,
    "start_time": "2024-11-17T23:26:23.534Z"
   },
   {
    "duration": 13,
    "start_time": "2024-11-17T23:26:23.584Z"
   },
   {
    "duration": 1216,
    "start_time": "2024-11-17T23:26:23.600Z"
   },
   {
    "duration": 0,
    "start_time": "2024-11-17T23:26:24.818Z"
   },
   {
    "duration": 0,
    "start_time": "2024-11-17T23:26:24.819Z"
   },
   {
    "duration": 0,
    "start_time": "2024-11-17T23:26:24.821Z"
   },
   {
    "duration": 0,
    "start_time": "2024-11-17T23:26:24.821Z"
   },
   {
    "duration": 0,
    "start_time": "2024-11-17T23:26:24.822Z"
   },
   {
    "duration": 0,
    "start_time": "2024-11-17T23:26:24.823Z"
   },
   {
    "duration": 0,
    "start_time": "2024-11-17T23:26:24.825Z"
   },
   {
    "duration": 0,
    "start_time": "2024-11-17T23:26:24.826Z"
   },
   {
    "duration": 0,
    "start_time": "2024-11-17T23:26:24.827Z"
   },
   {
    "duration": 0,
    "start_time": "2024-11-17T23:26:24.828Z"
   },
   {
    "duration": 10,
    "start_time": "2024-11-17T23:27:16.108Z"
   },
   {
    "duration": 4,
    "start_time": "2024-11-17T23:27:59.156Z"
   },
   {
    "duration": 13,
    "start_time": "2024-11-17T23:28:14.887Z"
   },
   {
    "duration": 4,
    "start_time": "2024-11-17T23:32:59.923Z"
   },
   {
    "duration": 5,
    "start_time": "2024-11-17T23:33:07.775Z"
   },
   {
    "duration": 5,
    "start_time": "2024-11-17T23:33:32.935Z"
   },
   {
    "duration": 1909,
    "start_time": "2024-11-17T23:33:58.277Z"
   },
   {
    "duration": 928,
    "start_time": "2024-11-17T23:34:00.188Z"
   },
   {
    "duration": 8,
    "start_time": "2024-11-17T23:34:01.117Z"
   },
   {
    "duration": 2,
    "start_time": "2024-11-17T23:34:01.127Z"
   },
   {
    "duration": 11,
    "start_time": "2024-11-17T23:34:01.133Z"
   },
   {
    "duration": 29,
    "start_time": "2024-11-17T23:34:01.146Z"
   },
   {
    "duration": 3,
    "start_time": "2024-11-17T23:34:01.177Z"
   },
   {
    "duration": 4,
    "start_time": "2024-11-17T23:34:01.182Z"
   },
   {
    "duration": 16,
    "start_time": "2024-11-17T23:34:01.188Z"
   },
   {
    "duration": 2576,
    "start_time": "2024-11-17T23:34:01.206Z"
   },
   {
    "duration": 3,
    "start_time": "2024-11-17T23:34:03.784Z"
   },
   {
    "duration": 4,
    "start_time": "2024-11-17T23:34:03.788Z"
   },
   {
    "duration": 9,
    "start_time": "2024-11-17T23:34:03.794Z"
   },
   {
    "duration": 7,
    "start_time": "2024-11-17T23:34:03.807Z"
   },
   {
    "duration": 14,
    "start_time": "2024-11-17T23:34:03.815Z"
   },
   {
    "duration": 13,
    "start_time": "2024-11-17T23:34:03.830Z"
   },
   {
    "duration": 36,
    "start_time": "2024-11-17T23:34:03.845Z"
   },
   {
    "duration": 14,
    "start_time": "2024-11-17T23:34:03.883Z"
   },
   {
    "duration": 5,
    "start_time": "2024-11-17T23:34:03.899Z"
   },
   {
    "duration": 2,
    "start_time": "2024-11-17T23:34:03.906Z"
   },
   {
    "duration": 3,
    "start_time": "2024-11-17T23:34:03.909Z"
   },
   {
    "duration": 3,
    "start_time": "2024-11-17T23:34:03.914Z"
   },
   {
    "duration": 4,
    "start_time": "2024-11-17T23:34:03.918Z"
   },
   {
    "duration": 0,
    "start_time": "2024-11-17T23:34:03.970Z"
   },
   {
    "duration": 0,
    "start_time": "2024-11-17T23:34:03.971Z"
   },
   {
    "duration": 0,
    "start_time": "2024-11-17T23:34:03.972Z"
   },
   {
    "duration": 0,
    "start_time": "2024-11-17T23:34:03.973Z"
   },
   {
    "duration": 0,
    "start_time": "2024-11-17T23:34:03.974Z"
   },
   {
    "duration": 0,
    "start_time": "2024-11-17T23:34:03.976Z"
   },
   {
    "duration": 12,
    "start_time": "2024-11-17T23:34:37.971Z"
   },
   {
    "duration": 12,
    "start_time": "2024-11-17T23:48:05.303Z"
   },
   {
    "duration": 153,
    "start_time": "2024-11-18T18:02:05.941Z"
   },
   {
    "duration": 156,
    "start_time": "2024-11-18T18:11:40.088Z"
   },
   {
    "duration": 4002,
    "start_time": "2024-11-18T18:11:55.864Z"
   },
   {
    "duration": 2655,
    "start_time": "2024-11-18T18:11:59.869Z"
   },
   {
    "duration": 13,
    "start_time": "2024-11-18T18:12:02.525Z"
   },
   {
    "duration": 3,
    "start_time": "2024-11-18T18:12:02.540Z"
   },
   {
    "duration": 9,
    "start_time": "2024-11-18T18:12:02.545Z"
   },
   {
    "duration": 8,
    "start_time": "2024-11-18T18:12:02.556Z"
   },
   {
    "duration": 2,
    "start_time": "2024-11-18T18:12:02.566Z"
   },
   {
    "duration": 3,
    "start_time": "2024-11-18T18:12:02.571Z"
   },
   {
    "duration": 15,
    "start_time": "2024-11-18T18:12:02.576Z"
   },
   {
    "duration": 2597,
    "start_time": "2024-11-18T18:12:02.623Z"
   },
   {
    "duration": 3,
    "start_time": "2024-11-18T18:12:05.222Z"
   },
   {
    "duration": 4,
    "start_time": "2024-11-18T18:12:05.226Z"
   },
   {
    "duration": 8,
    "start_time": "2024-11-18T18:12:05.232Z"
   },
   {
    "duration": 102,
    "start_time": "2024-11-18T18:12:05.241Z"
   },
   {
    "duration": 13,
    "start_time": "2024-11-18T18:12:05.345Z"
   },
   {
    "duration": 13,
    "start_time": "2024-11-18T18:12:05.360Z"
   },
   {
    "duration": 20,
    "start_time": "2024-11-18T18:12:05.375Z"
   },
   {
    "duration": 47,
    "start_time": "2024-11-18T18:12:05.397Z"
   },
   {
    "duration": 4,
    "start_time": "2024-11-18T18:12:05.446Z"
   },
   {
    "duration": 11,
    "start_time": "2024-11-18T18:12:05.452Z"
   },
   {
    "duration": 2,
    "start_time": "2024-11-18T18:12:05.464Z"
   },
   {
    "duration": 3,
    "start_time": "2024-11-18T18:12:05.468Z"
   },
   {
    "duration": 3,
    "start_time": "2024-11-18T18:12:05.473Z"
   },
   {
    "duration": 5,
    "start_time": "2024-11-18T18:12:05.478Z"
   },
   {
    "duration": 0,
    "start_time": "2024-11-18T18:12:05.524Z"
   },
   {
    "duration": 0,
    "start_time": "2024-11-18T18:12:05.525Z"
   },
   {
    "duration": 0,
    "start_time": "2024-11-18T18:12:05.527Z"
   },
   {
    "duration": 0,
    "start_time": "2024-11-18T18:12:05.528Z"
   },
   {
    "duration": 0,
    "start_time": "2024-11-18T18:12:05.530Z"
   },
   {
    "duration": 0,
    "start_time": "2024-11-18T18:12:05.531Z"
   },
   {
    "duration": 138,
    "start_time": "2024-11-18T18:16:13.214Z"
   },
   {
    "duration": 5,
    "start_time": "2024-11-18T18:17:04.945Z"
   },
   {
    "duration": 106,
    "start_time": "2024-11-18T18:18:38.450Z"
   },
   {
    "duration": 475,
    "start_time": "2024-11-18T18:18:55.970Z"
   },
   {
    "duration": 5,
    "start_time": "2024-11-18T18:21:53.644Z"
   },
   {
    "duration": 4,
    "start_time": "2024-11-18T18:22:28.657Z"
   },
   {
    "duration": 12,
    "start_time": "2024-11-18T18:22:47.934Z"
   },
   {
    "duration": 3,
    "start_time": "2024-11-18T18:23:31.378Z"
   },
   {
    "duration": 6,
    "start_time": "2024-11-18T18:44:03.966Z"
   },
   {
    "duration": 7,
    "start_time": "2024-11-18T18:44:30.568Z"
   },
   {
    "duration": 8,
    "start_time": "2024-11-18T18:46:14.911Z"
   },
   {
    "duration": 7,
    "start_time": "2024-11-18T18:46:27.637Z"
   },
   {
    "duration": 13,
    "start_time": "2024-11-18T18:48:09.086Z"
   },
   {
    "duration": 3,
    "start_time": "2024-11-18T18:48:51.194Z"
   },
   {
    "duration": 9,
    "start_time": "2024-11-18T18:49:06.741Z"
   },
   {
    "duration": 29,
    "start_time": "2024-11-18T18:52:30.617Z"
   },
   {
    "duration": 5,
    "start_time": "2024-11-18T18:53:54.288Z"
   },
   {
    "duration": 7,
    "start_time": "2024-11-18T18:56:49.585Z"
   },
   {
    "duration": 29,
    "start_time": "2024-11-18T18:57:12.662Z"
   },
   {
    "duration": 3685,
    "start_time": "2024-11-19T17:09:15.739Z"
   },
   {
    "duration": 2725,
    "start_time": "2024-11-19T17:09:19.426Z"
   },
   {
    "duration": 13,
    "start_time": "2024-11-19T17:09:22.153Z"
   },
   {
    "duration": 3,
    "start_time": "2024-11-19T17:09:22.168Z"
   },
   {
    "duration": 10,
    "start_time": "2024-11-19T17:09:22.173Z"
   },
   {
    "duration": 9,
    "start_time": "2024-11-19T17:09:22.184Z"
   },
   {
    "duration": 3,
    "start_time": "2024-11-19T17:09:22.213Z"
   },
   {
    "duration": 5,
    "start_time": "2024-11-19T17:09:22.219Z"
   },
   {
    "duration": 17,
    "start_time": "2024-11-19T17:09:22.225Z"
   },
   {
    "duration": 2527,
    "start_time": "2024-11-19T17:09:22.245Z"
   },
   {
    "duration": 3,
    "start_time": "2024-11-19T17:09:24.774Z"
   },
   {
    "duration": 3,
    "start_time": "2024-11-19T17:09:24.779Z"
   },
   {
    "duration": 8,
    "start_time": "2024-11-19T17:09:24.784Z"
   },
   {
    "duration": 95,
    "start_time": "2024-11-19T17:09:24.793Z"
   },
   {
    "duration": 23,
    "start_time": "2024-11-19T17:09:24.889Z"
   },
   {
    "duration": 16,
    "start_time": "2024-11-19T17:09:24.914Z"
   },
   {
    "duration": 21,
    "start_time": "2024-11-19T17:09:24.932Z"
   },
   {
    "duration": 24,
    "start_time": "2024-11-19T17:09:24.954Z"
   },
   {
    "duration": 4,
    "start_time": "2024-11-19T17:09:24.980Z"
   },
   {
    "duration": 7,
    "start_time": "2024-11-19T17:09:25.013Z"
   },
   {
    "duration": 29,
    "start_time": "2024-11-19T17:09:25.022Z"
   },
   {
    "duration": 261,
    "start_time": "2024-11-19T17:09:25.052Z"
   },
   {
    "duration": 1,
    "start_time": "2024-11-19T17:09:25.314Z"
   },
   {
    "duration": 0,
    "start_time": "2024-11-19T17:09:25.317Z"
   },
   {
    "duration": 0,
    "start_time": "2024-11-19T17:09:25.318Z"
   },
   {
    "duration": 0,
    "start_time": "2024-11-19T17:09:25.320Z"
   },
   {
    "duration": 0,
    "start_time": "2024-11-19T17:09:25.321Z"
   },
   {
    "duration": 0,
    "start_time": "2024-11-19T17:09:25.322Z"
   },
   {
    "duration": 0,
    "start_time": "2024-11-19T17:09:25.323Z"
   },
   {
    "duration": 0,
    "start_time": "2024-11-19T17:09:25.324Z"
   },
   {
    "duration": 0,
    "start_time": "2024-11-19T17:09:25.325Z"
   },
   {
    "duration": 6,
    "start_time": "2024-11-19T17:09:44.523Z"
   },
   {
    "duration": 3,
    "start_time": "2024-11-19T17:11:38.002Z"
   },
   {
    "duration": 13,
    "start_time": "2024-11-19T17:12:43.345Z"
   },
   {
    "duration": 33,
    "start_time": "2024-11-19T17:12:59.893Z"
   },
   {
    "duration": 171,
    "start_time": "2024-11-19T17:13:06.222Z"
   },
   {
    "duration": 22,
    "start_time": "2024-11-19T17:13:36.601Z"
   },
   {
    "duration": 3,
    "start_time": "2024-11-19T17:52:19.608Z"
   },
   {
    "duration": 6,
    "start_time": "2024-11-19T17:52:22.426Z"
   },
   {
    "duration": 6,
    "start_time": "2024-11-19T17:57:12.132Z"
   },
   {
    "duration": 243,
    "start_time": "2024-11-19T17:57:17.012Z"
   },
   {
    "duration": 239,
    "start_time": "2024-11-19T18:03:09.661Z"
   },
   {
    "duration": 247,
    "start_time": "2024-11-19T18:03:37.124Z"
   },
   {
    "duration": 248,
    "start_time": "2024-11-19T18:03:47.810Z"
   },
   {
    "duration": 249,
    "start_time": "2024-11-19T18:03:58.912Z"
   },
   {
    "duration": 250,
    "start_time": "2024-11-19T18:04:23.676Z"
   },
   {
    "duration": 237,
    "start_time": "2024-11-19T18:05:33.485Z"
   },
   {
    "duration": 243,
    "start_time": "2024-11-19T18:06:22.389Z"
   },
   {
    "duration": 239,
    "start_time": "2024-11-19T18:06:57.747Z"
   },
   {
    "duration": 234,
    "start_time": "2024-11-19T18:07:13.175Z"
   },
   {
    "duration": 5,
    "start_time": "2024-11-19T18:07:56.668Z"
   },
   {
    "duration": 20,
    "start_time": "2024-11-19T18:08:02.023Z"
   },
   {
    "duration": 255,
    "start_time": "2024-11-19T18:12:52.634Z"
   },
   {
    "duration": 323,
    "start_time": "2024-11-19T18:13:29.729Z"
   },
   {
    "duration": 1997,
    "start_time": "2024-11-19T18:17:30.592Z"
   },
   {
    "duration": 914,
    "start_time": "2024-11-19T18:17:32.593Z"
   },
   {
    "duration": 9,
    "start_time": "2024-11-19T18:17:33.509Z"
   },
   {
    "duration": 3,
    "start_time": "2024-11-19T18:17:33.519Z"
   },
   {
    "duration": 10,
    "start_time": "2024-11-19T18:17:33.524Z"
   },
   {
    "duration": 8,
    "start_time": "2024-11-19T18:17:33.536Z"
   },
   {
    "duration": 3,
    "start_time": "2024-11-19T18:17:33.546Z"
   },
   {
    "duration": 4,
    "start_time": "2024-11-19T18:17:33.550Z"
   },
   {
    "duration": 16,
    "start_time": "2024-11-19T18:17:33.555Z"
   },
   {
    "duration": 2591,
    "start_time": "2024-11-19T18:17:33.573Z"
   },
   {
    "duration": 3,
    "start_time": "2024-11-19T18:17:36.166Z"
   },
   {
    "duration": 5,
    "start_time": "2024-11-19T18:17:36.170Z"
   },
   {
    "duration": 10,
    "start_time": "2024-11-19T18:17:36.176Z"
   },
   {
    "duration": 8,
    "start_time": "2024-11-19T18:17:36.189Z"
   },
   {
    "duration": 16,
    "start_time": "2024-11-19T18:17:36.212Z"
   },
   {
    "duration": 15,
    "start_time": "2024-11-19T18:17:36.230Z"
   },
   {
    "duration": 15,
    "start_time": "2024-11-19T18:17:36.247Z"
   },
   {
    "duration": 51,
    "start_time": "2024-11-19T18:17:36.264Z"
   },
   {
    "duration": 5,
    "start_time": "2024-11-19T18:17:36.317Z"
   },
   {
    "duration": 8,
    "start_time": "2024-11-19T18:17:36.323Z"
   },
   {
    "duration": 3,
    "start_time": "2024-11-19T18:17:36.334Z"
   },
   {
    "duration": 281,
    "start_time": "2024-11-19T18:17:36.338Z"
   },
   {
    "duration": 0,
    "start_time": "2024-11-19T18:17:36.622Z"
   },
   {
    "duration": 0,
    "start_time": "2024-11-19T18:17:36.625Z"
   },
   {
    "duration": 0,
    "start_time": "2024-11-19T18:17:36.627Z"
   },
   {
    "duration": 0,
    "start_time": "2024-11-19T18:17:36.628Z"
   },
   {
    "duration": 0,
    "start_time": "2024-11-19T18:17:36.633Z"
   },
   {
    "duration": 0,
    "start_time": "2024-11-19T18:17:36.634Z"
   },
   {
    "duration": 0,
    "start_time": "2024-11-19T18:17:36.635Z"
   },
   {
    "duration": 0,
    "start_time": "2024-11-19T18:17:36.636Z"
   },
   {
    "duration": 0,
    "start_time": "2024-11-19T18:17:36.638Z"
   },
   {
    "duration": 325,
    "start_time": "2024-11-19T18:17:46.605Z"
   },
   {
    "duration": 5,
    "start_time": "2024-11-19T18:18:13.729Z"
   },
   {
    "duration": 4,
    "start_time": "2024-11-19T18:18:35.607Z"
   },
   {
    "duration": 4,
    "start_time": "2024-11-19T18:26:20.418Z"
   },
   {
    "duration": 6,
    "start_time": "2024-11-19T18:26:53.383Z"
   },
   {
    "duration": 297,
    "start_time": "2024-11-19T18:27:33.589Z"
   },
   {
    "duration": 483,
    "start_time": "2024-11-19T18:29:19.465Z"
   },
   {
    "duration": 157,
    "start_time": "2024-11-20T16:21:59.767Z"
   },
   {
    "duration": 3786,
    "start_time": "2024-11-20T16:22:08.218Z"
   },
   {
    "duration": 2888,
    "start_time": "2024-11-20T16:22:12.007Z"
   },
   {
    "duration": 10,
    "start_time": "2024-11-20T16:22:14.897Z"
   },
   {
    "duration": 3,
    "start_time": "2024-11-20T16:22:14.909Z"
   },
   {
    "duration": 11,
    "start_time": "2024-11-20T16:22:14.913Z"
   },
   {
    "duration": 9,
    "start_time": "2024-11-20T16:22:14.925Z"
   },
   {
    "duration": 3,
    "start_time": "2024-11-20T16:22:14.935Z"
   },
   {
    "duration": 4,
    "start_time": "2024-11-20T16:22:14.940Z"
   },
   {
    "duration": 44,
    "start_time": "2024-11-20T16:22:14.946Z"
   },
   {
    "duration": 2714,
    "start_time": "2024-11-20T16:22:14.993Z"
   },
   {
    "duration": 3,
    "start_time": "2024-11-20T16:22:17.709Z"
   },
   {
    "duration": 6,
    "start_time": "2024-11-20T16:22:17.714Z"
   },
   {
    "duration": 10,
    "start_time": "2024-11-20T16:22:17.722Z"
   },
   {
    "duration": 91,
    "start_time": "2024-11-20T16:22:17.734Z"
   },
   {
    "duration": 14,
    "start_time": "2024-11-20T16:22:17.827Z"
   },
   {
    "duration": 18,
    "start_time": "2024-11-20T16:22:17.843Z"
   },
   {
    "duration": 43,
    "start_time": "2024-11-20T16:22:17.866Z"
   },
   {
    "duration": 30,
    "start_time": "2024-11-20T16:22:17.912Z"
   },
   {
    "duration": 4,
    "start_time": "2024-11-20T16:22:17.944Z"
   },
   {
    "duration": 9,
    "start_time": "2024-11-20T16:22:17.949Z"
   },
   {
    "duration": 29,
    "start_time": "2024-11-20T16:22:17.961Z"
   },
   {
    "duration": 3,
    "start_time": "2024-11-20T16:22:17.992Z"
   },
   {
    "duration": 373,
    "start_time": "2024-11-20T16:22:17.998Z"
   },
   {
    "duration": 17,
    "start_time": "2024-11-20T16:22:18.372Z"
   },
   {
    "duration": 3,
    "start_time": "2024-11-20T16:22:18.391Z"
   },
   {
    "duration": 6,
    "start_time": "2024-11-20T16:22:18.395Z"
   },
   {
    "duration": 0,
    "start_time": "2024-11-20T16:22:18.403Z"
   },
   {
    "duration": 0,
    "start_time": "2024-11-20T16:22:18.404Z"
   },
   {
    "duration": 0,
    "start_time": "2024-11-20T16:22:18.405Z"
   },
   {
    "duration": 0,
    "start_time": "2024-11-20T16:22:18.406Z"
   },
   {
    "duration": 0,
    "start_time": "2024-11-20T16:22:18.407Z"
   },
   {
    "duration": 0,
    "start_time": "2024-11-20T16:22:18.408Z"
   },
   {
    "duration": 3,
    "start_time": "2024-11-20T16:46:17.617Z"
   },
   {
    "duration": 280,
    "start_time": "2024-11-20T16:46:47.190Z"
   },
   {
    "duration": 302,
    "start_time": "2024-11-20T16:49:34.837Z"
   },
   {
    "duration": 418,
    "start_time": "2024-11-20T16:50:09.957Z"
   },
   {
    "duration": 2027,
    "start_time": "2024-11-20T17:14:33.190Z"
   },
   {
    "duration": 938,
    "start_time": "2024-11-20T17:14:35.221Z"
   },
   {
    "duration": 8,
    "start_time": "2024-11-20T17:14:36.161Z"
   },
   {
    "duration": 3,
    "start_time": "2024-11-20T17:14:36.170Z"
   },
   {
    "duration": 11,
    "start_time": "2024-11-20T17:14:36.188Z"
   },
   {
    "duration": 11,
    "start_time": "2024-11-20T17:14:36.201Z"
   },
   {
    "duration": 2,
    "start_time": "2024-11-20T17:14:36.214Z"
   },
   {
    "duration": 3,
    "start_time": "2024-11-20T17:14:36.218Z"
   },
   {
    "duration": 16,
    "start_time": "2024-11-20T17:14:36.223Z"
   },
   {
    "duration": 2608,
    "start_time": "2024-11-20T17:14:36.240Z"
   },
   {
    "duration": 2,
    "start_time": "2024-11-20T17:14:38.850Z"
   },
   {
    "duration": 7,
    "start_time": "2024-11-20T17:14:38.854Z"
   },
   {
    "duration": 9,
    "start_time": "2024-11-20T17:14:38.863Z"
   },
   {
    "duration": 13,
    "start_time": "2024-11-20T17:14:38.877Z"
   },
   {
    "duration": 16,
    "start_time": "2024-11-20T17:14:38.892Z"
   },
   {
    "duration": 14,
    "start_time": "2024-11-20T17:14:38.910Z"
   },
   {
    "duration": 17,
    "start_time": "2024-11-20T17:14:38.927Z"
   },
   {
    "duration": 42,
    "start_time": "2024-11-20T17:14:38.946Z"
   },
   {
    "duration": 4,
    "start_time": "2024-11-20T17:14:38.990Z"
   },
   {
    "duration": 5,
    "start_time": "2024-11-20T17:14:38.996Z"
   },
   {
    "duration": 8,
    "start_time": "2024-11-20T17:14:39.003Z"
   },
   {
    "duration": 3,
    "start_time": "2024-11-20T17:14:39.014Z"
   },
   {
    "duration": 6,
    "start_time": "2024-11-20T17:14:39.018Z"
   },
   {
    "duration": 4,
    "start_time": "2024-11-20T17:14:39.026Z"
   },
   {
    "duration": 336,
    "start_time": "2024-11-20T17:14:39.032Z"
   },
   {
    "duration": 382,
    "start_time": "2024-11-20T17:14:39.369Z"
   },
   {
    "duration": 5,
    "start_time": "2024-11-20T17:14:39.753Z"
   },
   {
    "duration": 4,
    "start_time": "2024-11-20T17:14:39.761Z"
   },
   {
    "duration": 0,
    "start_time": "2024-11-20T17:14:39.767Z"
   },
   {
    "duration": 0,
    "start_time": "2024-11-20T17:14:39.768Z"
   },
   {
    "duration": 0,
    "start_time": "2024-11-20T17:14:39.770Z"
   },
   {
    "duration": 0,
    "start_time": "2024-11-20T17:14:39.787Z"
   },
   {
    "duration": 0,
    "start_time": "2024-11-20T17:14:39.787Z"
   },
   {
    "duration": 0,
    "start_time": "2024-11-20T17:14:39.788Z"
   },
   {
    "duration": 4,
    "start_time": "2024-11-20T17:22:36.782Z"
   },
   {
    "duration": 319,
    "start_time": "2024-11-20T17:24:01.883Z"
   },
   {
    "duration": 353,
    "start_time": "2024-11-20T17:24:19.267Z"
   },
   {
    "duration": 371,
    "start_time": "2024-11-20T17:25:53.475Z"
   },
   {
    "duration": 334,
    "start_time": "2024-11-20T17:26:32.079Z"
   },
   {
    "duration": 379,
    "start_time": "2024-11-20T17:26:53.956Z"
   },
   {
    "duration": 349,
    "start_time": "2024-11-20T17:28:06.668Z"
   },
   {
    "duration": 368,
    "start_time": "2024-11-20T17:28:16.465Z"
   },
   {
    "duration": 290,
    "start_time": "2024-11-20T17:29:19.751Z"
   },
   {
    "duration": 666,
    "start_time": "2024-11-20T17:31:04.209Z"
   },
   {
    "duration": 2130,
    "start_time": "2024-11-20T17:32:32.548Z"
   },
   {
    "duration": 977,
    "start_time": "2024-11-20T17:32:34.680Z"
   },
   {
    "duration": 8,
    "start_time": "2024-11-20T17:32:35.659Z"
   },
   {
    "duration": 3,
    "start_time": "2024-11-20T17:32:35.670Z"
   },
   {
    "duration": 20,
    "start_time": "2024-11-20T17:32:35.675Z"
   },
   {
    "duration": 9,
    "start_time": "2024-11-20T17:32:35.698Z"
   },
   {
    "duration": 3,
    "start_time": "2024-11-20T17:32:35.708Z"
   },
   {
    "duration": 3,
    "start_time": "2024-11-20T17:32:35.713Z"
   },
   {
    "duration": 18,
    "start_time": "2024-11-20T17:32:35.718Z"
   },
   {
    "duration": 2636,
    "start_time": "2024-11-20T17:32:35.739Z"
   },
   {
    "duration": 2,
    "start_time": "2024-11-20T17:32:38.377Z"
   },
   {
    "duration": 4,
    "start_time": "2024-11-20T17:32:38.381Z"
   },
   {
    "duration": 9,
    "start_time": "2024-11-20T17:32:38.387Z"
   },
   {
    "duration": 9,
    "start_time": "2024-11-20T17:32:38.397Z"
   },
   {
    "duration": 14,
    "start_time": "2024-11-20T17:32:38.407Z"
   },
   {
    "duration": 14,
    "start_time": "2024-11-20T17:32:38.422Z"
   },
   {
    "duration": 14,
    "start_time": "2024-11-20T17:32:38.438Z"
   },
   {
    "duration": 43,
    "start_time": "2024-11-20T17:32:38.454Z"
   },
   {
    "duration": 3,
    "start_time": "2024-11-20T17:32:38.499Z"
   },
   {
    "duration": 0,
    "start_time": "2024-11-20T17:32:38.504Z"
   },
   {
    "duration": 0,
    "start_time": "2024-11-20T17:32:38.505Z"
   },
   {
    "duration": 0,
    "start_time": "2024-11-20T17:32:38.506Z"
   },
   {
    "duration": 0,
    "start_time": "2024-11-20T17:32:38.507Z"
   },
   {
    "duration": 0,
    "start_time": "2024-11-20T17:32:38.508Z"
   },
   {
    "duration": 0,
    "start_time": "2024-11-20T17:32:38.508Z"
   },
   {
    "duration": 0,
    "start_time": "2024-11-20T17:32:38.509Z"
   },
   {
    "duration": 0,
    "start_time": "2024-11-20T17:32:38.510Z"
   },
   {
    "duration": 0,
    "start_time": "2024-11-20T17:32:38.512Z"
   },
   {
    "duration": 0,
    "start_time": "2024-11-20T17:32:38.513Z"
   },
   {
    "duration": 0,
    "start_time": "2024-11-20T17:32:38.514Z"
   },
   {
    "duration": 0,
    "start_time": "2024-11-20T17:32:38.515Z"
   },
   {
    "duration": 0,
    "start_time": "2024-11-20T17:32:38.516Z"
   },
   {
    "duration": 0,
    "start_time": "2024-11-20T17:32:38.517Z"
   },
   {
    "duration": 1952,
    "start_time": "2024-11-20T17:35:58.071Z"
   },
   {
    "duration": 918,
    "start_time": "2024-11-20T17:36:00.026Z"
   },
   {
    "duration": 7,
    "start_time": "2024-11-20T17:36:00.946Z"
   },
   {
    "duration": 3,
    "start_time": "2024-11-20T17:36:00.955Z"
   },
   {
    "duration": 10,
    "start_time": "2024-11-20T17:36:00.960Z"
   },
   {
    "duration": 9,
    "start_time": "2024-11-20T17:36:00.987Z"
   },
   {
    "duration": 3,
    "start_time": "2024-11-20T17:36:00.998Z"
   },
   {
    "duration": 4,
    "start_time": "2024-11-20T17:36:01.003Z"
   },
   {
    "duration": 18,
    "start_time": "2024-11-20T17:36:01.009Z"
   },
   {
    "duration": 2674,
    "start_time": "2024-11-20T17:36:01.033Z"
   },
   {
    "duration": 3,
    "start_time": "2024-11-20T17:36:03.709Z"
   },
   {
    "duration": 5,
    "start_time": "2024-11-20T17:36:03.714Z"
   },
   {
    "duration": 10,
    "start_time": "2024-11-20T17:36:03.722Z"
   },
   {
    "duration": 8,
    "start_time": "2024-11-20T17:36:03.733Z"
   },
   {
    "duration": 17,
    "start_time": "2024-11-20T17:36:03.743Z"
   },
   {
    "duration": 33,
    "start_time": "2024-11-20T17:36:03.762Z"
   },
   {
    "duration": 15,
    "start_time": "2024-11-20T17:36:03.797Z"
   },
   {
    "duration": 16,
    "start_time": "2024-11-20T17:36:03.814Z"
   },
   {
    "duration": 3,
    "start_time": "2024-11-20T17:36:03.832Z"
   },
   {
    "duration": 0,
    "start_time": "2024-11-20T17:36:03.837Z"
   },
   {
    "duration": 0,
    "start_time": "2024-11-20T17:36:03.839Z"
   },
   {
    "duration": 0,
    "start_time": "2024-11-20T17:36:03.840Z"
   },
   {
    "duration": 0,
    "start_time": "2024-11-20T17:36:03.841Z"
   },
   {
    "duration": 0,
    "start_time": "2024-11-20T17:36:03.842Z"
   },
   {
    "duration": 0,
    "start_time": "2024-11-20T17:36:03.843Z"
   },
   {
    "duration": 0,
    "start_time": "2024-11-20T17:36:03.844Z"
   },
   {
    "duration": 0,
    "start_time": "2024-11-20T17:36:03.846Z"
   },
   {
    "duration": 0,
    "start_time": "2024-11-20T17:36:03.847Z"
   },
   {
    "duration": 0,
    "start_time": "2024-11-20T17:36:03.848Z"
   },
   {
    "duration": 0,
    "start_time": "2024-11-20T17:36:03.848Z"
   },
   {
    "duration": 0,
    "start_time": "2024-11-20T17:36:03.849Z"
   },
   {
    "duration": 0,
    "start_time": "2024-11-20T17:36:03.849Z"
   },
   {
    "duration": 0,
    "start_time": "2024-11-20T17:36:03.886Z"
   },
   {
    "duration": 3,
    "start_time": "2024-11-20T17:37:39.335Z"
   },
   {
    "duration": 3,
    "start_time": "2024-11-20T17:38:06.334Z"
   },
   {
    "duration": 6,
    "start_time": "2024-11-20T17:38:16.160Z"
   },
   {
    "duration": 4,
    "start_time": "2024-11-20T17:38:23.789Z"
   },
   {
    "duration": 10,
    "start_time": "2024-11-20T17:38:54.193Z"
   },
   {
    "duration": 4,
    "start_time": "2024-11-20T17:39:14.201Z"
   },
   {
    "duration": 4,
    "start_time": "2024-11-20T17:39:24.514Z"
   },
   {
    "duration": 5,
    "start_time": "2024-11-20T17:39:35.096Z"
   },
   {
    "duration": 4,
    "start_time": "2024-11-20T17:39:48.198Z"
   },
   {
    "duration": 7,
    "start_time": "2024-11-20T17:39:57.213Z"
   },
   {
    "duration": 655,
    "start_time": "2024-11-20T17:40:08.049Z"
   },
   {
    "duration": 378,
    "start_time": "2024-11-20T17:41:42.843Z"
   },
   {
    "duration": 309,
    "start_time": "2024-11-20T17:41:57.164Z"
   },
   {
    "duration": 4,
    "start_time": "2024-11-20T17:43:57.878Z"
   },
   {
    "duration": 349,
    "start_time": "2024-11-20T17:44:06.576Z"
   },
   {
    "duration": 314,
    "start_time": "2024-11-20T17:44:14.000Z"
   },
   {
    "duration": 2086,
    "start_time": "2024-11-20T17:44:29.320Z"
   },
   {
    "duration": 1032,
    "start_time": "2024-11-20T17:44:31.409Z"
   },
   {
    "duration": 8,
    "start_time": "2024-11-20T17:44:32.442Z"
   },
   {
    "duration": 3,
    "start_time": "2024-11-20T17:44:32.453Z"
   },
   {
    "duration": 14,
    "start_time": "2024-11-20T17:44:32.457Z"
   },
   {
    "duration": 9,
    "start_time": "2024-11-20T17:44:32.488Z"
   },
   {
    "duration": 3,
    "start_time": "2024-11-20T17:44:32.499Z"
   },
   {
    "duration": 4,
    "start_time": "2024-11-20T17:44:32.503Z"
   },
   {
    "duration": 18,
    "start_time": "2024-11-20T17:44:32.509Z"
   },
   {
    "duration": 2776,
    "start_time": "2024-11-20T17:44:32.531Z"
   },
   {
    "duration": 2,
    "start_time": "2024-11-20T17:44:35.309Z"
   },
   {
    "duration": 5,
    "start_time": "2024-11-20T17:44:35.313Z"
   },
   {
    "duration": 9,
    "start_time": "2024-11-20T17:44:35.320Z"
   },
   {
    "duration": 10,
    "start_time": "2024-11-20T17:44:35.330Z"
   },
   {
    "duration": 15,
    "start_time": "2024-11-20T17:44:35.342Z"
   },
   {
    "duration": 14,
    "start_time": "2024-11-20T17:44:35.359Z"
   },
   {
    "duration": 25,
    "start_time": "2024-11-20T17:44:35.374Z"
   },
   {
    "duration": 16,
    "start_time": "2024-11-20T17:44:35.401Z"
   },
   {
    "duration": 6,
    "start_time": "2024-11-20T17:44:35.419Z"
   },
   {
    "duration": 10,
    "start_time": "2024-11-20T17:44:35.426Z"
   },
   {
    "duration": 4,
    "start_time": "2024-11-20T17:44:35.437Z"
   },
   {
    "duration": 4,
    "start_time": "2024-11-20T17:44:35.442Z"
   },
   {
    "duration": 43,
    "start_time": "2024-11-20T17:44:35.448Z"
   },
   {
    "duration": 361,
    "start_time": "2024-11-20T17:44:35.493Z"
   },
   {
    "duration": 338,
    "start_time": "2024-11-20T17:44:35.856Z"
   },
   {
    "duration": 4,
    "start_time": "2024-11-20T17:44:36.195Z"
   },
   {
    "duration": 4,
    "start_time": "2024-11-20T17:44:36.200Z"
   },
   {
    "duration": 0,
    "start_time": "2024-11-20T17:44:36.206Z"
   },
   {
    "duration": 0,
    "start_time": "2024-11-20T17:44:36.208Z"
   },
   {
    "duration": 0,
    "start_time": "2024-11-20T17:44:36.209Z"
   },
   {
    "duration": 0,
    "start_time": "2024-11-20T17:44:36.210Z"
   },
   {
    "duration": 0,
    "start_time": "2024-11-20T17:44:36.211Z"
   },
   {
    "duration": 0,
    "start_time": "2024-11-20T17:44:36.212Z"
   },
   {
    "duration": 4,
    "start_time": "2024-11-20T17:46:31.553Z"
   },
   {
    "duration": 9,
    "start_time": "2024-11-20T17:46:33.703Z"
   },
   {
    "duration": 8,
    "start_time": "2024-11-20T17:46:55.486Z"
   },
   {
    "duration": 3,
    "start_time": "2024-11-20T17:47:08.272Z"
   },
   {
    "duration": 5,
    "start_time": "2024-11-20T17:47:24.918Z"
   },
   {
    "duration": 5,
    "start_time": "2024-11-20T17:47:30.610Z"
   },
   {
    "duration": 371,
    "start_time": "2024-11-20T17:47:38.885Z"
   },
   {
    "duration": 317,
    "start_time": "2024-11-20T17:47:59.701Z"
   },
   {
    "duration": 11,
    "start_time": "2024-11-20T17:49:08.615Z"
   },
   {
    "duration": 12,
    "start_time": "2024-11-20T17:49:47.540Z"
   },
   {
    "duration": 9,
    "start_time": "2024-11-20T17:50:41.529Z"
   },
   {
    "duration": 5,
    "start_time": "2024-11-20T17:51:57.043Z"
   },
   {
    "duration": 4,
    "start_time": "2024-11-20T17:52:00.859Z"
   },
   {
    "duration": 3,
    "start_time": "2024-11-20T17:52:09.254Z"
   },
   {
    "duration": 9,
    "start_time": "2024-11-20T17:52:15.674Z"
   },
   {
    "duration": 11,
    "start_time": "2024-11-20T17:52:24.503Z"
   },
   {
    "duration": 1989,
    "start_time": "2024-11-20T17:53:34.153Z"
   },
   {
    "duration": 922,
    "start_time": "2024-11-20T17:53:36.145Z"
   },
   {
    "duration": 8,
    "start_time": "2024-11-20T17:53:37.068Z"
   },
   {
    "duration": 10,
    "start_time": "2024-11-20T17:53:37.078Z"
   },
   {
    "duration": 11,
    "start_time": "2024-11-20T17:53:37.090Z"
   },
   {
    "duration": 9,
    "start_time": "2024-11-20T17:53:37.103Z"
   },
   {
    "duration": 4,
    "start_time": "2024-11-20T17:53:37.113Z"
   },
   {
    "duration": 4,
    "start_time": "2024-11-20T17:53:37.119Z"
   },
   {
    "duration": 16,
    "start_time": "2024-11-20T17:53:37.124Z"
   },
   {
    "duration": 2671,
    "start_time": "2024-11-20T17:53:37.145Z"
   },
   {
    "duration": 2,
    "start_time": "2024-11-20T17:53:39.818Z"
   },
   {
    "duration": 4,
    "start_time": "2024-11-20T17:53:39.822Z"
   },
   {
    "duration": 8,
    "start_time": "2024-11-20T17:53:39.828Z"
   },
   {
    "duration": 7,
    "start_time": "2024-11-20T17:53:39.838Z"
   },
   {
    "duration": 14,
    "start_time": "2024-11-20T17:53:39.847Z"
   },
   {
    "duration": 25,
    "start_time": "2024-11-20T17:53:39.863Z"
   },
   {
    "duration": 16,
    "start_time": "2024-11-20T17:53:39.889Z"
   },
   {
    "duration": 15,
    "start_time": "2024-11-20T17:53:39.907Z"
   },
   {
    "duration": 3,
    "start_time": "2024-11-20T17:53:39.924Z"
   },
   {
    "duration": 4,
    "start_time": "2024-11-20T17:53:39.928Z"
   },
   {
    "duration": 3,
    "start_time": "2024-11-20T17:53:39.934Z"
   },
   {
    "duration": 10,
    "start_time": "2024-11-20T17:53:39.939Z"
   },
   {
    "duration": 6,
    "start_time": "2024-11-20T17:53:39.987Z"
   },
   {
    "duration": 6,
    "start_time": "2024-11-20T17:53:39.995Z"
   },
   {
    "duration": 5,
    "start_time": "2024-11-20T17:53:40.003Z"
   },
   {
    "duration": 347,
    "start_time": "2024-11-20T17:53:40.009Z"
   },
   {
    "duration": 383,
    "start_time": "2024-11-20T17:53:40.358Z"
   },
   {
    "duration": 3,
    "start_time": "2024-11-20T17:53:40.746Z"
   },
   {
    "duration": 6,
    "start_time": "2024-11-20T17:53:40.751Z"
   },
   {
    "duration": 0,
    "start_time": "2024-11-20T17:53:40.758Z"
   },
   {
    "duration": 0,
    "start_time": "2024-11-20T17:53:40.760Z"
   },
   {
    "duration": 0,
    "start_time": "2024-11-20T17:53:40.760Z"
   },
   {
    "duration": 0,
    "start_time": "2024-11-20T17:53:40.761Z"
   },
   {
    "duration": 0,
    "start_time": "2024-11-20T17:53:40.762Z"
   },
   {
    "duration": 0,
    "start_time": "2024-11-20T17:53:40.763Z"
   },
   {
    "duration": 3,
    "start_time": "2024-11-20T17:54:31.598Z"
   },
   {
    "duration": 5,
    "start_time": "2024-11-20T17:54:33.461Z"
   },
   {
    "duration": 3,
    "start_time": "2024-11-20T17:54:35.162Z"
   },
   {
    "duration": 11,
    "start_time": "2024-11-20T17:54:40.836Z"
   },
   {
    "duration": 1997,
    "start_time": "2024-11-20T17:55:06.151Z"
   },
   {
    "duration": 942,
    "start_time": "2024-11-20T17:55:08.151Z"
   },
   {
    "duration": 8,
    "start_time": "2024-11-20T17:55:09.096Z"
   },
   {
    "duration": 3,
    "start_time": "2024-11-20T17:55:09.106Z"
   },
   {
    "duration": 12,
    "start_time": "2024-11-20T17:55:09.111Z"
   },
   {
    "duration": 9,
    "start_time": "2024-11-20T17:55:09.126Z"
   },
   {
    "duration": 2,
    "start_time": "2024-11-20T17:55:09.137Z"
   },
   {
    "duration": 4,
    "start_time": "2024-11-20T17:55:09.141Z"
   },
   {
    "duration": 50,
    "start_time": "2024-11-20T17:55:09.147Z"
   },
   {
    "duration": 2618,
    "start_time": "2024-11-20T17:55:09.201Z"
   },
   {
    "duration": 2,
    "start_time": "2024-11-20T17:55:11.821Z"
   },
   {
    "duration": 5,
    "start_time": "2024-11-20T17:55:11.825Z"
   },
   {
    "duration": 10,
    "start_time": "2024-11-20T17:55:11.831Z"
   },
   {
    "duration": 8,
    "start_time": "2024-11-20T17:55:11.843Z"
   },
   {
    "duration": 16,
    "start_time": "2024-11-20T17:55:11.853Z"
   },
   {
    "duration": 20,
    "start_time": "2024-11-20T17:55:11.871Z"
   },
   {
    "duration": 16,
    "start_time": "2024-11-20T17:55:11.893Z"
   },
   {
    "duration": 15,
    "start_time": "2024-11-20T17:55:11.911Z"
   },
   {
    "duration": 3,
    "start_time": "2024-11-20T17:55:11.928Z"
   },
   {
    "duration": 5,
    "start_time": "2024-11-20T17:55:11.932Z"
   },
   {
    "duration": 3,
    "start_time": "2024-11-20T17:55:11.939Z"
   },
   {
    "duration": 48,
    "start_time": "2024-11-20T17:55:11.944Z"
   },
   {
    "duration": 3,
    "start_time": "2024-11-20T17:55:11.995Z"
   },
   {
    "duration": 4,
    "start_time": "2024-11-20T17:55:11.999Z"
   },
   {
    "duration": 4,
    "start_time": "2024-11-20T17:55:12.005Z"
   },
   {
    "duration": 344,
    "start_time": "2024-11-20T17:55:12.012Z"
   },
   {
    "duration": 348,
    "start_time": "2024-11-20T17:55:12.358Z"
   },
   {
    "duration": 3,
    "start_time": "2024-11-20T17:55:12.710Z"
   },
   {
    "duration": 4,
    "start_time": "2024-11-20T17:55:12.714Z"
   },
   {
    "duration": 0,
    "start_time": "2024-11-20T17:55:12.720Z"
   },
   {
    "duration": 0,
    "start_time": "2024-11-20T17:55:12.721Z"
   },
   {
    "duration": 0,
    "start_time": "2024-11-20T17:55:12.722Z"
   },
   {
    "duration": 0,
    "start_time": "2024-11-20T17:55:12.723Z"
   },
   {
    "duration": 0,
    "start_time": "2024-11-20T17:55:12.724Z"
   },
   {
    "duration": 0,
    "start_time": "2024-11-20T17:55:12.725Z"
   },
   {
    "duration": 13,
    "start_time": "2024-11-20T17:56:11.002Z"
   },
   {
    "duration": 4,
    "start_time": "2024-11-20T17:57:09.356Z"
   },
   {
    "duration": 11,
    "start_time": "2024-11-20T17:57:11.979Z"
   },
   {
    "duration": 8,
    "start_time": "2024-11-20T17:57:19.612Z"
   },
   {
    "duration": 298,
    "start_time": "2024-11-20T17:57:35.349Z"
   },
   {
    "duration": 369,
    "start_time": "2024-11-20T17:57:44.508Z"
   },
   {
    "duration": 116,
    "start_time": "2024-11-20T18:17:24.077Z"
   },
   {
    "duration": 5,
    "start_time": "2024-11-20T18:20:08.027Z"
   },
   {
    "duration": 242,
    "start_time": "2024-11-20T18:20:14.256Z"
   },
   {
    "duration": 4,
    "start_time": "2024-11-20T18:20:36.478Z"
   },
   {
    "duration": 325,
    "start_time": "2024-11-20T18:20:42.083Z"
   },
   {
    "duration": 366,
    "start_time": "2024-11-20T18:20:54.435Z"
   },
   {
    "duration": 3,
    "start_time": "2024-11-20T18:40:31.248Z"
   },
   {
    "duration": 338,
    "start_time": "2024-11-20T18:40:38.068Z"
   },
   {
    "duration": 348,
    "start_time": "2024-11-20T18:41:01.905Z"
   },
   {
    "duration": 2159,
    "start_time": "2024-11-20T21:31:58.034Z"
   },
   {
    "duration": 3829,
    "start_time": "2024-11-20T23:26:19.386Z"
   },
   {
    "duration": 2745,
    "start_time": "2024-11-20T23:26:23.217Z"
   },
   {
    "duration": 10,
    "start_time": "2024-11-20T23:26:25.964Z"
   },
   {
    "duration": 3,
    "start_time": "2024-11-20T23:26:25.977Z"
   },
   {
    "duration": 24,
    "start_time": "2024-11-20T23:26:25.982Z"
   },
   {
    "duration": 10,
    "start_time": "2024-11-20T23:26:26.008Z"
   },
   {
    "duration": 3,
    "start_time": "2024-11-20T23:26:26.020Z"
   },
   {
    "duration": 4,
    "start_time": "2024-11-20T23:26:26.026Z"
   },
   {
    "duration": 17,
    "start_time": "2024-11-20T23:26:26.032Z"
   },
   {
    "duration": 2621,
    "start_time": "2024-11-20T23:26:26.053Z"
   },
   {
    "duration": 2,
    "start_time": "2024-11-20T23:26:28.676Z"
   },
   {
    "duration": 4,
    "start_time": "2024-11-20T23:26:28.680Z"
   },
   {
    "duration": 11,
    "start_time": "2024-11-20T23:26:28.686Z"
   },
   {
    "duration": 12,
    "start_time": "2024-11-20T23:26:28.700Z"
   },
   {
    "duration": 115,
    "start_time": "2024-11-20T23:26:28.715Z"
   },
   {
    "duration": 14,
    "start_time": "2024-11-20T23:26:28.831Z"
   },
   {
    "duration": 22,
    "start_time": "2024-11-20T23:26:28.846Z"
   },
   {
    "duration": 46,
    "start_time": "2024-11-20T23:26:28.870Z"
   },
   {
    "duration": 3,
    "start_time": "2024-11-20T23:26:28.918Z"
   },
   {
    "duration": 5,
    "start_time": "2024-11-20T23:26:28.923Z"
   },
   {
    "duration": 4,
    "start_time": "2024-11-20T23:26:28.931Z"
   },
   {
    "duration": 8,
    "start_time": "2024-11-20T23:26:28.937Z"
   },
   {
    "duration": 3,
    "start_time": "2024-11-20T23:26:28.946Z"
   },
   {
    "duration": 4,
    "start_time": "2024-11-20T23:26:28.951Z"
   },
   {
    "duration": 4,
    "start_time": "2024-11-20T23:26:28.957Z"
   },
   {
    "duration": 374,
    "start_time": "2024-11-20T23:26:28.963Z"
   },
   {
    "duration": 417,
    "start_time": "2024-11-20T23:26:29.339Z"
   },
   {
    "duration": 137,
    "start_time": "2024-11-20T23:26:29.761Z"
   },
   {
    "duration": 3,
    "start_time": "2024-11-20T23:26:29.905Z"
   },
   {
    "duration": 6,
    "start_time": "2024-11-20T23:26:29.910Z"
   },
   {
    "duration": 1,
    "start_time": "2024-11-20T23:26:29.917Z"
   },
   {
    "duration": 0,
    "start_time": "2024-11-20T23:26:29.919Z"
   },
   {
    "duration": 0,
    "start_time": "2024-11-20T23:26:29.920Z"
   },
   {
    "duration": 0,
    "start_time": "2024-11-20T23:26:29.921Z"
   },
   {
    "duration": 0,
    "start_time": "2024-11-20T23:26:29.922Z"
   },
   {
    "duration": 0,
    "start_time": "2024-11-20T23:26:29.923Z"
   },
   {
    "duration": 161,
    "start_time": "2024-11-21T00:47:41.226Z"
   },
   {
    "duration": 3670,
    "start_time": "2024-11-21T00:47:53.233Z"
   },
   {
    "duration": 2670,
    "start_time": "2024-11-21T00:47:56.905Z"
   },
   {
    "duration": 12,
    "start_time": "2024-11-21T00:47:59.577Z"
   },
   {
    "duration": 3,
    "start_time": "2024-11-21T00:47:59.591Z"
   },
   {
    "duration": 19,
    "start_time": "2024-11-21T00:47:59.596Z"
   },
   {
    "duration": 9,
    "start_time": "2024-11-21T00:47:59.617Z"
   },
   {
    "duration": 3,
    "start_time": "2024-11-21T00:47:59.627Z"
   },
   {
    "duration": 4,
    "start_time": "2024-11-21T00:47:59.631Z"
   },
   {
    "duration": 16,
    "start_time": "2024-11-21T00:47:59.636Z"
   },
   {
    "duration": 2562,
    "start_time": "2024-11-21T00:47:59.656Z"
   },
   {
    "duration": 3,
    "start_time": "2024-11-21T00:48:02.220Z"
   },
   {
    "duration": 3,
    "start_time": "2024-11-21T00:48:02.225Z"
   },
   {
    "duration": 8,
    "start_time": "2024-11-21T00:48:02.230Z"
   },
   {
    "duration": 98,
    "start_time": "2024-11-21T00:48:02.240Z"
   },
   {
    "duration": 15,
    "start_time": "2024-11-21T00:48:02.340Z"
   },
   {
    "duration": 14,
    "start_time": "2024-11-21T00:48:02.356Z"
   },
   {
    "duration": 43,
    "start_time": "2024-11-21T00:48:02.372Z"
   },
   {
    "duration": 22,
    "start_time": "2024-11-21T00:48:02.417Z"
   },
   {
    "duration": 2,
    "start_time": "2024-11-21T00:48:02.441Z"
   },
   {
    "duration": 4,
    "start_time": "2024-11-21T00:48:02.445Z"
   },
   {
    "duration": 3,
    "start_time": "2024-11-21T00:48:02.452Z"
   },
   {
    "duration": 7,
    "start_time": "2024-11-21T00:48:02.457Z"
   },
   {
    "duration": 2,
    "start_time": "2024-11-21T00:48:02.466Z"
   },
   {
    "duration": 42,
    "start_time": "2024-11-21T00:48:02.470Z"
   },
   {
    "duration": 5,
    "start_time": "2024-11-21T00:48:02.514Z"
   },
   {
    "duration": 318,
    "start_time": "2024-11-21T00:48:02.520Z"
   },
   {
    "duration": 412,
    "start_time": "2024-11-21T00:48:02.840Z"
   },
   {
    "duration": 130,
    "start_time": "2024-11-21T00:48:03.256Z"
   },
   {
    "duration": 3,
    "start_time": "2024-11-21T00:48:03.388Z"
   },
   {
    "duration": 402,
    "start_time": "2024-11-21T00:48:03.393Z"
   },
   {
    "duration": 0,
    "start_time": "2024-11-21T00:48:03.797Z"
   },
   {
    "duration": 0,
    "start_time": "2024-11-21T00:48:03.799Z"
   },
   {
    "duration": 0,
    "start_time": "2024-11-21T00:48:03.800Z"
   },
   {
    "duration": 0,
    "start_time": "2024-11-21T00:48:03.801Z"
   },
   {
    "duration": 0,
    "start_time": "2024-11-21T00:48:03.812Z"
   },
   {
    "duration": 0,
    "start_time": "2024-11-21T00:48:03.813Z"
   },
   {
    "duration": 21,
    "start_time": "2024-11-21T00:49:23.786Z"
   },
   {
    "duration": 3,
    "start_time": "2024-11-21T02:15:56.527Z"
   },
   {
    "duration": 2,
    "start_time": "2024-11-21T02:16:23.218Z"
   },
   {
    "duration": 4,
    "start_time": "2024-11-21T02:28:59.988Z"
   },
   {
    "duration": 3,
    "start_time": "2024-11-21T02:29:15.224Z"
   },
   {
    "duration": 120,
    "start_time": "2024-11-21T02:29:44.794Z"
   },
   {
    "duration": 1951,
    "start_time": "2024-11-21T02:33:32.612Z"
   },
   {
    "duration": 928,
    "start_time": "2024-11-21T02:33:34.565Z"
   },
   {
    "duration": 9,
    "start_time": "2024-11-21T02:33:35.494Z"
   },
   {
    "duration": 8,
    "start_time": "2024-11-21T02:33:35.505Z"
   },
   {
    "duration": 10,
    "start_time": "2024-11-21T02:33:35.515Z"
   },
   {
    "duration": 8,
    "start_time": "2024-11-21T02:33:35.527Z"
   },
   {
    "duration": 4,
    "start_time": "2024-11-21T02:33:35.537Z"
   },
   {
    "duration": 4,
    "start_time": "2024-11-21T02:33:35.542Z"
   },
   {
    "duration": 15,
    "start_time": "2024-11-21T02:33:35.548Z"
   },
   {
    "duration": 2708,
    "start_time": "2024-11-21T02:33:35.564Z"
   },
   {
    "duration": 2,
    "start_time": "2024-11-21T02:33:38.274Z"
   },
   {
    "duration": 4,
    "start_time": "2024-11-21T02:33:38.278Z"
   },
   {
    "duration": 9,
    "start_time": "2024-11-21T02:33:38.284Z"
   },
   {
    "duration": 8,
    "start_time": "2024-11-21T02:33:38.297Z"
   },
   {
    "duration": 14,
    "start_time": "2024-11-21T02:33:38.312Z"
   },
   {
    "duration": 13,
    "start_time": "2024-11-21T02:33:38.328Z"
   },
   {
    "duration": 13,
    "start_time": "2024-11-21T02:33:38.343Z"
   },
   {
    "duration": 13,
    "start_time": "2024-11-21T02:33:38.358Z"
   },
   {
    "duration": 2,
    "start_time": "2024-11-21T02:33:38.373Z"
   },
   {
    "duration": 6,
    "start_time": "2024-11-21T02:33:38.412Z"
   },
   {
    "duration": 4,
    "start_time": "2024-11-21T02:33:38.420Z"
   },
   {
    "duration": 9,
    "start_time": "2024-11-21T02:33:38.425Z"
   },
   {
    "duration": 2,
    "start_time": "2024-11-21T02:33:38.436Z"
   },
   {
    "duration": 5,
    "start_time": "2024-11-21T02:33:38.440Z"
   },
   {
    "duration": 6,
    "start_time": "2024-11-21T02:33:38.446Z"
   },
   {
    "duration": 366,
    "start_time": "2024-11-21T02:33:38.454Z"
   },
   {
    "duration": 379,
    "start_time": "2024-11-21T02:33:38.821Z"
   },
   {
    "duration": 132,
    "start_time": "2024-11-21T02:33:39.203Z"
   },
   {
    "duration": 3,
    "start_time": "2024-11-21T02:33:39.336Z"
   },
   {
    "duration": 17,
    "start_time": "2024-11-21T02:33:39.342Z"
   },
   {
    "duration": 5,
    "start_time": "2024-11-21T02:33:39.362Z"
   },
   {
    "duration": 3,
    "start_time": "2024-11-21T02:33:39.369Z"
   },
   {
    "duration": 362,
    "start_time": "2024-11-21T02:33:39.374Z"
   },
   {
    "duration": 0,
    "start_time": "2024-11-21T02:33:39.738Z"
   },
   {
    "duration": 0,
    "start_time": "2024-11-21T02:33:39.739Z"
   },
   {
    "duration": 0,
    "start_time": "2024-11-21T02:33:39.741Z"
   },
   {
    "duration": 6,
    "start_time": "2024-11-21T02:37:47.489Z"
   },
   {
    "duration": 38,
    "start_time": "2024-11-21T02:37:53.903Z"
   },
   {
    "duration": 5,
    "start_time": "2024-11-21T02:38:14.057Z"
   },
   {
    "duration": 6,
    "start_time": "2024-11-21T02:38:40.200Z"
   },
   {
    "duration": 89,
    "start_time": "2024-11-21T02:38:45.724Z"
   },
   {
    "duration": 4,
    "start_time": "2024-11-21T02:41:35.531Z"
   },
   {
    "duration": 121,
    "start_time": "2024-11-21T02:41:45.310Z"
   },
   {
    "duration": 5,
    "start_time": "2024-11-21T02:43:44.330Z"
   },
   {
    "duration": 40,
    "start_time": "2024-11-21T02:43:46.776Z"
   },
   {
    "duration": 3,
    "start_time": "2024-11-21T02:44:15.107Z"
   },
   {
    "duration": 17,
    "start_time": "2024-11-21T02:44:17.326Z"
   },
   {
    "duration": 3,
    "start_time": "2024-11-21T03:18:57.677Z"
   },
   {
    "duration": 4,
    "start_time": "2024-11-21T03:19:13.928Z"
   },
   {
    "duration": 5,
    "start_time": "2024-11-21T03:19:17.985Z"
   },
   {
    "duration": 21,
    "start_time": "2024-11-21T03:19:50.211Z"
   },
   {
    "duration": 2054,
    "start_time": "2024-11-21T03:23:33.753Z"
   },
   {
    "duration": 973,
    "start_time": "2024-11-21T03:23:35.810Z"
   },
   {
    "duration": 8,
    "start_time": "2024-11-21T03:23:36.785Z"
   },
   {
    "duration": 3,
    "start_time": "2024-11-21T03:23:36.796Z"
   },
   {
    "duration": 20,
    "start_time": "2024-11-21T03:23:36.802Z"
   },
   {
    "duration": 9,
    "start_time": "2024-11-21T03:23:36.824Z"
   },
   {
    "duration": 3,
    "start_time": "2024-11-21T03:23:36.835Z"
   },
   {
    "duration": 4,
    "start_time": "2024-11-21T03:23:36.840Z"
   },
   {
    "duration": 16,
    "start_time": "2024-11-21T03:23:36.846Z"
   },
   {
    "duration": 2672,
    "start_time": "2024-11-21T03:23:36.864Z"
   },
   {
    "duration": 2,
    "start_time": "2024-11-21T03:23:39.538Z"
   },
   {
    "duration": 5,
    "start_time": "2024-11-21T03:23:39.542Z"
   },
   {
    "duration": 8,
    "start_time": "2024-11-21T03:23:39.549Z"
   },
   {
    "duration": 8,
    "start_time": "2024-11-21T03:23:39.560Z"
   },
   {
    "duration": 15,
    "start_time": "2024-11-21T03:23:39.569Z"
   },
   {
    "duration": 27,
    "start_time": "2024-11-21T03:23:39.586Z"
   },
   {
    "duration": 14,
    "start_time": "2024-11-21T03:23:39.615Z"
   },
   {
    "duration": 15,
    "start_time": "2024-11-21T03:23:39.630Z"
   },
   {
    "duration": 2,
    "start_time": "2024-11-21T03:23:39.647Z"
   },
   {
    "duration": 5,
    "start_time": "2024-11-21T03:23:39.651Z"
   },
   {
    "duration": 3,
    "start_time": "2024-11-21T03:23:39.658Z"
   },
   {
    "duration": 7,
    "start_time": "2024-11-21T03:23:39.662Z"
   },
   {
    "duration": 41,
    "start_time": "2024-11-21T03:23:39.671Z"
   },
   {
    "duration": 4,
    "start_time": "2024-11-21T03:23:39.714Z"
   },
   {
    "duration": 5,
    "start_time": "2024-11-21T03:23:39.720Z"
   },
   {
    "duration": 360,
    "start_time": "2024-11-21T03:23:39.727Z"
   },
   {
    "duration": 386,
    "start_time": "2024-11-21T03:23:40.089Z"
   },
   {
    "duration": 126,
    "start_time": "2024-11-21T03:23:40.479Z"
   },
   {
    "duration": 5,
    "start_time": "2024-11-21T03:23:40.607Z"
   },
   {
    "duration": 20,
    "start_time": "2024-11-21T03:23:40.614Z"
   },
   {
    "duration": 3,
    "start_time": "2024-11-21T03:23:40.636Z"
   },
   {
    "duration": 4,
    "start_time": "2024-11-21T03:23:40.641Z"
   },
   {
    "duration": 3,
    "start_time": "2024-11-21T03:23:40.647Z"
   },
   {
    "duration": 293,
    "start_time": "2024-11-21T03:23:40.652Z"
   },
   {
    "duration": 0,
    "start_time": "2024-11-21T03:23:40.947Z"
   },
   {
    "duration": 0,
    "start_time": "2024-11-21T03:23:40.949Z"
   },
   {
    "duration": 0,
    "start_time": "2024-11-21T03:23:40.950Z"
   },
   {
    "duration": 0,
    "start_time": "2024-11-21T03:23:40.951Z"
   },
   {
    "duration": 3,
    "start_time": "2024-11-21T03:25:22.360Z"
   },
   {
    "duration": 5,
    "start_time": "2024-11-21T03:25:25.089Z"
   },
   {
    "duration": 7,
    "start_time": "2024-11-21T03:25:30.832Z"
   },
   {
    "duration": 3,
    "start_time": "2024-11-21T03:26:55.899Z"
   },
   {
    "duration": 7,
    "start_time": "2024-11-21T03:26:58.349Z"
   },
   {
    "duration": 8,
    "start_time": "2024-11-21T03:27:00.638Z"
   },
   {
    "duration": 1910,
    "start_time": "2024-11-21T03:43:09.524Z"
   },
   {
    "duration": 1074,
    "start_time": "2024-11-21T03:43:11.437Z"
   },
   {
    "duration": 7,
    "start_time": "2024-11-21T03:43:12.513Z"
   },
   {
    "duration": 3,
    "start_time": "2024-11-21T03:43:12.522Z"
   },
   {
    "duration": 10,
    "start_time": "2024-11-21T03:43:12.527Z"
   },
   {
    "duration": 9,
    "start_time": "2024-11-21T03:43:12.538Z"
   },
   {
    "duration": 3,
    "start_time": "2024-11-21T03:43:12.548Z"
   },
   {
    "duration": 4,
    "start_time": "2024-11-21T03:43:12.552Z"
   },
   {
    "duration": 15,
    "start_time": "2024-11-21T03:43:12.559Z"
   },
   {
    "duration": 2545,
    "start_time": "2024-11-21T03:43:12.611Z"
   },
   {
    "duration": 2,
    "start_time": "2024-11-21T03:43:15.158Z"
   },
   {
    "duration": 5,
    "start_time": "2024-11-21T03:43:15.162Z"
   },
   {
    "duration": 9,
    "start_time": "2024-11-21T03:43:15.169Z"
   },
   {
    "duration": 7,
    "start_time": "2024-11-21T03:43:15.179Z"
   },
   {
    "duration": 23,
    "start_time": "2024-11-21T03:43:15.188Z"
   },
   {
    "duration": 14,
    "start_time": "2024-11-21T03:43:15.213Z"
   },
   {
    "duration": 14,
    "start_time": "2024-11-21T03:43:15.229Z"
   },
   {
    "duration": 14,
    "start_time": "2024-11-21T03:43:15.245Z"
   },
   {
    "duration": 3,
    "start_time": "2024-11-21T03:43:15.261Z"
   },
   {
    "duration": 275,
    "start_time": "2024-11-21T03:43:15.266Z"
   },
   {
    "duration": 0,
    "start_time": "2024-11-21T03:43:15.543Z"
   },
   {
    "duration": 0,
    "start_time": "2024-11-21T03:43:15.544Z"
   },
   {
    "duration": 0,
    "start_time": "2024-11-21T03:43:15.545Z"
   },
   {
    "duration": 0,
    "start_time": "2024-11-21T03:43:15.546Z"
   },
   {
    "duration": 0,
    "start_time": "2024-11-21T03:43:15.547Z"
   },
   {
    "duration": 0,
    "start_time": "2024-11-21T03:43:15.548Z"
   },
   {
    "duration": 0,
    "start_time": "2024-11-21T03:43:15.549Z"
   },
   {
    "duration": 0,
    "start_time": "2024-11-21T03:43:15.550Z"
   },
   {
    "duration": 0,
    "start_time": "2024-11-21T03:43:15.551Z"
   },
   {
    "duration": 0,
    "start_time": "2024-11-21T03:43:15.552Z"
   },
   {
    "duration": 0,
    "start_time": "2024-11-21T03:43:15.553Z"
   },
   {
    "duration": 0,
    "start_time": "2024-11-21T03:43:15.555Z"
   },
   {
    "duration": 0,
    "start_time": "2024-11-21T03:43:15.558Z"
   },
   {
    "duration": 0,
    "start_time": "2024-11-21T03:43:15.559Z"
   },
   {
    "duration": 0,
    "start_time": "2024-11-21T03:43:15.561Z"
   },
   {
    "duration": 0,
    "start_time": "2024-11-21T03:43:15.563Z"
   },
   {
    "duration": 0,
    "start_time": "2024-11-21T03:43:15.564Z"
   },
   {
    "duration": 0,
    "start_time": "2024-11-21T03:43:15.565Z"
   },
   {
    "duration": 14,
    "start_time": "2024-11-21T03:43:44.064Z"
   },
   {
    "duration": 9,
    "start_time": "2024-11-21T03:44:01.134Z"
   },
   {
    "duration": 3,
    "start_time": "2024-11-21T03:44:04.828Z"
   },
   {
    "duration": 1919,
    "start_time": "2024-11-21T03:44:15.438Z"
   },
   {
    "duration": 903,
    "start_time": "2024-11-21T03:44:17.360Z"
   },
   {
    "duration": 7,
    "start_time": "2024-11-21T03:44:18.266Z"
   },
   {
    "duration": 2,
    "start_time": "2024-11-21T03:44:18.276Z"
   },
   {
    "duration": 11,
    "start_time": "2024-11-21T03:44:18.280Z"
   },
   {
    "duration": 23,
    "start_time": "2024-11-21T03:44:18.293Z"
   },
   {
    "duration": 4,
    "start_time": "2024-11-21T03:44:18.317Z"
   },
   {
    "duration": 4,
    "start_time": "2024-11-21T03:44:18.322Z"
   },
   {
    "duration": 15,
    "start_time": "2024-11-21T03:44:18.327Z"
   },
   {
    "duration": 2566,
    "start_time": "2024-11-21T03:44:18.346Z"
   },
   {
    "duration": 2,
    "start_time": "2024-11-21T03:44:20.914Z"
   },
   {
    "duration": 4,
    "start_time": "2024-11-21T03:44:20.918Z"
   },
   {
    "duration": 8,
    "start_time": "2024-11-21T03:44:20.924Z"
   },
   {
    "duration": 8,
    "start_time": "2024-11-21T03:44:20.933Z"
   },
   {
    "duration": 15,
    "start_time": "2024-11-21T03:44:20.942Z"
   },
   {
    "duration": 13,
    "start_time": "2024-11-21T03:44:20.958Z"
   },
   {
    "duration": 48,
    "start_time": "2024-11-21T03:44:20.973Z"
   },
   {
    "duration": 13,
    "start_time": "2024-11-21T03:44:21.023Z"
   },
   {
    "duration": 3,
    "start_time": "2024-11-21T03:44:21.038Z"
   },
   {
    "duration": 3,
    "start_time": "2024-11-21T03:44:21.042Z"
   },
   {
    "duration": 5,
    "start_time": "2024-11-21T03:44:21.046Z"
   },
   {
    "duration": 0,
    "start_time": "2024-11-21T03:44:21.053Z"
   },
   {
    "duration": 0,
    "start_time": "2024-11-21T03:44:21.054Z"
   },
   {
    "duration": 0,
    "start_time": "2024-11-21T03:44:21.055Z"
   },
   {
    "duration": 0,
    "start_time": "2024-11-21T03:44:21.056Z"
   },
   {
    "duration": 0,
    "start_time": "2024-11-21T03:44:21.058Z"
   },
   {
    "duration": 0,
    "start_time": "2024-11-21T03:44:21.059Z"
   },
   {
    "duration": 0,
    "start_time": "2024-11-21T03:44:21.061Z"
   },
   {
    "duration": 0,
    "start_time": "2024-11-21T03:44:21.063Z"
   },
   {
    "duration": 0,
    "start_time": "2024-11-21T03:44:21.064Z"
   },
   {
    "duration": 0,
    "start_time": "2024-11-21T03:44:21.066Z"
   },
   {
    "duration": 0,
    "start_time": "2024-11-21T03:44:21.067Z"
   },
   {
    "duration": 0,
    "start_time": "2024-11-21T03:44:21.112Z"
   },
   {
    "duration": 0,
    "start_time": "2024-11-21T03:44:21.113Z"
   },
   {
    "duration": 0,
    "start_time": "2024-11-21T03:44:21.114Z"
   },
   {
    "duration": 0,
    "start_time": "2024-11-21T03:44:21.116Z"
   },
   {
    "duration": 0,
    "start_time": "2024-11-21T03:44:21.117Z"
   },
   {
    "duration": 0,
    "start_time": "2024-11-21T03:44:21.118Z"
   },
   {
    "duration": 1905,
    "start_time": "2024-11-21T03:44:52.537Z"
   },
   {
    "duration": 988,
    "start_time": "2024-11-21T03:44:54.444Z"
   },
   {
    "duration": 8,
    "start_time": "2024-11-21T03:44:55.434Z"
   },
   {
    "duration": 4,
    "start_time": "2024-11-21T03:44:55.444Z"
   },
   {
    "duration": 12,
    "start_time": "2024-11-21T03:44:55.450Z"
   },
   {
    "duration": 11,
    "start_time": "2024-11-21T03:44:55.463Z"
   },
   {
    "duration": 3,
    "start_time": "2024-11-21T03:44:55.476Z"
   },
   {
    "duration": 3,
    "start_time": "2024-11-21T03:44:55.513Z"
   },
   {
    "duration": 17,
    "start_time": "2024-11-21T03:44:55.518Z"
   },
   {
    "duration": 2654,
    "start_time": "2024-11-21T03:44:55.538Z"
   },
   {
    "duration": 3,
    "start_time": "2024-11-21T03:44:58.194Z"
   },
   {
    "duration": 4,
    "start_time": "2024-11-21T03:44:58.199Z"
   },
   {
    "duration": 12,
    "start_time": "2024-11-21T03:44:58.204Z"
   },
   {
    "duration": 8,
    "start_time": "2024-11-21T03:44:58.221Z"
   },
   {
    "duration": 15,
    "start_time": "2024-11-21T03:44:58.230Z"
   },
   {
    "duration": 13,
    "start_time": "2024-11-21T03:44:58.247Z"
   },
   {
    "duration": 50,
    "start_time": "2024-11-21T03:44:58.262Z"
   },
   {
    "duration": 16,
    "start_time": "2024-11-21T03:44:58.314Z"
   },
   {
    "duration": 3,
    "start_time": "2024-11-21T03:44:58.332Z"
   },
   {
    "duration": 3,
    "start_time": "2024-11-21T03:44:58.337Z"
   },
   {
    "duration": 9,
    "start_time": "2024-11-21T03:44:58.342Z"
   },
   {
    "duration": 3,
    "start_time": "2024-11-21T03:44:58.353Z"
   },
   {
    "duration": 4,
    "start_time": "2024-11-21T03:44:58.357Z"
   },
   {
    "duration": 5,
    "start_time": "2024-11-21T03:44:58.363Z"
   },
   {
    "duration": 382,
    "start_time": "2024-11-21T03:44:58.370Z"
   },
   {
    "duration": 378,
    "start_time": "2024-11-21T03:44:58.754Z"
   },
   {
    "duration": 127,
    "start_time": "2024-11-21T03:44:59.133Z"
   },
   {
    "duration": 3,
    "start_time": "2024-11-21T03:44:59.262Z"
   },
   {
    "duration": 19,
    "start_time": "2024-11-21T03:44:59.266Z"
   },
   {
    "duration": 3,
    "start_time": "2024-11-21T03:44:59.287Z"
   },
   {
    "duration": 20,
    "start_time": "2024-11-21T03:44:59.292Z"
   },
   {
    "duration": 3,
    "start_time": "2024-11-21T03:44:59.314Z"
   },
   {
    "duration": 12,
    "start_time": "2024-11-21T03:44:59.319Z"
   },
   {
    "duration": 351,
    "start_time": "2024-11-21T03:44:59.334Z"
   },
   {
    "duration": 0,
    "start_time": "2024-11-21T03:44:59.687Z"
   },
   {
    "duration": 0,
    "start_time": "2024-11-21T03:44:59.691Z"
   },
   {
    "duration": 0,
    "start_time": "2024-11-21T03:44:59.692Z"
   },
   {
    "duration": 8,
    "start_time": "2024-11-21T03:47:33.218Z"
   },
   {
    "duration": 3,
    "start_time": "2024-11-21T03:51:35.286Z"
   },
   {
    "duration": 6,
    "start_time": "2024-11-21T03:51:38.458Z"
   },
   {
    "duration": 3,
    "start_time": "2024-11-21T03:52:01.295Z"
   },
   {
    "duration": 9,
    "start_time": "2024-11-21T03:52:03.363Z"
   },
   {
    "duration": 10,
    "start_time": "2024-11-21T03:53:32.080Z"
   },
   {
    "duration": 9,
    "start_time": "2024-11-21T03:53:40.486Z"
   },
   {
    "duration": 1969,
    "start_time": "2024-11-21T03:54:21.336Z"
   },
   {
    "duration": 918,
    "start_time": "2024-11-21T03:54:23.309Z"
   },
   {
    "duration": 9,
    "start_time": "2024-11-21T03:54:24.230Z"
   },
   {
    "duration": 3,
    "start_time": "2024-11-21T03:54:24.242Z"
   },
   {
    "duration": 10,
    "start_time": "2024-11-21T03:54:24.248Z"
   },
   {
    "duration": 8,
    "start_time": "2024-11-21T03:54:24.259Z"
   },
   {
    "duration": 5,
    "start_time": "2024-11-21T03:54:24.269Z"
   },
   {
    "duration": 3,
    "start_time": "2024-11-21T03:54:24.276Z"
   },
   {
    "duration": 45,
    "start_time": "2024-11-21T03:54:24.281Z"
   },
   {
    "duration": 2656,
    "start_time": "2024-11-21T03:54:24.328Z"
   },
   {
    "duration": 2,
    "start_time": "2024-11-21T03:54:26.986Z"
   },
   {
    "duration": 4,
    "start_time": "2024-11-21T03:54:26.990Z"
   },
   {
    "duration": 8,
    "start_time": "2024-11-21T03:54:26.996Z"
   },
   {
    "duration": 9,
    "start_time": "2024-11-21T03:54:27.013Z"
   },
   {
    "duration": 18,
    "start_time": "2024-11-21T03:54:27.024Z"
   },
   {
    "duration": 17,
    "start_time": "2024-11-21T03:54:27.044Z"
   },
   {
    "duration": 19,
    "start_time": "2024-11-21T03:54:27.063Z"
   },
   {
    "duration": 17,
    "start_time": "2024-11-21T03:54:27.112Z"
   },
   {
    "duration": 3,
    "start_time": "2024-11-21T03:54:27.131Z"
   },
   {
    "duration": 9,
    "start_time": "2024-11-21T03:54:27.135Z"
   },
   {
    "duration": 3,
    "start_time": "2024-11-21T03:54:27.146Z"
   },
   {
    "duration": 4,
    "start_time": "2024-11-21T03:54:27.150Z"
   },
   {
    "duration": 4,
    "start_time": "2024-11-21T03:54:27.156Z"
   },
   {
    "duration": 395,
    "start_time": "2024-11-21T03:54:27.161Z"
   },
   {
    "duration": 439,
    "start_time": "2024-11-21T03:54:27.558Z"
   },
   {
    "duration": 142,
    "start_time": "2024-11-21T03:54:27.998Z"
   },
   {
    "duration": 3,
    "start_time": "2024-11-21T03:54:28.142Z"
   },
   {
    "duration": 19,
    "start_time": "2024-11-21T03:54:28.147Z"
   },
   {
    "duration": 4,
    "start_time": "2024-11-21T03:54:28.167Z"
   },
   {
    "duration": 6,
    "start_time": "2024-11-21T03:54:28.173Z"
   },
   {
    "duration": 3,
    "start_time": "2024-11-21T03:54:28.181Z"
   },
   {
    "duration": 35,
    "start_time": "2024-11-21T03:54:28.185Z"
   },
   {
    "duration": 8,
    "start_time": "2024-11-21T03:54:28.222Z"
   },
   {
    "duration": 5,
    "start_time": "2024-11-21T03:54:28.232Z"
   },
   {
    "duration": 3,
    "start_time": "2024-11-21T03:54:28.238Z"
   },
   {
    "duration": 69,
    "start_time": "2024-11-21T03:54:28.243Z"
   },
   {
    "duration": 3,
    "start_time": "2024-11-21T04:02:50.582Z"
   },
   {
    "duration": 4,
    "start_time": "2024-11-21T04:02:57.840Z"
   },
   {
    "duration": 8,
    "start_time": "2024-11-21T04:02:59.984Z"
   },
   {
    "duration": 9,
    "start_time": "2024-11-21T04:03:06.591Z"
   },
   {
    "duration": 4,
    "start_time": "2024-11-21T04:06:31.600Z"
   },
   {
    "duration": 372,
    "start_time": "2024-11-21T04:06:34.151Z"
   },
   {
    "duration": 4,
    "start_time": "2024-11-21T04:06:49.784Z"
   },
   {
    "duration": 38,
    "start_time": "2024-11-21T04:06:51.773Z"
   },
   {
    "duration": 6,
    "start_time": "2024-11-21T04:07:09.946Z"
   },
   {
    "duration": 43,
    "start_time": "2024-11-21T04:07:12.669Z"
   },
   {
    "duration": 4,
    "start_time": "2024-11-21T04:07:34.925Z"
   },
   {
    "duration": 23,
    "start_time": "2024-11-21T04:07:36.664Z"
   },
   {
    "duration": 3,
    "start_time": "2024-11-21T04:08:11.302Z"
   },
   {
    "duration": 9,
    "start_time": "2024-11-21T04:08:13.086Z"
   },
   {
    "duration": 4,
    "start_time": "2024-11-21T04:08:29.002Z"
   },
   {
    "duration": 8,
    "start_time": "2024-11-21T04:08:32.747Z"
   },
   {
    "duration": 6,
    "start_time": "2024-11-21T04:09:07.069Z"
   },
   {
    "duration": 5,
    "start_time": "2024-11-21T04:13:54.745Z"
   },
   {
    "duration": 36,
    "start_time": "2024-11-21T04:13:57.084Z"
   },
   {
    "duration": 4,
    "start_time": "2024-11-21T04:16:00.150Z"
   },
   {
    "duration": 65,
    "start_time": "2024-11-21T04:16:01.867Z"
   },
   {
    "duration": 4,
    "start_time": "2024-11-21T04:17:55.064Z"
   },
   {
    "duration": 49,
    "start_time": "2024-11-21T04:18:02.669Z"
   },
   {
    "duration": 4,
    "start_time": "2024-11-21T04:18:41.265Z"
   },
   {
    "duration": 6,
    "start_time": "2024-11-21T04:18:43.651Z"
   },
   {
    "duration": 4,
    "start_time": "2024-11-21T04:19:52.705Z"
   },
   {
    "duration": 6,
    "start_time": "2024-11-21T04:19:55.648Z"
   },
   {
    "duration": 4,
    "start_time": "2024-11-21T04:20:12.718Z"
   },
   {
    "duration": 7,
    "start_time": "2024-11-21T04:20:17.269Z"
   },
   {
    "duration": 7,
    "start_time": "2024-11-21T04:20:27.981Z"
   },
   {
    "duration": 4,
    "start_time": "2024-11-21T04:21:52.478Z"
   },
   {
    "duration": 8,
    "start_time": "2024-11-21T04:21:55.742Z"
   },
   {
    "duration": 7,
    "start_time": "2024-11-21T04:22:05.268Z"
   },
   {
    "duration": 15,
    "start_time": "2024-11-21T04:27:50.073Z"
   },
   {
    "duration": 16,
    "start_time": "2024-11-21T04:28:22.520Z"
   },
   {
    "duration": 15,
    "start_time": "2024-11-21T04:28:28.570Z"
   },
   {
    "duration": 4,
    "start_time": "2024-11-21T04:30:47.160Z"
   },
   {
    "duration": 12,
    "start_time": "2024-11-21T04:30:49.317Z"
   },
   {
    "duration": 7,
    "start_time": "2024-11-21T04:31:11.366Z"
   },
   {
    "duration": 7,
    "start_time": "2024-11-21T04:31:21.863Z"
   },
   {
    "duration": 16,
    "start_time": "2024-11-21T04:31:26.741Z"
   },
   {
    "duration": 617,
    "start_time": "2024-11-21T04:31:54.982Z"
   },
   {
    "duration": 5,
    "start_time": "2024-11-21T04:32:26.034Z"
   },
   {
    "duration": 9,
    "start_time": "2024-11-21T04:32:52.826Z"
   },
   {
    "duration": 7,
    "start_time": "2024-11-21T04:32:54.902Z"
   },
   {
    "duration": 158,
    "start_time": "2024-11-21T16:50:24.761Z"
   },
   {
    "duration": 3763,
    "start_time": "2024-11-21T16:50:35.702Z"
   },
   {
    "duration": 2745,
    "start_time": "2024-11-21T16:50:39.467Z"
   },
   {
    "duration": 12,
    "start_time": "2024-11-21T16:50:42.214Z"
   },
   {
    "duration": 3,
    "start_time": "2024-11-21T16:50:42.228Z"
   },
   {
    "duration": 14,
    "start_time": "2024-11-21T16:50:42.235Z"
   },
   {
    "duration": 8,
    "start_time": "2024-11-21T16:50:42.251Z"
   },
   {
    "duration": 3,
    "start_time": "2024-11-21T16:50:42.261Z"
   },
   {
    "duration": 4,
    "start_time": "2024-11-21T16:50:42.266Z"
   },
   {
    "duration": 15,
    "start_time": "2024-11-21T16:50:42.271Z"
   },
   {
    "duration": 2627,
    "start_time": "2024-11-21T16:50:42.288Z"
   },
   {
    "duration": 2,
    "start_time": "2024-11-21T16:50:44.917Z"
   },
   {
    "duration": 4,
    "start_time": "2024-11-21T16:50:44.921Z"
   },
   {
    "duration": 8,
    "start_time": "2024-11-21T16:50:44.926Z"
   },
   {
    "duration": 7,
    "start_time": "2024-11-21T16:50:44.943Z"
   },
   {
    "duration": 13,
    "start_time": "2024-11-21T16:50:44.952Z"
   },
   {
    "duration": 13,
    "start_time": "2024-11-21T16:50:44.967Z"
   },
   {
    "duration": 21,
    "start_time": "2024-11-21T16:50:44.981Z"
   },
   {
    "duration": 58,
    "start_time": "2024-11-21T16:50:45.003Z"
   },
   {
    "duration": 3,
    "start_time": "2024-11-21T16:50:45.063Z"
   },
   {
    "duration": 9,
    "start_time": "2024-11-21T16:50:45.068Z"
   },
   {
    "duration": 3,
    "start_time": "2024-11-21T16:50:45.078Z"
   },
   {
    "duration": 4,
    "start_time": "2024-11-21T16:50:45.083Z"
   },
   {
    "duration": 4,
    "start_time": "2024-11-21T16:50:45.090Z"
   },
   {
    "duration": 334,
    "start_time": "2024-11-21T16:50:45.095Z"
   },
   {
    "duration": 382,
    "start_time": "2024-11-21T16:50:45.431Z"
   },
   {
    "duration": 128,
    "start_time": "2024-11-21T16:50:45.815Z"
   },
   {
    "duration": 3,
    "start_time": "2024-11-21T16:50:45.944Z"
   },
   {
    "duration": 19,
    "start_time": "2024-11-21T16:50:45.949Z"
   },
   {
    "duration": 3,
    "start_time": "2024-11-21T16:50:45.970Z"
   },
   {
    "duration": 3,
    "start_time": "2024-11-21T16:50:45.975Z"
   },
   {
    "duration": 4,
    "start_time": "2024-11-21T16:50:45.980Z"
   },
   {
    "duration": 5,
    "start_time": "2024-11-21T16:50:45.986Z"
   },
   {
    "duration": 55,
    "start_time": "2024-11-21T16:50:45.993Z"
   },
   {
    "duration": 5,
    "start_time": "2024-11-21T16:50:46.050Z"
   },
   {
    "duration": 3,
    "start_time": "2024-11-21T16:50:46.056Z"
   },
   {
    "duration": 5,
    "start_time": "2024-11-21T16:50:46.061Z"
   },
   {
    "duration": 78,
    "start_time": "2024-11-21T16:50:46.067Z"
   },
   {
    "duration": 5,
    "start_time": "2024-11-21T16:51:45.816Z"
   },
   {
    "duration": 4,
    "start_time": "2024-11-21T16:52:12.348Z"
   },
   {
    "duration": 5,
    "start_time": "2024-11-21T16:52:27.693Z"
   },
   {
    "duration": 9,
    "start_time": "2024-11-21T16:52:44.194Z"
   },
   {
    "duration": 5,
    "start_time": "2024-11-21T16:56:50.493Z"
   },
   {
    "duration": 9,
    "start_time": "2024-11-21T16:57:24.027Z"
   },
   {
    "duration": 4,
    "start_time": "2024-11-21T16:57:46.347Z"
   },
   {
    "duration": 3,
    "start_time": "2024-11-21T16:58:54.598Z"
   },
   {
    "duration": 10,
    "start_time": "2024-11-21T17:02:43.817Z"
   },
   {
    "duration": 4,
    "start_time": "2024-11-21T17:02:56.381Z"
   },
   {
    "duration": 3,
    "start_time": "2024-11-21T17:07:28.997Z"
   },
   {
    "duration": 342,
    "start_time": "2024-11-21T17:07:34.646Z"
   },
   {
    "duration": 5,
    "start_time": "2024-11-21T17:08:22.837Z"
   },
   {
    "duration": 4,
    "start_time": "2024-11-21T17:09:46.169Z"
   },
   {
    "duration": 4,
    "start_time": "2024-11-21T17:11:18.928Z"
   },
   {
    "duration": 13,
    "start_time": "2024-11-21T17:12:37.326Z"
   },
   {
    "duration": 3,
    "start_time": "2024-11-21T17:12:57.808Z"
   },
   {
    "duration": 4,
    "start_time": "2024-11-21T17:13:06.531Z"
   },
   {
    "duration": 5,
    "start_time": "2024-11-21T17:13:12.726Z"
   },
   {
    "duration": 13,
    "start_time": "2024-11-21T17:14:13.081Z"
   },
   {
    "duration": 12,
    "start_time": "2024-11-21T17:14:16.799Z"
   },
   {
    "duration": 6,
    "start_time": "2024-11-21T17:14:45.737Z"
   },
   {
    "duration": 4,
    "start_time": "2024-11-21T17:22:34.452Z"
   },
   {
    "duration": 3,
    "start_time": "2024-11-21T17:29:46.791Z"
   },
   {
    "duration": 3,
    "start_time": "2024-11-21T17:31:00.242Z"
   },
   {
    "duration": 2,
    "start_time": "2024-11-21T17:31:44.398Z"
   },
   {
    "duration": 3,
    "start_time": "2024-11-21T17:32:12.939Z"
   },
   {
    "duration": 1993,
    "start_time": "2024-11-21T17:33:24.802Z"
   },
   {
    "duration": 926,
    "start_time": "2024-11-21T17:33:26.798Z"
   },
   {
    "duration": 8,
    "start_time": "2024-11-21T17:33:27.726Z"
   },
   {
    "duration": 7,
    "start_time": "2024-11-21T17:33:27.736Z"
   },
   {
    "duration": 11,
    "start_time": "2024-11-21T17:33:27.745Z"
   },
   {
    "duration": 9,
    "start_time": "2024-11-21T17:33:27.757Z"
   },
   {
    "duration": 3,
    "start_time": "2024-11-21T17:33:27.768Z"
   },
   {
    "duration": 4,
    "start_time": "2024-11-21T17:33:27.773Z"
   },
   {
    "duration": 16,
    "start_time": "2024-11-21T17:33:27.779Z"
   },
   {
    "duration": 2709,
    "start_time": "2024-11-21T17:33:27.799Z"
   },
   {
    "duration": 3,
    "start_time": "2024-11-21T17:33:30.510Z"
   },
   {
    "duration": 4,
    "start_time": "2024-11-21T17:33:30.515Z"
   },
   {
    "duration": 11,
    "start_time": "2024-11-21T17:33:30.521Z"
   },
   {
    "duration": 16,
    "start_time": "2024-11-21T17:33:30.535Z"
   },
   {
    "duration": 17,
    "start_time": "2024-11-21T17:33:30.555Z"
   },
   {
    "duration": 17,
    "start_time": "2024-11-21T17:33:30.575Z"
   },
   {
    "duration": 14,
    "start_time": "2024-11-21T17:33:30.594Z"
   },
   {
    "duration": 44,
    "start_time": "2024-11-21T17:33:30.610Z"
   },
   {
    "duration": 4,
    "start_time": "2024-11-21T17:33:30.656Z"
   },
   {
    "duration": 10,
    "start_time": "2024-11-21T17:33:30.662Z"
   },
   {
    "duration": 4,
    "start_time": "2024-11-21T17:33:30.674Z"
   },
   {
    "duration": 5,
    "start_time": "2024-11-21T17:33:30.680Z"
   },
   {
    "duration": 5,
    "start_time": "2024-11-21T17:33:30.687Z"
   },
   {
    "duration": 387,
    "start_time": "2024-11-21T17:33:30.694Z"
   },
   {
    "duration": 393,
    "start_time": "2024-11-21T17:33:31.083Z"
   },
   {
    "duration": 132,
    "start_time": "2024-11-21T17:33:31.478Z"
   },
   {
    "duration": 5,
    "start_time": "2024-11-21T17:33:31.612Z"
   },
   {
    "duration": 34,
    "start_time": "2024-11-21T17:33:31.621Z"
   },
   {
    "duration": 4,
    "start_time": "2024-11-21T17:33:31.657Z"
   },
   {
    "duration": 4,
    "start_time": "2024-11-21T17:33:31.663Z"
   },
   {
    "duration": 4,
    "start_time": "2024-11-21T17:33:31.669Z"
   },
   {
    "duration": 11,
    "start_time": "2024-11-21T17:33:31.675Z"
   },
   {
    "duration": 61,
    "start_time": "2024-11-21T17:33:31.687Z"
   },
   {
    "duration": 4,
    "start_time": "2024-11-21T17:33:31.749Z"
   },
   {
    "duration": 3,
    "start_time": "2024-11-21T17:33:31.755Z"
   },
   {
    "duration": 3,
    "start_time": "2024-11-21T17:33:31.760Z"
   },
   {
    "duration": 3,
    "start_time": "2024-11-21T17:33:31.765Z"
   },
   {
    "duration": 4,
    "start_time": "2024-11-21T17:33:31.844Z"
   },
   {
    "duration": 4,
    "start_time": "2024-11-21T17:33:31.849Z"
   },
   {
    "duration": 231,
    "start_time": "2024-11-21T17:37:00.220Z"
   },
   {
    "duration": 13,
    "start_time": "2024-11-21T17:37:09.638Z"
   },
   {
    "duration": 3,
    "start_time": "2024-11-21T17:37:28.445Z"
   },
   {
    "duration": 4,
    "start_time": "2024-11-21T17:38:22.114Z"
   },
   {
    "duration": 3,
    "start_time": "2024-11-21T17:38:41.603Z"
   },
   {
    "duration": 3,
    "start_time": "2024-11-21T17:39:19.908Z"
   },
   {
    "duration": 3,
    "start_time": "2024-11-21T17:40:17.231Z"
   },
   {
    "duration": 16,
    "start_time": "2024-11-21T22:13:07.890Z"
   },
   {
    "duration": 6,
    "start_time": "2024-11-22T00:11:28.867Z"
   },
   {
    "duration": 165,
    "start_time": "2024-11-22T00:11:33.725Z"
   },
   {
    "duration": 4,
    "start_time": "2024-11-22T00:11:42.457Z"
   },
   {
    "duration": 13,
    "start_time": "2024-11-22T00:11:47.662Z"
   },
   {
    "duration": 3993,
    "start_time": "2024-11-22T00:12:07.294Z"
   },
   {
    "duration": 2844,
    "start_time": "2024-11-22T00:12:11.289Z"
   },
   {
    "duration": 10,
    "start_time": "2024-11-22T00:12:14.135Z"
   },
   {
    "duration": 3,
    "start_time": "2024-11-22T00:12:14.147Z"
   },
   {
    "duration": 11,
    "start_time": "2024-11-22T00:12:14.152Z"
   },
   {
    "duration": 10,
    "start_time": "2024-11-22T00:12:14.165Z"
   },
   {
    "duration": 2,
    "start_time": "2024-11-22T00:12:14.177Z"
   },
   {
    "duration": 28,
    "start_time": "2024-11-22T00:12:14.181Z"
   },
   {
    "duration": 17,
    "start_time": "2024-11-22T00:12:14.212Z"
   },
   {
    "duration": 2607,
    "start_time": "2024-11-22T00:12:14.234Z"
   },
   {
    "duration": 3,
    "start_time": "2024-11-22T00:12:16.843Z"
   },
   {
    "duration": 5,
    "start_time": "2024-11-22T00:12:16.847Z"
   },
   {
    "duration": 9,
    "start_time": "2024-11-22T00:12:16.853Z"
   },
   {
    "duration": 114,
    "start_time": "2024-11-22T00:12:16.864Z"
   },
   {
    "duration": 15,
    "start_time": "2024-11-22T00:12:16.980Z"
   },
   {
    "duration": 14,
    "start_time": "2024-11-22T00:12:17.009Z"
   },
   {
    "duration": 21,
    "start_time": "2024-11-22T00:12:17.025Z"
   },
   {
    "duration": 21,
    "start_time": "2024-11-22T00:12:17.048Z"
   },
   {
    "duration": 3,
    "start_time": "2024-11-22T00:12:17.071Z"
   },
   {
    "duration": 38,
    "start_time": "2024-11-22T00:12:17.076Z"
   },
   {
    "duration": 3,
    "start_time": "2024-11-22T00:12:17.116Z"
   },
   {
    "duration": 4,
    "start_time": "2024-11-22T00:12:17.121Z"
   },
   {
    "duration": 5,
    "start_time": "2024-11-22T00:12:17.127Z"
   },
   {
    "duration": 405,
    "start_time": "2024-11-22T00:12:17.133Z"
   },
   {
    "duration": 409,
    "start_time": "2024-11-22T00:12:17.540Z"
   },
   {
    "duration": 137,
    "start_time": "2024-11-22T00:12:17.950Z"
   },
   {
    "duration": 3,
    "start_time": "2024-11-22T00:12:18.089Z"
   },
   {
    "duration": 27,
    "start_time": "2024-11-22T00:12:18.097Z"
   },
   {
    "duration": 4,
    "start_time": "2024-11-22T00:12:18.125Z"
   },
   {
    "duration": 3,
    "start_time": "2024-11-22T00:12:18.131Z"
   },
   {
    "duration": 3,
    "start_time": "2024-11-22T00:12:18.136Z"
   },
   {
    "duration": 10,
    "start_time": "2024-11-22T00:12:18.141Z"
   },
   {
    "duration": 62,
    "start_time": "2024-11-22T00:12:18.153Z"
   },
   {
    "duration": 4,
    "start_time": "2024-11-22T00:12:18.217Z"
   },
   {
    "duration": 3,
    "start_time": "2024-11-22T00:12:18.222Z"
   },
   {
    "duration": 3,
    "start_time": "2024-11-22T00:12:18.227Z"
   },
   {
    "duration": 78,
    "start_time": "2024-11-22T00:12:18.232Z"
   },
   {
    "duration": 3,
    "start_time": "2024-11-22T00:12:18.314Z"
   },
   {
    "duration": 3,
    "start_time": "2024-11-22T00:12:18.319Z"
   },
   {
    "duration": 3,
    "start_time": "2024-11-22T00:12:18.324Z"
   },
   {
    "duration": 3,
    "start_time": "2024-11-22T00:12:18.329Z"
   },
   {
    "duration": 4,
    "start_time": "2024-11-22T00:12:18.409Z"
   },
   {
    "duration": 4,
    "start_time": "2024-11-22T00:12:41.869Z"
   },
   {
    "duration": 1978,
    "start_time": "2024-11-22T00:12:48.425Z"
   },
   {
    "duration": 979,
    "start_time": "2024-11-22T00:12:50.407Z"
   },
   {
    "duration": 7,
    "start_time": "2024-11-22T00:12:51.388Z"
   },
   {
    "duration": 13,
    "start_time": "2024-11-22T00:12:51.397Z"
   },
   {
    "duration": 11,
    "start_time": "2024-11-22T00:12:51.413Z"
   },
   {
    "duration": 10,
    "start_time": "2024-11-22T00:12:51.425Z"
   },
   {
    "duration": 4,
    "start_time": "2024-11-22T00:12:51.436Z"
   },
   {
    "duration": 4,
    "start_time": "2024-11-22T00:12:51.441Z"
   },
   {
    "duration": 16,
    "start_time": "2024-11-22T00:12:51.447Z"
   },
   {
    "duration": 2615,
    "start_time": "2024-11-22T00:12:51.466Z"
   },
   {
    "duration": 3,
    "start_time": "2024-11-22T00:12:54.083Z"
   },
   {
    "duration": 5,
    "start_time": "2024-11-22T00:12:54.087Z"
   },
   {
    "duration": 8,
    "start_time": "2024-11-22T00:12:54.093Z"
   },
   {
    "duration": 8,
    "start_time": "2024-11-22T00:12:54.108Z"
   },
   {
    "duration": 14,
    "start_time": "2024-11-22T00:12:54.117Z"
   },
   {
    "duration": 14,
    "start_time": "2024-11-22T00:12:54.133Z"
   },
   {
    "duration": 15,
    "start_time": "2024-11-22T00:12:54.149Z"
   },
   {
    "duration": 49,
    "start_time": "2024-11-22T00:12:54.166Z"
   },
   {
    "duration": 5,
    "start_time": "2024-11-22T00:12:54.217Z"
   },
   {
    "duration": 12,
    "start_time": "2024-11-22T00:12:54.224Z"
   },
   {
    "duration": 3,
    "start_time": "2024-11-22T00:12:54.237Z"
   },
   {
    "duration": 4,
    "start_time": "2024-11-22T00:12:54.242Z"
   },
   {
    "duration": 5,
    "start_time": "2024-11-22T00:12:54.248Z"
   },
   {
    "duration": 376,
    "start_time": "2024-11-22T00:12:54.255Z"
   },
   {
    "duration": 389,
    "start_time": "2024-11-22T00:12:54.632Z"
   },
   {
    "duration": 126,
    "start_time": "2024-11-22T00:12:55.023Z"
   },
   {
    "duration": 3,
    "start_time": "2024-11-22T00:12:55.151Z"
   },
   {
    "duration": 17,
    "start_time": "2024-11-22T00:12:55.156Z"
   },
   {
    "duration": 4,
    "start_time": "2024-11-22T00:12:55.176Z"
   },
   {
    "duration": 3,
    "start_time": "2024-11-22T00:12:55.182Z"
   },
   {
    "duration": 4,
    "start_time": "2024-11-22T00:12:55.208Z"
   },
   {
    "duration": 10,
    "start_time": "2024-11-22T00:12:55.214Z"
   },
   {
    "duration": 10,
    "start_time": "2024-11-22T00:12:55.225Z"
   },
   {
    "duration": 73,
    "start_time": "2024-11-22T00:12:55.237Z"
   },
   {
    "duration": 3,
    "start_time": "2024-11-22T00:12:55.312Z"
   },
   {
    "duration": 3,
    "start_time": "2024-11-22T00:12:55.317Z"
   },
   {
    "duration": 2,
    "start_time": "2024-11-22T00:12:55.322Z"
   },
   {
    "duration": 4,
    "start_time": "2024-11-22T00:12:55.327Z"
   },
   {
    "duration": 4,
    "start_time": "2024-11-22T00:12:55.409Z"
   },
   {
    "duration": 3,
    "start_time": "2024-11-22T00:12:55.415Z"
   },
   {
    "duration": 4,
    "start_time": "2024-11-22T00:12:55.424Z"
   },
   {
    "duration": 9,
    "start_time": "2024-11-22T00:12:55.431Z"
   },
   {
    "duration": 3,
    "start_time": "2024-11-22T00:14:43.980Z"
   },
   {
    "duration": 3,
    "start_time": "2024-11-22T00:15:32.897Z"
   },
   {
    "duration": 5,
    "start_time": "2024-11-22T00:15:39.800Z"
   },
   {
    "duration": 3,
    "start_time": "2024-11-22T00:18:37.729Z"
   },
   {
    "duration": 6,
    "start_time": "2024-11-22T00:18:39.366Z"
   },
   {
    "duration": 6,
    "start_time": "2024-11-22T00:18:59.761Z"
   },
   {
    "duration": 4,
    "start_time": "2024-11-22T00:28:37.365Z"
   },
   {
    "duration": 7,
    "start_time": "2024-11-22T00:28:47.538Z"
   },
   {
    "duration": 5,
    "start_time": "2024-11-22T00:29:16.536Z"
   },
   {
    "duration": 1939,
    "start_time": "2024-11-22T00:29:30.437Z"
   },
   {
    "duration": 900,
    "start_time": "2024-11-22T00:29:32.378Z"
   },
   {
    "duration": 8,
    "start_time": "2024-11-22T00:29:33.279Z"
   },
   {
    "duration": 3,
    "start_time": "2024-11-22T00:29:33.289Z"
   },
   {
    "duration": 20,
    "start_time": "2024-11-22T00:29:33.293Z"
   },
   {
    "duration": 9,
    "start_time": "2024-11-22T00:29:33.314Z"
   },
   {
    "duration": 3,
    "start_time": "2024-11-22T00:29:33.325Z"
   },
   {
    "duration": 4,
    "start_time": "2024-11-22T00:29:33.330Z"
   },
   {
    "duration": 15,
    "start_time": "2024-11-22T00:29:33.336Z"
   },
   {
    "duration": 2574,
    "start_time": "2024-11-22T00:29:33.355Z"
   },
   {
    "duration": 2,
    "start_time": "2024-11-22T00:29:35.932Z"
   },
   {
    "duration": 4,
    "start_time": "2024-11-22T00:29:35.936Z"
   },
   {
    "duration": 9,
    "start_time": "2024-11-22T00:29:35.941Z"
   },
   {
    "duration": 8,
    "start_time": "2024-11-22T00:29:35.952Z"
   },
   {
    "duration": 37,
    "start_time": "2024-11-22T00:29:35.961Z"
   },
   {
    "duration": 29,
    "start_time": "2024-11-22T00:29:36.000Z"
   },
   {
    "duration": 30,
    "start_time": "2024-11-22T00:29:36.031Z"
   },
   {
    "duration": 32,
    "start_time": "2024-11-22T00:29:36.063Z"
   },
   {
    "duration": 13,
    "start_time": "2024-11-22T00:29:36.097Z"
   },
   {
    "duration": 18,
    "start_time": "2024-11-22T00:29:36.111Z"
   },
   {
    "duration": 5,
    "start_time": "2024-11-22T00:29:36.130Z"
   },
   {
    "duration": 5,
    "start_time": "2024-11-22T00:29:36.136Z"
   },
   {
    "duration": 6,
    "start_time": "2024-11-22T00:29:36.143Z"
   },
   {
    "duration": 336,
    "start_time": "2024-11-22T00:29:36.151Z"
   },
   {
    "duration": 376,
    "start_time": "2024-11-22T00:29:36.489Z"
   },
   {
    "duration": 126,
    "start_time": "2024-11-22T00:29:36.867Z"
   },
   {
    "duration": 3,
    "start_time": "2024-11-22T00:29:36.995Z"
   },
   {
    "duration": 18,
    "start_time": "2024-11-22T00:29:37.010Z"
   },
   {
    "duration": 3,
    "start_time": "2024-11-22T00:29:37.031Z"
   },
   {
    "duration": 4,
    "start_time": "2024-11-22T00:29:37.036Z"
   },
   {
    "duration": 0,
    "start_time": "2024-11-22T00:29:37.042Z"
   },
   {
    "duration": 0,
    "start_time": "2024-11-22T00:29:37.043Z"
   },
   {
    "duration": 0,
    "start_time": "2024-11-22T00:29:37.044Z"
   },
   {
    "duration": 0,
    "start_time": "2024-11-22T00:29:37.046Z"
   },
   {
    "duration": 0,
    "start_time": "2024-11-22T00:29:37.048Z"
   },
   {
    "duration": 0,
    "start_time": "2024-11-22T00:29:37.049Z"
   },
   {
    "duration": 0,
    "start_time": "2024-11-22T00:29:37.051Z"
   },
   {
    "duration": 0,
    "start_time": "2024-11-22T00:29:37.052Z"
   },
   {
    "duration": 0,
    "start_time": "2024-11-22T00:29:37.054Z"
   },
   {
    "duration": 0,
    "start_time": "2024-11-22T00:29:37.055Z"
   },
   {
    "duration": 0,
    "start_time": "2024-11-22T00:29:37.057Z"
   },
   {
    "duration": 0,
    "start_time": "2024-11-22T00:29:37.058Z"
   },
   {
    "duration": 0,
    "start_time": "2024-11-22T00:29:37.060Z"
   },
   {
    "duration": 0,
    "start_time": "2024-11-22T00:29:37.061Z"
   },
   {
    "duration": 3,
    "start_time": "2024-11-22T00:30:23.016Z"
   },
   {
    "duration": 3,
    "start_time": "2024-11-22T00:30:29.329Z"
   },
   {
    "duration": 4,
    "start_time": "2024-11-22T00:30:37.581Z"
   },
   {
    "duration": 3,
    "start_time": "2024-11-22T00:30:46.271Z"
   },
   {
    "duration": 6,
    "start_time": "2024-11-22T00:30:54.889Z"
   },
   {
    "duration": 4,
    "start_time": "2024-11-22T00:31:11.774Z"
   },
   {
    "duration": 3,
    "start_time": "2024-11-22T00:31:27.600Z"
   },
   {
    "duration": 3,
    "start_time": "2024-11-22T00:31:37.558Z"
   },
   {
    "duration": 5,
    "start_time": "2024-11-22T00:33:09.169Z"
   },
   {
    "duration": 4,
    "start_time": "2024-11-22T00:37:16.834Z"
   },
   {
    "duration": 267,
    "start_time": "2024-11-22T00:41:53.733Z"
   },
   {
    "duration": 2129,
    "start_time": "2024-11-22T00:42:00.905Z"
   },
   {
    "duration": 966,
    "start_time": "2024-11-22T00:42:03.037Z"
   },
   {
    "duration": 33,
    "start_time": "2024-11-22T00:42:04.004Z"
   },
   {
    "duration": 3,
    "start_time": "2024-11-22T00:42:04.039Z"
   },
   {
    "duration": 10,
    "start_time": "2024-11-22T00:42:04.045Z"
   },
   {
    "duration": 8,
    "start_time": "2024-11-22T00:42:04.057Z"
   },
   {
    "duration": 3,
    "start_time": "2024-11-22T00:42:04.067Z"
   },
   {
    "duration": 4,
    "start_time": "2024-11-22T00:42:04.072Z"
   },
   {
    "duration": 17,
    "start_time": "2024-11-22T00:42:04.077Z"
   },
   {
    "duration": 2704,
    "start_time": "2024-11-22T00:42:04.116Z"
   },
   {
    "duration": 5,
    "start_time": "2024-11-22T00:42:06.821Z"
   },
   {
    "duration": 12,
    "start_time": "2024-11-22T00:42:06.827Z"
   },
   {
    "duration": 9,
    "start_time": "2024-11-22T00:42:06.841Z"
   },
   {
    "duration": 7,
    "start_time": "2024-11-22T00:42:06.854Z"
   },
   {
    "duration": 17,
    "start_time": "2024-11-22T00:42:06.863Z"
   },
   {
    "duration": 16,
    "start_time": "2024-11-22T00:42:06.882Z"
   },
   {
    "duration": 15,
    "start_time": "2024-11-22T00:42:06.913Z"
   },
   {
    "duration": 14,
    "start_time": "2024-11-22T00:42:06.930Z"
   },
   {
    "duration": 4,
    "start_time": "2024-11-22T00:42:06.945Z"
   },
   {
    "duration": 10,
    "start_time": "2024-11-22T00:42:06.951Z"
   },
   {
    "duration": 4,
    "start_time": "2024-11-22T00:42:06.963Z"
   },
   {
    "duration": 5,
    "start_time": "2024-11-22T00:42:06.969Z"
   },
   {
    "duration": 61,
    "start_time": "2024-11-22T00:42:06.976Z"
   },
   {
    "duration": 402,
    "start_time": "2024-11-22T00:42:07.038Z"
   },
   {
    "duration": 439,
    "start_time": "2024-11-22T00:42:07.441Z"
   },
   {
    "duration": 152,
    "start_time": "2024-11-22T00:42:07.883Z"
   },
   {
    "duration": 2,
    "start_time": "2024-11-22T00:42:08.039Z"
   },
   {
    "duration": 21,
    "start_time": "2024-11-22T00:42:08.043Z"
   },
   {
    "duration": 4,
    "start_time": "2024-11-22T00:42:08.066Z"
   },
   {
    "duration": 3,
    "start_time": "2024-11-22T00:42:08.072Z"
   },
   {
    "duration": 5,
    "start_time": "2024-11-22T00:42:08.077Z"
   },
   {
    "duration": 47,
    "start_time": "2024-11-22T00:42:08.084Z"
   },
   {
    "duration": 8,
    "start_time": "2024-11-22T00:42:08.133Z"
   },
   {
    "duration": 5,
    "start_time": "2024-11-22T00:42:08.142Z"
   },
   {
    "duration": 3,
    "start_time": "2024-11-22T00:42:08.148Z"
   },
   {
    "duration": 4,
    "start_time": "2024-11-22T00:42:08.152Z"
   },
   {
    "duration": 58,
    "start_time": "2024-11-22T00:42:08.157Z"
   },
   {
    "duration": 10,
    "start_time": "2024-11-22T00:42:08.218Z"
   },
   {
    "duration": 9,
    "start_time": "2024-11-22T00:42:08.229Z"
   },
   {
    "duration": 3,
    "start_time": "2024-11-22T00:42:08.239Z"
   },
   {
    "duration": 62,
    "start_time": "2024-11-22T00:42:08.252Z"
   },
   {
    "duration": 5,
    "start_time": "2024-11-22T00:42:08.315Z"
   },
   {
    "duration": 4,
    "start_time": "2024-11-22T00:42:08.321Z"
   },
   {
    "duration": 18,
    "start_time": "2024-11-22T00:42:08.327Z"
   },
   {
    "duration": 170,
    "start_time": "2024-11-22T01:38:41.072Z"
   },
   {
    "duration": 3895,
    "start_time": "2024-11-22T01:38:48.384Z"
   },
   {
    "duration": 2887,
    "start_time": "2024-11-22T01:38:52.282Z"
   },
   {
    "duration": 12,
    "start_time": "2024-11-22T01:38:55.171Z"
   },
   {
    "duration": 3,
    "start_time": "2024-11-22T01:38:55.187Z"
   },
   {
    "duration": 25,
    "start_time": "2024-11-22T01:38:55.192Z"
   },
   {
    "duration": 11,
    "start_time": "2024-11-22T01:38:55.219Z"
   },
   {
    "duration": 4,
    "start_time": "2024-11-22T01:38:55.232Z"
   },
   {
    "duration": 4,
    "start_time": "2024-11-22T01:38:55.238Z"
   },
   {
    "duration": 17,
    "start_time": "2024-11-22T01:38:55.244Z"
   },
   {
    "duration": 2705,
    "start_time": "2024-11-22T01:38:55.265Z"
   },
   {
    "duration": 3,
    "start_time": "2024-11-22T01:38:57.972Z"
   },
   {
    "duration": 4,
    "start_time": "2024-11-22T01:38:57.977Z"
   },
   {
    "duration": 8,
    "start_time": "2024-11-22T01:38:57.983Z"
   },
   {
    "duration": 136,
    "start_time": "2024-11-22T01:38:57.993Z"
   },
   {
    "duration": 14,
    "start_time": "2024-11-22T01:38:58.131Z"
   },
   {
    "duration": 20,
    "start_time": "2024-11-22T01:38:58.147Z"
   },
   {
    "duration": 45,
    "start_time": "2024-11-22T01:38:58.170Z"
   },
   {
    "duration": 23,
    "start_time": "2024-11-22T01:38:58.217Z"
   },
   {
    "duration": 4,
    "start_time": "2024-11-22T01:38:58.242Z"
   },
   {
    "duration": 9,
    "start_time": "2024-11-22T01:38:58.248Z"
   },
   {
    "duration": 4,
    "start_time": "2024-11-22T01:38:58.259Z"
   },
   {
    "duration": 3,
    "start_time": "2024-11-22T01:38:58.265Z"
   },
   {
    "duration": 6,
    "start_time": "2024-11-22T01:38:58.306Z"
   },
   {
    "duration": 340,
    "start_time": "2024-11-22T01:38:58.314Z"
   },
   {
    "duration": 436,
    "start_time": "2024-11-22T01:38:58.656Z"
   },
   {
    "duration": 139,
    "start_time": "2024-11-22T01:38:59.095Z"
   },
   {
    "duration": 3,
    "start_time": "2024-11-22T01:38:59.236Z"
   },
   {
    "duration": 20,
    "start_time": "2024-11-22T01:38:59.243Z"
   },
   {
    "duration": 4,
    "start_time": "2024-11-22T01:38:59.265Z"
   },
   {
    "duration": 4,
    "start_time": "2024-11-22T01:38:59.271Z"
   },
   {
    "duration": 29,
    "start_time": "2024-11-22T01:38:59.277Z"
   },
   {
    "duration": 5,
    "start_time": "2024-11-22T01:38:59.308Z"
   },
   {
    "duration": 10,
    "start_time": "2024-11-22T01:38:59.315Z"
   },
   {
    "duration": 3,
    "start_time": "2024-11-22T01:38:59.327Z"
   },
   {
    "duration": 74,
    "start_time": "2024-11-22T01:38:59.332Z"
   },
   {
    "duration": 4,
    "start_time": "2024-11-22T01:38:59.408Z"
   },
   {
    "duration": 3,
    "start_time": "2024-11-22T01:38:59.413Z"
   },
   {
    "duration": 4,
    "start_time": "2024-11-22T01:38:59.418Z"
   },
   {
    "duration": 3,
    "start_time": "2024-11-22T01:38:59.424Z"
   },
   {
    "duration": 76,
    "start_time": "2024-11-22T01:38:59.429Z"
   },
   {
    "duration": 4,
    "start_time": "2024-11-22T01:38:59.507Z"
   },
   {
    "duration": 4,
    "start_time": "2024-11-22T01:38:59.512Z"
   },
   {
    "duration": 294,
    "start_time": "2024-11-22T01:38:59.518Z"
   },
   {
    "duration": 0,
    "start_time": "2024-11-22T01:38:59.814Z"
   },
   {
    "duration": 4,
    "start_time": "2024-11-22T01:40:21.525Z"
   },
   {
    "duration": 4,
    "start_time": "2024-11-22T01:40:24.334Z"
   },
   {
    "duration": 3,
    "start_time": "2024-11-22T01:44:20.178Z"
   },
   {
    "duration": 4,
    "start_time": "2024-11-22T01:44:33.081Z"
   },
   {
    "duration": 2,
    "start_time": "2024-11-22T01:44:41.404Z"
   },
   {
    "duration": 18,
    "start_time": "2024-11-22T01:49:48.100Z"
   },
   {
    "duration": 7,
    "start_time": "2024-11-22T01:50:05.317Z"
   },
   {
    "duration": 6,
    "start_time": "2024-11-22T01:51:00.143Z"
   },
   {
    "duration": 7,
    "start_time": "2024-11-22T01:51:05.364Z"
   },
   {
    "duration": 6,
    "start_time": "2024-11-22T01:53:30.104Z"
   },
   {
    "duration": 8,
    "start_time": "2024-11-22T01:54:04.155Z"
   },
   {
    "duration": 3,
    "start_time": "2024-11-22T01:55:05.134Z"
   },
   {
    "duration": 3,
    "start_time": "2024-11-22T01:55:40.311Z"
   },
   {
    "duration": 4,
    "start_time": "2024-11-22T01:57:06.184Z"
   },
   {
    "duration": 6,
    "start_time": "2024-11-22T01:57:08.657Z"
   },
   {
    "duration": 4,
    "start_time": "2024-11-22T01:57:21.155Z"
   },
   {
    "duration": 6,
    "start_time": "2024-11-22T01:57:24.396Z"
   },
   {
    "duration": 5,
    "start_time": "2024-11-22T01:57:41.495Z"
   },
   {
    "duration": 2,
    "start_time": "2024-11-22T01:58:17.167Z"
   },
   {
    "duration": 3,
    "start_time": "2024-11-22T01:58:34.324Z"
   },
   {
    "duration": 6,
    "start_time": "2024-11-22T01:59:49.500Z"
   },
   {
    "duration": 7,
    "start_time": "2024-11-22T02:00:04.391Z"
   },
   {
    "duration": 5,
    "start_time": "2024-11-22T02:00:58.303Z"
   },
   {
    "duration": 4,
    "start_time": "2024-11-22T02:01:05.884Z"
   },
   {
    "duration": 5,
    "start_time": "2024-11-22T02:01:12.347Z"
   },
   {
    "duration": 3,
    "start_time": "2024-11-22T02:03:20.979Z"
   },
   {
    "duration": 5,
    "start_time": "2024-11-22T02:03:23.731Z"
   },
   {
    "duration": 9,
    "start_time": "2024-11-22T02:03:29.418Z"
   },
   {
    "duration": 7,
    "start_time": "2024-11-22T02:04:05.206Z"
   },
   {
    "duration": 6,
    "start_time": "2024-11-22T02:06:07.231Z"
   },
   {
    "duration": 5,
    "start_time": "2024-11-22T02:06:20.301Z"
   },
   {
    "duration": 3,
    "start_time": "2024-11-22T02:06:30.855Z"
   },
   {
    "duration": 4,
    "start_time": "2024-11-22T02:09:26.885Z"
   },
   {
    "duration": 9,
    "start_time": "2024-11-22T02:11:44.899Z"
   },
   {
    "duration": 7,
    "start_time": "2024-11-22T02:12:44.732Z"
   },
   {
    "duration": 3,
    "start_time": "2024-11-22T02:15:58.410Z"
   },
   {
    "duration": 3,
    "start_time": "2024-11-22T02:17:00.541Z"
   },
   {
    "duration": 3,
    "start_time": "2024-11-22T02:17:20.422Z"
   },
   {
    "duration": 14,
    "start_time": "2024-11-22T03:35:11.078Z"
   },
   {
    "duration": 15,
    "start_time": "2024-11-22T03:36:50.109Z"
   },
   {
    "duration": 1956,
    "start_time": "2024-11-22T03:39:34.831Z"
   },
   {
    "duration": 919,
    "start_time": "2024-11-22T03:39:36.790Z"
   },
   {
    "duration": 8,
    "start_time": "2024-11-22T03:39:37.711Z"
   },
   {
    "duration": 3,
    "start_time": "2024-11-22T03:39:37.722Z"
   },
   {
    "duration": 9,
    "start_time": "2024-11-22T03:39:37.727Z"
   },
   {
    "duration": 8,
    "start_time": "2024-11-22T03:39:37.738Z"
   },
   {
    "duration": 3,
    "start_time": "2024-11-22T03:39:37.748Z"
   },
   {
    "duration": 4,
    "start_time": "2024-11-22T03:39:37.753Z"
   },
   {
    "duration": 48,
    "start_time": "2024-11-22T03:39:37.758Z"
   },
   {
    "duration": 2580,
    "start_time": "2024-11-22T03:39:37.809Z"
   },
   {
    "duration": 3,
    "start_time": "2024-11-22T03:39:40.391Z"
   },
   {
    "duration": 4,
    "start_time": "2024-11-22T03:39:40.396Z"
   },
   {
    "duration": 8,
    "start_time": "2024-11-22T03:39:40.403Z"
   },
   {
    "duration": 9,
    "start_time": "2024-11-22T03:39:40.412Z"
   },
   {
    "duration": 14,
    "start_time": "2024-11-22T03:39:40.422Z"
   },
   {
    "duration": 14,
    "start_time": "2024-11-22T03:39:40.437Z"
   },
   {
    "duration": 14,
    "start_time": "2024-11-22T03:39:40.453Z"
   },
   {
    "duration": 47,
    "start_time": "2024-11-22T03:39:40.469Z"
   },
   {
    "duration": 3,
    "start_time": "2024-11-22T03:39:40.518Z"
   },
   {
    "duration": 8,
    "start_time": "2024-11-22T03:39:40.523Z"
   },
   {
    "duration": 3,
    "start_time": "2024-11-22T03:39:40.533Z"
   },
   {
    "duration": 4,
    "start_time": "2024-11-22T03:39:40.537Z"
   },
   {
    "duration": 5,
    "start_time": "2024-11-22T03:39:40.543Z"
   },
   {
    "duration": 384,
    "start_time": "2024-11-22T03:39:40.550Z"
   },
   {
    "duration": 396,
    "start_time": "2024-11-22T03:39:40.936Z"
   },
   {
    "duration": 128,
    "start_time": "2024-11-22T03:39:41.333Z"
   },
   {
    "duration": 3,
    "start_time": "2024-11-22T03:39:41.462Z"
   },
   {
    "duration": 18,
    "start_time": "2024-11-22T03:39:41.469Z"
   },
   {
    "duration": 16,
    "start_time": "2024-11-22T03:39:41.489Z"
   },
   {
    "duration": 4,
    "start_time": "2024-11-22T03:39:41.506Z"
   },
   {
    "duration": 5,
    "start_time": "2024-11-22T03:39:41.511Z"
   },
   {
    "duration": 14,
    "start_time": "2024-11-22T03:39:41.517Z"
   },
   {
    "duration": 76,
    "start_time": "2024-11-22T03:39:41.532Z"
   },
   {
    "duration": 7,
    "start_time": "2024-11-22T03:39:41.610Z"
   },
   {
    "duration": 6,
    "start_time": "2024-11-22T03:39:41.618Z"
   },
   {
    "duration": 79,
    "start_time": "2024-11-22T03:39:41.625Z"
   },
   {
    "duration": 3,
    "start_time": "2024-11-22T03:39:41.706Z"
   },
   {
    "duration": 4,
    "start_time": "2024-11-22T03:39:41.711Z"
   },
   {
    "duration": 3,
    "start_time": "2024-11-22T03:39:41.716Z"
   },
   {
    "duration": 3,
    "start_time": "2024-11-22T03:39:41.721Z"
   },
   {
    "duration": 4,
    "start_time": "2024-11-22T03:39:41.725Z"
   },
   {
    "duration": 4,
    "start_time": "2024-11-22T03:39:41.806Z"
   },
   {
    "duration": 4,
    "start_time": "2024-11-22T03:39:41.812Z"
   },
   {
    "duration": 7,
    "start_time": "2024-11-22T03:39:41.818Z"
   },
   {
    "duration": 2,
    "start_time": "2024-11-22T03:39:41.828Z"
   },
   {
    "duration": 76,
    "start_time": "2024-11-22T03:39:41.832Z"
   },
   {
    "duration": 5,
    "start_time": "2024-11-22T03:39:41.910Z"
   },
   {
    "duration": 157,
    "start_time": "2024-11-23T17:34:38.876Z"
   },
   {
    "duration": 3611,
    "start_time": "2024-11-23T17:41:12.449Z"
   },
   {
    "duration": 2652,
    "start_time": "2024-11-23T17:41:16.063Z"
   },
   {
    "duration": 12,
    "start_time": "2024-11-23T17:41:18.717Z"
   },
   {
    "duration": 3,
    "start_time": "2024-11-23T17:41:18.732Z"
   },
   {
    "duration": 11,
    "start_time": "2024-11-23T17:41:18.737Z"
   },
   {
    "duration": 9,
    "start_time": "2024-11-23T17:41:18.750Z"
   },
   {
    "duration": 3,
    "start_time": "2024-11-23T17:41:18.760Z"
   },
   {
    "duration": 4,
    "start_time": "2024-11-23T17:41:18.765Z"
   },
   {
    "duration": 17,
    "start_time": "2024-11-23T17:41:18.770Z"
   },
   {
    "duration": 2505,
    "start_time": "2024-11-23T17:41:18.823Z"
   },
   {
    "duration": 3,
    "start_time": "2024-11-23T17:41:21.330Z"
   },
   {
    "duration": 4,
    "start_time": "2024-11-23T17:41:21.334Z"
   },
   {
    "duration": 8,
    "start_time": "2024-11-23T17:41:21.340Z"
   },
   {
    "duration": 7,
    "start_time": "2024-11-23T17:41:21.350Z"
   },
   {
    "duration": 97,
    "start_time": "2024-11-23T17:41:21.360Z"
   },
   {
    "duration": 13,
    "start_time": "2024-11-23T17:41:21.458Z"
   },
   {
    "duration": 20,
    "start_time": "2024-11-23T17:41:21.472Z"
   },
   {
    "duration": 48,
    "start_time": "2024-11-23T17:41:21.494Z"
   },
   {
    "duration": 4,
    "start_time": "2024-11-23T17:41:21.543Z"
   },
   {
    "duration": 8,
    "start_time": "2024-11-23T17:41:21.549Z"
   },
   {
    "duration": 3,
    "start_time": "2024-11-23T17:41:21.559Z"
   },
   {
    "duration": 3,
    "start_time": "2024-11-23T17:41:21.564Z"
   },
   {
    "duration": 4,
    "start_time": "2024-11-23T17:41:21.569Z"
   },
   {
    "duration": 354,
    "start_time": "2024-11-23T17:41:21.575Z"
   },
   {
    "duration": 395,
    "start_time": "2024-11-23T17:41:21.930Z"
   },
   {
    "duration": 126,
    "start_time": "2024-11-23T17:41:22.326Z"
   },
   {
    "duration": 3,
    "start_time": "2024-11-23T17:41:22.454Z"
   },
   {
    "duration": 17,
    "start_time": "2024-11-23T17:41:22.461Z"
   },
   {
    "duration": 3,
    "start_time": "2024-11-23T17:41:22.480Z"
   },
   {
    "duration": 4,
    "start_time": "2024-11-23T17:41:22.485Z"
   },
   {
    "duration": 4,
    "start_time": "2024-11-23T17:41:22.491Z"
   },
   {
    "duration": 36,
    "start_time": "2024-11-23T17:41:22.497Z"
   },
   {
    "duration": 7,
    "start_time": "2024-11-23T17:41:22.534Z"
   },
   {
    "duration": 3,
    "start_time": "2024-11-23T17:41:22.543Z"
   },
   {
    "duration": 76,
    "start_time": "2024-11-23T17:41:22.548Z"
   },
   {
    "duration": 3,
    "start_time": "2024-11-23T17:41:22.626Z"
   },
   {
    "duration": 4,
    "start_time": "2024-11-23T17:41:22.631Z"
   },
   {
    "duration": 4,
    "start_time": "2024-11-23T17:41:22.636Z"
   },
   {
    "duration": 4,
    "start_time": "2024-11-23T17:41:22.642Z"
   },
   {
    "duration": 84,
    "start_time": "2024-11-23T17:41:22.648Z"
   },
   {
    "duration": 3,
    "start_time": "2024-11-23T17:41:22.733Z"
   },
   {
    "duration": 2,
    "start_time": "2024-11-23T17:41:22.738Z"
   },
   {
    "duration": 4,
    "start_time": "2024-11-23T17:41:22.742Z"
   },
   {
    "duration": 2,
    "start_time": "2024-11-23T17:41:22.747Z"
   },
   {
    "duration": 2,
    "start_time": "2024-11-23T17:41:22.751Z"
   },
   {
    "duration": 8,
    "start_time": "2024-11-23T17:41:22.825Z"
   },
   {
    "duration": 3,
    "start_time": "2024-11-23T17:41:22.834Z"
   }
  ],
  "kernelspec": {
   "display_name": "base",
   "language": "python",
   "name": "python3"
  },
  "language_info": {
   "codemirror_mode": {
    "name": "ipython",
    "version": 3
   },
   "file_extension": ".py",
   "mimetype": "text/x-python",
   "name": "python",
   "nbconvert_exporter": "python",
   "pygments_lexer": "ipython3",
   "version": "3.11.7"
  },
  "toc": {
   "base_numbering": 1,
   "nav_menu": {},
   "number_sections": true,
   "sideBar": true,
   "skip_h1_title": true,
   "title_cell": "Table of Contents",
   "title_sidebar": "Contents",
   "toc_cell": false,
   "toc_position": {},
   "toc_section_display": true,
   "toc_window_display": false
  }
 },
 "nbformat": 4,
 "nbformat_minor": 4
}
